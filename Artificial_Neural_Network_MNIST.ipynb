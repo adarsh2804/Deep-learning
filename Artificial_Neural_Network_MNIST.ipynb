{
 "cells": [
  {
   "cell_type": "code",
   "execution_count": 2,
   "id": "a97d6219",
   "metadata": {},
   "outputs": [],
   "source": [
    "import torch\n",
    "import torch.nn as nn\n",
    "import torch.nn.functional as F"
   ]
  },
  {
   "cell_type": "code",
   "execution_count": 5,
   "id": "e47ad957",
   "metadata": {},
   "outputs": [],
   "source": [
    "from torch.utils.data import DataLoader\n",
    "from torchvision import datasets,transforms"
   ]
  },
  {
   "cell_type": "code",
   "execution_count": 3,
   "id": "7d488cfd",
   "metadata": {},
   "outputs": [],
   "source": [
    "import numpy as np\n",
    "import pandas as pd\n",
    "from sklearn.metrics import confusion_matrix\n",
    "import matplotlib.pyplot as plt\n",
    "%matplotlib inline"
   ]
  },
  {
   "cell_type": "code",
   "execution_count": 6,
   "id": "4e2f7fa4",
   "metadata": {},
   "outputs": [],
   "source": [
    "transform = transforms.ToTensor()"
   ]
  },
  {
   "cell_type": "code",
   "execution_count": 7,
   "id": "8c5d3b1a",
   "metadata": {},
   "outputs": [],
   "source": [
    "train_data = datasets.MNIST(root = '../Data' , train= True, download= True, transform = transform) "
   ]
  },
  {
   "cell_type": "code",
   "execution_count": 9,
   "id": "c07247e3",
   "metadata": {},
   "outputs": [],
   "source": [
    "test_data = datasets.MNIST(root = '../Data' , train= False, download= True, transform = transform)"
   ]
  },
  {
   "cell_type": "code",
   "execution_count": 10,
   "id": "8b7f8222",
   "metadata": {},
   "outputs": [
    {
     "data": {
      "text/plain": [
       "Dataset MNIST\n",
       "    Number of datapoints: 60000\n",
       "    Split: train\n",
       "    Root Location: ../Data\n",
       "    Transforms (if any): ToTensor()\n",
       "    Target Transforms (if any): None"
      ]
     },
     "execution_count": 10,
     "metadata": {},
     "output_type": "execute_result"
    }
   ],
   "source": [
    "train_data"
   ]
  },
  {
   "cell_type": "code",
   "execution_count": 11,
   "id": "307c0185",
   "metadata": {},
   "outputs": [
    {
     "data": {
      "text/plain": [
       "Dataset MNIST\n",
       "    Number of datapoints: 10000\n",
       "    Split: test\n",
       "    Root Location: ../Data\n",
       "    Transforms (if any): ToTensor()\n",
       "    Target Transforms (if any): None"
      ]
     },
     "execution_count": 11,
     "metadata": {},
     "output_type": "execute_result"
    }
   ],
   "source": [
    "test_data"
   ]
  },
  {
   "cell_type": "code",
   "execution_count": 12,
   "id": "049a871b",
   "metadata": {},
   "outputs": [
    {
     "data": {
      "text/plain": [
       "torchvision.datasets.mnist.MNIST"
      ]
     },
     "execution_count": 12,
     "metadata": {},
     "output_type": "execute_result"
    }
   ],
   "source": [
    "type(train_data)"
   ]
  },
  {
   "cell_type": "code",
   "execution_count": 13,
   "id": "d3242128",
   "metadata": {},
   "outputs": [
    {
     "data": {
      "text/plain": [
       "tuple"
      ]
     },
     "execution_count": 13,
     "metadata": {},
     "output_type": "execute_result"
    }
   ],
   "source": [
    "type(train_data[0])"
   ]
  },
  {
   "cell_type": "code",
   "execution_count": 14,
   "id": "5a2a48b1",
   "metadata": {},
   "outputs": [
    {
     "data": {
      "text/plain": [
       "torch.Size([1, 28, 28])"
      ]
     },
     "execution_count": 14,
     "metadata": {},
     "output_type": "execute_result"
    }
   ],
   "source": [
    "train_data[0][0].shape"
   ]
  },
  {
   "cell_type": "code",
   "execution_count": 15,
   "id": "8fdf7987",
   "metadata": {},
   "outputs": [
    {
     "data": {
      "text/plain": [
       "5"
      ]
     },
     "execution_count": 15,
     "metadata": {},
     "output_type": "execute_result"
    }
   ],
   "source": [
    "train_data[0][1]"
   ]
  },
  {
   "cell_type": "code",
   "execution_count": 16,
   "id": "f4f354be",
   "metadata": {},
   "outputs": [],
   "source": [
    "image,label = train_data[0]"
   ]
  },
  {
   "cell_type": "code",
   "execution_count": 17,
   "id": "3d47e705",
   "metadata": {},
   "outputs": [
    {
     "data": {
      "text/plain": [
       "tensor([[[0.0000, 0.0000, 0.0000, 0.0000, 0.0000, 0.0000, 0.0000, 0.0000,\n",
       "          0.0000, 0.0000, 0.0000, 0.0000, 0.0000, 0.0000, 0.0000, 0.0000,\n",
       "          0.0000, 0.0000, 0.0000, 0.0000, 0.0000, 0.0000, 0.0000, 0.0000,\n",
       "          0.0000, 0.0000, 0.0000, 0.0000],\n",
       "         [0.0000, 0.0000, 0.0000, 0.0000, 0.0000, 0.0000, 0.0000, 0.0000,\n",
       "          0.0000, 0.0000, 0.0000, 0.0000, 0.0000, 0.0000, 0.0000, 0.0000,\n",
       "          0.0000, 0.0000, 0.0000, 0.0000, 0.0000, 0.0000, 0.0000, 0.0000,\n",
       "          0.0000, 0.0000, 0.0000, 0.0000],\n",
       "         [0.0000, 0.0000, 0.0000, 0.0000, 0.0000, 0.0000, 0.0000, 0.0000,\n",
       "          0.0000, 0.0000, 0.0000, 0.0000, 0.0000, 0.0000, 0.0000, 0.0000,\n",
       "          0.0000, 0.0000, 0.0000, 0.0000, 0.0000, 0.0000, 0.0000, 0.0000,\n",
       "          0.0000, 0.0000, 0.0000, 0.0000],\n",
       "         [0.0000, 0.0000, 0.0000, 0.0000, 0.0000, 0.0000, 0.0000, 0.0000,\n",
       "          0.0000, 0.0000, 0.0000, 0.0000, 0.0000, 0.0000, 0.0000, 0.0000,\n",
       "          0.0000, 0.0000, 0.0000, 0.0000, 0.0000, 0.0000, 0.0000, 0.0000,\n",
       "          0.0000, 0.0000, 0.0000, 0.0000],\n",
       "         [0.0000, 0.0000, 0.0000, 0.0000, 0.0000, 0.0000, 0.0000, 0.0000,\n",
       "          0.0000, 0.0000, 0.0000, 0.0000, 0.0000, 0.0000, 0.0000, 0.0000,\n",
       "          0.0000, 0.0000, 0.0000, 0.0000, 0.0000, 0.0000, 0.0000, 0.0000,\n",
       "          0.0000, 0.0000, 0.0000, 0.0000],\n",
       "         [0.0000, 0.0000, 0.0000, 0.0000, 0.0000, 0.0000, 0.0000, 0.0000,\n",
       "          0.0000, 0.0000, 0.0000, 0.0000, 0.0118, 0.0706, 0.0706, 0.0706,\n",
       "          0.4941, 0.5333, 0.6863, 0.1020, 0.6510, 1.0000, 0.9686, 0.4980,\n",
       "          0.0000, 0.0000, 0.0000, 0.0000],\n",
       "         [0.0000, 0.0000, 0.0000, 0.0000, 0.0000, 0.0000, 0.0000, 0.0000,\n",
       "          0.1176, 0.1412, 0.3686, 0.6039, 0.6667, 0.9922, 0.9922, 0.9922,\n",
       "          0.9922, 0.9922, 0.8824, 0.6745, 0.9922, 0.9490, 0.7647, 0.2510,\n",
       "          0.0000, 0.0000, 0.0000, 0.0000],\n",
       "         [0.0000, 0.0000, 0.0000, 0.0000, 0.0000, 0.0000, 0.0000, 0.1922,\n",
       "          0.9333, 0.9922, 0.9922, 0.9922, 0.9922, 0.9922, 0.9922, 0.9922,\n",
       "          0.9922, 0.9843, 0.3647, 0.3216, 0.3216, 0.2196, 0.1529, 0.0000,\n",
       "          0.0000, 0.0000, 0.0000, 0.0000],\n",
       "         [0.0000, 0.0000, 0.0000, 0.0000, 0.0000, 0.0000, 0.0000, 0.0706,\n",
       "          0.8588, 0.9922, 0.9922, 0.9922, 0.9922, 0.9922, 0.7765, 0.7137,\n",
       "          0.9686, 0.9451, 0.0000, 0.0000, 0.0000, 0.0000, 0.0000, 0.0000,\n",
       "          0.0000, 0.0000, 0.0000, 0.0000],\n",
       "         [0.0000, 0.0000, 0.0000, 0.0000, 0.0000, 0.0000, 0.0000, 0.0000,\n",
       "          0.3137, 0.6118, 0.4196, 0.9922, 0.9922, 0.8039, 0.0431, 0.0000,\n",
       "          0.1686, 0.6039, 0.0000, 0.0000, 0.0000, 0.0000, 0.0000, 0.0000,\n",
       "          0.0000, 0.0000, 0.0000, 0.0000],\n",
       "         [0.0000, 0.0000, 0.0000, 0.0000, 0.0000, 0.0000, 0.0000, 0.0000,\n",
       "          0.0000, 0.0549, 0.0039, 0.6039, 0.9922, 0.3529, 0.0000, 0.0000,\n",
       "          0.0000, 0.0000, 0.0000, 0.0000, 0.0000, 0.0000, 0.0000, 0.0000,\n",
       "          0.0000, 0.0000, 0.0000, 0.0000],\n",
       "         [0.0000, 0.0000, 0.0000, 0.0000, 0.0000, 0.0000, 0.0000, 0.0000,\n",
       "          0.0000, 0.0000, 0.0000, 0.5451, 0.9922, 0.7451, 0.0078, 0.0000,\n",
       "          0.0000, 0.0000, 0.0000, 0.0000, 0.0000, 0.0000, 0.0000, 0.0000,\n",
       "          0.0000, 0.0000, 0.0000, 0.0000],\n",
       "         [0.0000, 0.0000, 0.0000, 0.0000, 0.0000, 0.0000, 0.0000, 0.0000,\n",
       "          0.0000, 0.0000, 0.0000, 0.0431, 0.7451, 0.9922, 0.2745, 0.0000,\n",
       "          0.0000, 0.0000, 0.0000, 0.0000, 0.0000, 0.0000, 0.0000, 0.0000,\n",
       "          0.0000, 0.0000, 0.0000, 0.0000],\n",
       "         [0.0000, 0.0000, 0.0000, 0.0000, 0.0000, 0.0000, 0.0000, 0.0000,\n",
       "          0.0000, 0.0000, 0.0000, 0.0000, 0.1373, 0.9451, 0.8824, 0.6275,\n",
       "          0.4235, 0.0039, 0.0000, 0.0000, 0.0000, 0.0000, 0.0000, 0.0000,\n",
       "          0.0000, 0.0000, 0.0000, 0.0000],\n",
       "         [0.0000, 0.0000, 0.0000, 0.0000, 0.0000, 0.0000, 0.0000, 0.0000,\n",
       "          0.0000, 0.0000, 0.0000, 0.0000, 0.0000, 0.3176, 0.9412, 0.9922,\n",
       "          0.9922, 0.4667, 0.0980, 0.0000, 0.0000, 0.0000, 0.0000, 0.0000,\n",
       "          0.0000, 0.0000, 0.0000, 0.0000],\n",
       "         [0.0000, 0.0000, 0.0000, 0.0000, 0.0000, 0.0000, 0.0000, 0.0000,\n",
       "          0.0000, 0.0000, 0.0000, 0.0000, 0.0000, 0.0000, 0.1765, 0.7294,\n",
       "          0.9922, 0.9922, 0.5882, 0.1059, 0.0000, 0.0000, 0.0000, 0.0000,\n",
       "          0.0000, 0.0000, 0.0000, 0.0000],\n",
       "         [0.0000, 0.0000, 0.0000, 0.0000, 0.0000, 0.0000, 0.0000, 0.0000,\n",
       "          0.0000, 0.0000, 0.0000, 0.0000, 0.0000, 0.0000, 0.0000, 0.0627,\n",
       "          0.3647, 0.9882, 0.9922, 0.7333, 0.0000, 0.0000, 0.0000, 0.0000,\n",
       "          0.0000, 0.0000, 0.0000, 0.0000],\n",
       "         [0.0000, 0.0000, 0.0000, 0.0000, 0.0000, 0.0000, 0.0000, 0.0000,\n",
       "          0.0000, 0.0000, 0.0000, 0.0000, 0.0000, 0.0000, 0.0000, 0.0000,\n",
       "          0.0000, 0.9765, 0.9922, 0.9765, 0.2510, 0.0000, 0.0000, 0.0000,\n",
       "          0.0000, 0.0000, 0.0000, 0.0000],\n",
       "         [0.0000, 0.0000, 0.0000, 0.0000, 0.0000, 0.0000, 0.0000, 0.0000,\n",
       "          0.0000, 0.0000, 0.0000, 0.0000, 0.0000, 0.0000, 0.1804, 0.5098,\n",
       "          0.7176, 0.9922, 0.9922, 0.8118, 0.0078, 0.0000, 0.0000, 0.0000,\n",
       "          0.0000, 0.0000, 0.0000, 0.0000],\n",
       "         [0.0000, 0.0000, 0.0000, 0.0000, 0.0000, 0.0000, 0.0000, 0.0000,\n",
       "          0.0000, 0.0000, 0.0000, 0.0000, 0.1529, 0.5804, 0.8980, 0.9922,\n",
       "          0.9922, 0.9922, 0.9804, 0.7137, 0.0000, 0.0000, 0.0000, 0.0000,\n",
       "          0.0000, 0.0000, 0.0000, 0.0000],\n",
       "         [0.0000, 0.0000, 0.0000, 0.0000, 0.0000, 0.0000, 0.0000, 0.0000,\n",
       "          0.0000, 0.0000, 0.0941, 0.4471, 0.8667, 0.9922, 0.9922, 0.9922,\n",
       "          0.9922, 0.7882, 0.3059, 0.0000, 0.0000, 0.0000, 0.0000, 0.0000,\n",
       "          0.0000, 0.0000, 0.0000, 0.0000],\n",
       "         [0.0000, 0.0000, 0.0000, 0.0000, 0.0000, 0.0000, 0.0000, 0.0000,\n",
       "          0.0902, 0.2588, 0.8353, 0.9922, 0.9922, 0.9922, 0.9922, 0.7765,\n",
       "          0.3176, 0.0078, 0.0000, 0.0000, 0.0000, 0.0000, 0.0000, 0.0000,\n",
       "          0.0000, 0.0000, 0.0000, 0.0000],\n",
       "         [0.0000, 0.0000, 0.0000, 0.0000, 0.0000, 0.0000, 0.0706, 0.6706,\n",
       "          0.8588, 0.9922, 0.9922, 0.9922, 0.9922, 0.7647, 0.3137, 0.0353,\n",
       "          0.0000, 0.0000, 0.0000, 0.0000, 0.0000, 0.0000, 0.0000, 0.0000,\n",
       "          0.0000, 0.0000, 0.0000, 0.0000],\n",
       "         [0.0000, 0.0000, 0.0000, 0.0000, 0.2157, 0.6745, 0.8863, 0.9922,\n",
       "          0.9922, 0.9922, 0.9922, 0.9569, 0.5216, 0.0431, 0.0000, 0.0000,\n",
       "          0.0000, 0.0000, 0.0000, 0.0000, 0.0000, 0.0000, 0.0000, 0.0000,\n",
       "          0.0000, 0.0000, 0.0000, 0.0000],\n",
       "         [0.0000, 0.0000, 0.0000, 0.0000, 0.5333, 0.9922, 0.9922, 0.9922,\n",
       "          0.8314, 0.5294, 0.5176, 0.0627, 0.0000, 0.0000, 0.0000, 0.0000,\n",
       "          0.0000, 0.0000, 0.0000, 0.0000, 0.0000, 0.0000, 0.0000, 0.0000,\n",
       "          0.0000, 0.0000, 0.0000, 0.0000],\n",
       "         [0.0000, 0.0000, 0.0000, 0.0000, 0.0000, 0.0000, 0.0000, 0.0000,\n",
       "          0.0000, 0.0000, 0.0000, 0.0000, 0.0000, 0.0000, 0.0000, 0.0000,\n",
       "          0.0000, 0.0000, 0.0000, 0.0000, 0.0000, 0.0000, 0.0000, 0.0000,\n",
       "          0.0000, 0.0000, 0.0000, 0.0000],\n",
       "         [0.0000, 0.0000, 0.0000, 0.0000, 0.0000, 0.0000, 0.0000, 0.0000,\n",
       "          0.0000, 0.0000, 0.0000, 0.0000, 0.0000, 0.0000, 0.0000, 0.0000,\n",
       "          0.0000, 0.0000, 0.0000, 0.0000, 0.0000, 0.0000, 0.0000, 0.0000,\n",
       "          0.0000, 0.0000, 0.0000, 0.0000],\n",
       "         [0.0000, 0.0000, 0.0000, 0.0000, 0.0000, 0.0000, 0.0000, 0.0000,\n",
       "          0.0000, 0.0000, 0.0000, 0.0000, 0.0000, 0.0000, 0.0000, 0.0000,\n",
       "          0.0000, 0.0000, 0.0000, 0.0000, 0.0000, 0.0000, 0.0000, 0.0000,\n",
       "          0.0000, 0.0000, 0.0000, 0.0000]]])"
      ]
     },
     "execution_count": 17,
     "metadata": {},
     "output_type": "execute_result"
    }
   ],
   "source": [
    "image"
   ]
  },
  {
   "cell_type": "code",
   "execution_count": 18,
   "id": "f5694e9e",
   "metadata": {},
   "outputs": [
    {
     "data": {
      "text/plain": [
       "5"
      ]
     },
     "execution_count": 18,
     "metadata": {},
     "output_type": "execute_result"
    }
   ],
   "source": [
    "label"
   ]
  },
  {
   "cell_type": "code",
   "execution_count": 19,
   "id": "43fbe8e5",
   "metadata": {},
   "outputs": [
    {
     "data": {
      "text/plain": [
       "<matplotlib.image.AxesImage at 0x2c0254ed898>"
      ]
     },
     "execution_count": 19,
     "metadata": {},
     "output_type": "execute_result"
    },
    {
     "data": {
      "image/png": "[encoded data removed]",
      "text/plain": [
       "<Figure size 432x288 with 1 Axes>"
      ]
     },
     "metadata": {
      "needs_background": "light"
     },
     "output_type": "display_data"
    }
   ],
   "source": [
    "plt.imshow(image.reshape((28,28)))"
   ]
  },
  {
   "cell_type": "code",
   "execution_count": 20,
   "id": "0ee913e1",
   "metadata": {},
   "outputs": [
    {
     "data": {
      "text/plain": [
       "<matplotlib.image.AxesImage at 0x2c025562978>"
      ]
     },
     "execution_count": 20,
     "metadata": {},
     "output_type": "execute_result"
    },
    {
     "data": {
      "image/png": "[encoded data removed]",
      "text/plain": [
       "<Figure size 432x288 with 1 Axes>"
      ]
     },
     "metadata": {
      "needs_background": "light"
     },
     "output_type": "display_data"
    }
   ],
   "source": [
    "plt.imshow(image.reshape((28,28)),cmap= \"gray\")"
   ]
  },
  {
   "cell_type": "code",
   "execution_count": 21,
   "id": "d3ce61ed",
   "metadata": {},
   "outputs": [
    {
     "data": {
      "text/plain": [
       "<matplotlib.image.AxesImage at 0x2c02569ea20>"
      ]
     },
     "execution_count": 21,
     "metadata": {},
     "output_type": "execute_result"
    },
    {
     "data": {
      "image/png": "[encoded data removed]",
      "text/plain": [
       "<Figure size 432x288 with 1 Axes>"
      ]
     },
     "metadata": {
      "needs_background": "light"
     },
     "output_type": "display_data"
    }
   ],
   "source": [
    "plt.imshow(image.reshape((28,28)),cmap= \"gist_yarg\")"
   ]
  },
  {
   "cell_type": "code",
   "execution_count": 23,
   "id": "324761c3",
   "metadata": {},
   "outputs": [],
   "source": [
    "torch.manual_seed(101)\n",
    "train_loader = DataLoader(train_data,batch_size=100,shuffle = True)\n",
    "test_loader = DataLoader(test_data,batch_size=500,shuffle = False)"
   ]
  },
  {
   "cell_type": "code",
   "execution_count": 24,
   "id": "efd15efd",
   "metadata": {},
   "outputs": [],
   "source": [
    "# for grabbing the first batch\n",
    "for images,label in train_loader:\n",
    "    break"
   ]
  },
  {
   "cell_type": "code",
   "execution_count": 25,
   "id": "0882056b",
   "metadata": {},
   "outputs": [
    {
     "data": {
      "text/plain": [
       "tensor([[[[0., 0., 0.,  ..., 0., 0., 0.],\n",
       "          [0., 0., 0.,  ..., 0., 0., 0.],\n",
       "          [0., 0., 0.,  ..., 0., 0., 0.],\n",
       "          ...,\n",
       "          [0., 0., 0.,  ..., 0., 0., 0.],\n",
       "          [0., 0., 0.,  ..., 0., 0., 0.],\n",
       "          [0., 0., 0.,  ..., 0., 0., 0.]]],\n",
       "\n",
       "\n",
       "        [[[0., 0., 0.,  ..., 0., 0., 0.],\n",
       "          [0., 0., 0.,  ..., 0., 0., 0.],\n",
       "          [0., 0., 0.,  ..., 0., 0., 0.],\n",
       "          ...,\n",
       "          [0., 0., 0.,  ..., 0., 0., 0.],\n",
       "          [0., 0., 0.,  ..., 0., 0., 0.],\n",
       "          [0., 0., 0.,  ..., 0., 0., 0.]]],\n",
       "\n",
       "\n",
       "        [[[0., 0., 0.,  ..., 0., 0., 0.],\n",
       "          [0., 0., 0.,  ..., 0., 0., 0.],\n",
       "          [0., 0., 0.,  ..., 0., 0., 0.],\n",
       "          ...,\n",
       "          [0., 0., 0.,  ..., 0., 0., 0.],\n",
       "          [0., 0., 0.,  ..., 0., 0., 0.],\n",
       "          [0., 0., 0.,  ..., 0., 0., 0.]]],\n",
       "\n",
       "\n",
       "        ...,\n",
       "\n",
       "\n",
       "        [[[0., 0., 0.,  ..., 0., 0., 0.],\n",
       "          [0., 0., 0.,  ..., 0., 0., 0.],\n",
       "          [0., 0., 0.,  ..., 0., 0., 0.],\n",
       "          ...,\n",
       "          [0., 0., 0.,  ..., 0., 0., 0.],\n",
       "          [0., 0., 0.,  ..., 0., 0., 0.],\n",
       "          [0., 0., 0.,  ..., 0., 0., 0.]]],\n",
       "\n",
       "\n",
       "        [[[0., 0., 0.,  ..., 0., 0., 0.],\n",
       "          [0., 0., 0.,  ..., 0., 0., 0.],\n",
       "          [0., 0., 0.,  ..., 0., 0., 0.],\n",
       "          ...,\n",
       "          [0., 0., 0.,  ..., 0., 0., 0.],\n",
       "          [0., 0., 0.,  ..., 0., 0., 0.],\n",
       "          [0., 0., 0.,  ..., 0., 0., 0.]]],\n",
       "\n",
       "\n",
       "        [[[0., 0., 0.,  ..., 0., 0., 0.],\n",
       "          [0., 0., 0.,  ..., 0., 0., 0.],\n",
       "          [0., 0., 0.,  ..., 0., 0., 0.],\n",
       "          ...,\n",
       "          [0., 0., 0.,  ..., 0., 0., 0.],\n",
       "          [0., 0., 0.,  ..., 0., 0., 0.],\n",
       "          [0., 0., 0.,  ..., 0., 0., 0.]]]])"
      ]
     },
     "execution_count": 25,
     "metadata": {},
     "output_type": "execute_result"
    }
   ],
   "source": [
    "images"
   ]
  },
  {
   "cell_type": "code",
   "execution_count": 26,
   "id": "a7f0ed64",
   "metadata": {},
   "outputs": [
    {
     "data": {
      "text/plain": [
       "tensor([0, 5, 7, 8, 6, 7, 9, 7, 1, 3, 8, 4, 4, 2, 2, 1, 3, 7, 1, 6, 3, 1, 0, 4,\n",
       "        6, 4, 6, 9, 1, 1, 4, 0, 1, 4, 1, 8, 9, 3, 2, 1, 0, 9, 3, 1, 1, 3, 0, 2,\n",
       "        1, 6, 7, 5, 5, 1, 3, 7, 4, 9, 2, 9, 9, 7, 0, 9, 8, 5, 2, 1, 8, 8, 6, 1,\n",
       "        7, 3, 9, 4, 8, 5, 3, 0, 4, 4, 7, 9, 3, 4, 2, 8, 8, 5, 3, 5, 6, 8, 1, 2,\n",
       "        7, 0, 6, 7])"
      ]
     },
     "execution_count": 26,
     "metadata": {},
     "output_type": "execute_result"
    }
   ],
   "source": [
    "label"
   ]
  },
  {
   "cell_type": "code",
   "execution_count": 27,
   "id": "2cbfa7e8",
   "metadata": {},
   "outputs": [
    {
     "data": {
      "text/plain": [
       "torch.Size([100, 1, 28, 28])"
      ]
     },
     "execution_count": 27,
     "metadata": {},
     "output_type": "execute_result"
    }
   ],
   "source": [
    "images.shape"
   ]
  },
  {
   "cell_type": "code",
   "execution_count": 28,
   "id": "5643cf4c",
   "metadata": {},
   "outputs": [
    {
     "data": {
      "text/plain": [
       "torch.Size([100])"
      ]
     },
     "execution_count": 28,
     "metadata": {},
     "output_type": "execute_result"
    }
   ],
   "source": [
    "label.shape"
   ]
  },
  {
   "cell_type": "code",
   "execution_count": 32,
   "id": "1cc2846f",
   "metadata": {},
   "outputs": [],
   "source": [
    "class model(nn.Module):\n",
    "    def __init__(self):\n",
    "        \n",
    "        super().__init__()\n",
    "        \n",
    "        self.fc1 = nn.Linear(in_features = 784, out_features = 120)\n",
    "        self.fc2 = nn.Linear(in_features = 120, out_features = 84)\n",
    "        self.fc3 = nn.Linear(in_features = 84, out_features = 10)\n",
    "        \n",
    "    def forward(self,X):\n",
    "        \n",
    "        X = F.relu(self.fc1(X))\n",
    "        X = F.relu(self.fc2(X))\n",
    "        X = self.fc3(X)\n",
    "        \n",
    "        return F.log_softmax(X,dim=1)\n",
    "        \n",
    "        "
   ]
  },
  {
   "cell_type": "code",
   "execution_count": 33,
   "id": "452f7fc7",
   "metadata": {},
   "outputs": [
    {
     "data": {
      "text/plain": [
       "<torch._C.Generator at 0x2c01f2d68b0>"
      ]
     },
     "execution_count": 33,
     "metadata": {},
     "output_type": "execute_result"
    }
   ],
   "source": [
    "torch.manual_seed(101)"
   ]
  },
  {
   "cell_type": "code",
   "execution_count": 34,
   "id": "05cec9b7",
   "metadata": {},
   "outputs": [],
   "source": [
    "model = model()"
   ]
  },
  {
   "cell_type": "code",
   "execution_count": 35,
   "id": "72e21be1",
   "metadata": {},
   "outputs": [
    {
     "data": {
      "text/plain": [
       "<bound method Module.parameters of model(\n",
       "  (fc1): Linear(in_features=784, out_features=120, bias=True)\n",
       "  (fc2): Linear(in_features=120, out_features=84, bias=True)\n",
       "  (fc3): Linear(in_features=84, out_features=10, bias=True)\n",
       ")>"
      ]
     },
     "execution_count": 35,
     "metadata": {},
     "output_type": "execute_result"
    }
   ],
   "source": [
    "model.parameters"
   ]
  },
  {
   "cell_type": "code",
   "execution_count": 36,
   "id": "76e2ed6b",
   "metadata": {},
   "outputs": [
    {
     "name": "stdout",
     "output_type": "stream",
     "text": [
      "Parameter containing:\n",
      "tensor([[-0.0216, -0.0036, -0.0292,  ..., -0.0166, -0.0342, -0.0019],\n",
      "        [ 0.0088,  0.0261,  0.0046,  ...,  0.0073,  0.0056, -0.0018],\n",
      "        [-0.0336, -0.0348, -0.0216,  ..., -0.0165,  0.0112,  0.0169],\n",
      "        ...,\n",
      "        [-0.0076,  0.0201,  0.0078,  ..., -0.0320,  0.0136,  0.0322],\n",
      "        [ 0.0054,  0.0088, -0.0012,  ..., -0.0004,  0.0340, -0.0168],\n",
      "        [ 0.0025, -0.0317,  0.0235,  ...,  0.0104, -0.0027,  0.0276]],\n",
      "       requires_grad=True)\n",
      "Parameter containing:\n",
      "tensor([ 0.0225,  0.0126, -0.0301,  0.0324,  0.0033, -0.0250,  0.0008, -0.0147,\n",
      "        -0.0153, -0.0268,  0.0257,  0.0021, -0.0340, -0.0067, -0.0083,  0.0333,\n",
      "        -0.0021, -0.0307,  0.0213,  0.0069, -0.0189, -0.0086,  0.0175, -0.0112,\n",
      "        -0.0018, -0.0016, -0.0259, -0.0240, -0.0082,  0.0048,  0.0234,  0.0241,\n",
      "         0.0293, -0.0041, -0.0011, -0.0089, -0.0171, -0.0269,  0.0252,  0.0048,\n",
      "        -0.0211,  0.0184, -0.0338,  0.0242,  0.0318, -0.0051,  0.0258, -0.0325,\n",
      "         0.0011,  0.0010,  0.0177,  0.0182,  0.0123,  0.0086,  0.0092,  0.0209,\n",
      "        -0.0110, -0.0066,  0.0314,  0.0158, -0.0113, -0.0154,  0.0173, -0.0247,\n",
      "        -0.0054, -0.0223, -0.0154, -0.0336,  0.0071, -0.0260, -0.0064,  0.0163,\n",
      "        -0.0041, -0.0032,  0.0261,  0.0232, -0.0004,  0.0161,  0.0335,  0.0220,\n",
      "         0.0212,  0.0341,  0.0005,  0.0213, -0.0125,  0.0060,  0.0020, -0.0168,\n",
      "        -0.0066,  0.0224, -0.0233,  0.0342,  0.0274,  0.0115,  0.0165, -0.0028,\n",
      "        -0.0028, -0.0016,  0.0219, -0.0115, -0.0105,  0.0134,  0.0241,  0.0101,\n",
      "        -0.0180, -0.0276, -0.0021,  0.0146, -0.0272, -0.0302,  0.0216, -0.0060,\n",
      "         0.0352, -0.0301,  0.0190,  0.0216, -0.0156,  0.0291,  0.0090,  0.0254],\n",
      "       requires_grad=True)\n",
      "Parameter containing:\n",
      "tensor([[ 0.0659, -0.0002, -0.0760,  ..., -0.0865, -0.0900, -0.0163],\n",
      "        [ 0.0891,  0.0757, -0.0611,  ..., -0.0422,  0.0441, -0.0322],\n",
      "        [ 0.0465, -0.0126,  0.0913,  ...,  0.0637, -0.0703, -0.0791],\n",
      "        ...,\n",
      "        [ 0.0071, -0.0046, -0.0591,  ..., -0.0499,  0.0450,  0.0755],\n",
      "        [-0.0164,  0.0765, -0.0893,  ..., -0.0728,  0.0099, -0.0294],\n",
      "        [ 0.0671, -0.0492,  0.0266,  ..., -0.0888,  0.0225, -0.0263]],\n",
      "       requires_grad=True)\n",
      "Parameter containing:\n",
      "tensor([-0.0840, -0.0323,  0.0847,  0.0100,  0.0155,  0.0855, -0.0832,  0.0705,\n",
      "        -0.0369,  0.0463, -0.0497,  0.0823, -0.0519,  0.0669,  0.0124,  0.0257,\n",
      "         0.0351, -0.0395,  0.0109, -0.0415, -0.0686,  0.0466,  0.0001,  0.0681,\n",
      "         0.0700, -0.0446, -0.0227,  0.0658,  0.0900,  0.0363, -0.0178, -0.0878,\n",
      "         0.0073, -0.0701,  0.0875, -0.0103, -0.0471, -0.0311,  0.0232, -0.0387,\n",
      "        -0.0588,  0.0182, -0.0135, -0.0618,  0.0335, -0.0635, -0.0106,  0.0048,\n",
      "         0.0860,  0.0327, -0.0234,  0.0611,  0.0226, -0.0015,  0.0682,  0.0706,\n",
      "         0.0508,  0.0423, -0.0088, -0.0161,  0.0686,  0.0204, -0.0336,  0.0271,\n",
      "        -0.0419,  0.0673,  0.0559, -0.0739,  0.0859,  0.0376,  0.0768, -0.0076,\n",
      "         0.0800, -0.0617,  0.0154,  0.0111, -0.0873,  0.0337,  0.0592, -0.0516,\n",
      "        -0.0279, -0.0430, -0.0522, -0.0577], requires_grad=True)\n",
      "Parameter containing:\n",
      "tensor([[ 3.7520e-02, -1.5249e-02, -5.5266e-02, -4.6345e-02,  5.3423e-02,\n",
      "         -4.2437e-02, -8.0863e-03, -4.4419e-02,  7.8870e-02, -8.0308e-02,\n",
      "         -1.0361e-01, -5.5332e-02,  6.8318e-02,  1.0882e-01, -6.7416e-02,\n",
      "         -1.0212e-01, -6.9264e-02,  2.1031e-02, -3.0247e-02,  9.7220e-02,\n",
      "         -7.1780e-02, -2.7029e-02,  2.4338e-02,  4.9857e-02,  7.7673e-02,\n",
      "         -2.2480e-02,  8.3655e-03, -3.1664e-02, -4.2008e-02, -5.5348e-02,\n",
      "         -7.7046e-02, -5.2880e-02, -1.0029e-01, -7.9574e-02,  3.7080e-02,\n",
      "         -4.0626e-02,  4.1049e-02,  6.1978e-02,  2.9974e-02,  5.1084e-02,\n",
      "         -9.7147e-02, -6.8944e-03,  3.9565e-02,  1.0541e-01,  1.4040e-02,\n",
      "          8.8432e-02,  8.4667e-02, -6.9698e-02,  6.0679e-02, -1.0438e-01,\n",
      "         -6.0193e-02, -6.6345e-02, -2.8604e-02, -6.6551e-03,  3.4699e-02,\n",
      "         -7.6686e-02,  1.0341e-01,  2.8045e-02,  6.4957e-02,  4.3013e-02,\n",
      "          6.5641e-02,  6.0480e-02,  1.0085e-03, -8.8074e-02, -8.8577e-03,\n",
      "          7.8049e-02, -9.4675e-02, -5.4674e-02,  8.3892e-02, -9.2612e-03,\n",
      "          1.8996e-02,  5.4862e-03,  9.3036e-02,  3.1987e-02,  8.0283e-02,\n",
      "         -7.5087e-02,  6.1323e-02,  4.2066e-02, -3.6302e-04,  9.8165e-02,\n",
      "         -6.0962e-02, -8.8098e-02,  3.5864e-02, -1.9478e-03],\n",
      "        [ 7.3144e-02, -1.0208e-01, -6.4232e-03,  1.0251e-01, -1.0568e-01,\n",
      "         -3.8299e-02,  8.2700e-02, -7.5426e-03, -5.3348e-03,  1.0305e-01,\n",
      "          5.8359e-02, -1.5002e-04,  2.8312e-02, -7.9567e-02, -2.9059e-02,\n",
      "          8.4271e-03,  7.5610e-02, -1.9559e-03,  3.5879e-02, -8.9302e-02,\n",
      "          3.3768e-02, -1.0831e-01,  5.7602e-02, -8.4837e-02,  6.2045e-02,\n",
      "         -5.8044e-03, -8.3539e-02, -7.0659e-02,  1.0003e-02,  9.9411e-02,\n",
      "          6.9287e-02, -3.5495e-05, -5.6015e-02,  4.9927e-02, -8.2185e-02,\n",
      "         -3.0443e-02,  8.0030e-03,  6.2649e-02,  2.7464e-02,  6.7075e-02,\n",
      "         -4.8299e-02,  9.2090e-03, -2.9834e-02,  8.8051e-02, -4.7735e-02,\n",
      "         -4.5492e-02,  1.9976e-02,  3.0321e-02, -9.9400e-02,  1.5343e-02,\n",
      "         -2.7776e-02, -8.3181e-03,  7.2892e-02, -1.0187e-01,  4.0422e-02,\n",
      "         -3.4960e-02,  3.8484e-02,  2.0749e-02, -7.0129e-02, -6.3419e-02,\n",
      "         -5.1390e-02, -7.4120e-02,  1.1258e-02,  5.5213e-02, -6.2321e-02,\n",
      "          1.0289e-01, -8.2125e-02,  4.5443e-03, -2.5508e-02, -7.4885e-02,\n",
      "          4.0701e-02, -5.4269e-02,  8.0271e-02, -1.0736e-01,  9.6412e-02,\n",
      "         -9.1982e-02,  7.4823e-02,  1.9052e-02, -1.0684e-02,  1.7333e-02,\n",
      "         -4.8751e-02, -1.5209e-02, -3.0346e-02, -3.9932e-02],\n",
      "        [-8.4777e-02,  1.9465e-02, -7.9479e-02, -9.8309e-02, -4.0210e-02,\n",
      "          1.0814e-01, -9.2017e-02,  9.6301e-02, -3.0621e-02, -4.6069e-02,\n",
      "          5.8035e-02, -4.1234e-02,  1.1553e-02, -6.3321e-02, -4.8074e-03,\n",
      "         -4.0406e-02, -6.4125e-02,  3.6743e-02,  2.4070e-02, -2.4918e-02,\n",
      "          5.2285e-02,  2.3561e-02, -5.8236e-02,  1.0719e-01,  9.1210e-02,\n",
      "          9.1781e-02,  5.0661e-02, -5.4528e-02,  4.1654e-02,  5.3213e-02,\n",
      "          4.7947e-02, -3.7354e-04,  8.8515e-02,  5.6592e-02,  9.2750e-02,\n",
      "          4.9211e-02, -3.5818e-02,  9.8720e-02,  4.0203e-02,  8.1671e-02,\n",
      "         -4.5526e-02, -8.0374e-02,  7.8149e-02,  4.3695e-02, -1.0061e-02,\n",
      "          3.8589e-02, -4.6251e-03, -1.0872e-01,  5.7272e-02,  9.6389e-02,\n",
      "         -6.1604e-02, -9.2943e-02,  5.7482e-02, -2.0821e-02, -9.2122e-02,\n",
      "         -9.5477e-02,  1.5608e-02, -1.0708e-01,  3.8904e-02, -1.0730e-01,\n",
      "          9.2280e-02, -4.0791e-02, -6.1081e-02, -5.0980e-02, -3.3744e-02,\n",
      "         -5.1850e-02, -7.3499e-02,  7.2909e-02, -3.3885e-02, -5.7490e-03,\n",
      "         -8.1310e-02,  4.4626e-02,  8.1025e-02, -4.3558e-02,  7.0839e-02,\n",
      "          1.0084e-01, -4.2391e-04,  1.0900e-01,  4.6067e-03, -4.3167e-02,\n",
      "         -4.2038e-02,  2.3414e-02, -3.3007e-02,  4.2384e-02],\n",
      "        [ 2.5359e-02,  9.6853e-02, -8.8301e-03,  9.2683e-02, -2.6541e-03,\n",
      "         -7.8374e-02,  7.5704e-02,  1.7321e-02, -9.0957e-02,  7.0776e-02,\n",
      "         -3.5489e-02, -5.3213e-02,  7.5815e-02,  3.7663e-02, -7.1521e-02,\n",
      "         -1.1744e-02, -3.2449e-02, -1.5437e-02, -2.2015e-02, -8.4406e-02,\n",
      "          2.8574e-02, -9.7626e-02,  2.7457e-02,  1.0703e-01,  9.4402e-03,\n",
      "          4.5007e-02, -9.4859e-02,  5.6995e-02, -2.2222e-02, -8.9616e-02,\n",
      "         -7.3677e-02, -6.4733e-02, -8.7453e-02, -5.9160e-02,  9.4162e-02,\n",
      "         -6.3761e-02, -7.4617e-02, -9.4004e-02, -9.2656e-02,  9.1918e-02,\n",
      "         -1.0096e-02, -6.1590e-03, -6.9782e-02,  9.6788e-02, -1.9507e-03,\n",
      "          1.0690e-01,  1.0483e-01,  9.2756e-02,  7.6266e-02,  4.1094e-02,\n",
      "          6.3756e-03,  9.3056e-02, -8.9211e-02,  1.1430e-02, -1.0283e-01,\n",
      "          1.7391e-02,  1.0408e-01, -9.7821e-02,  9.4132e-02,  1.1496e-02,\n",
      "         -6.1119e-02, -4.3770e-02,  3.0648e-02, -5.7852e-02,  6.4407e-03,\n",
      "          2.1768e-02, -1.7273e-02,  4.2799e-02, -1.4393e-03,  3.6661e-02,\n",
      "         -1.0013e-01,  1.9074e-02, -1.4423e-02, -1.7889e-02, -5.7575e-02,\n",
      "          1.0366e-02,  8.8397e-02,  2.5879e-02, -2.2287e-02,  8.0784e-02,\n",
      "          8.6989e-02, -6.4433e-02, -7.0905e-02,  7.8826e-02],\n",
      "        [ 3.8070e-02,  2.2721e-02, -7.7489e-02, -7.6287e-02, -7.2962e-02,\n",
      "         -9.4500e-02,  7.0475e-02,  8.8951e-02, -1.9224e-02, -3.7762e-02,\n",
      "         -2.9246e-02,  2.9438e-02, -5.3671e-02,  4.2798e-02, -6.0506e-02,\n",
      "          3.6266e-02, -5.0111e-02,  2.7021e-02, -9.3744e-02,  2.4203e-02,\n",
      "         -5.5919e-03,  8.0336e-02,  7.0222e-02,  6.9578e-02,  4.3312e-02,\n",
      "         -4.3463e-02, -3.8806e-02, -7.8459e-03, -2.4170e-02,  6.9799e-02,\n",
      "         -6.6893e-02, -7.5390e-02,  2.6785e-02, -3.8373e-02, -4.6769e-02,\n",
      "         -6.8099e-02,  2.9793e-02, -1.0759e-01,  6.6264e-02, -4.9703e-02,\n",
      "          1.0106e-02,  6.8286e-02, -7.8959e-02, -7.4353e-02, -6.9237e-02,\n",
      "         -9.9844e-03,  6.7745e-03, -5.2921e-02,  8.9718e-02, -1.0499e-01,\n",
      "          3.9002e-02, -8.2577e-03,  1.0758e-01,  2.4584e-02, -1.0388e-01,\n",
      "         -7.2782e-02,  6.7800e-02, -8.8207e-03, -2.1849e-02,  1.0808e-01,\n",
      "         -8.6578e-02, -5.0639e-02,  9.1069e-02, -7.4668e-02,  1.0473e-01,\n",
      "         -1.0585e-01, -8.0209e-02,  5.4246e-02,  9.0261e-02,  1.0076e-01,\n",
      "          1.0537e-01, -1.0659e-02,  7.4086e-02, -6.6530e-02,  1.3677e-02,\n",
      "         -4.3228e-02,  1.1229e-02,  9.1398e-02, -9.8158e-02, -5.8482e-02,\n",
      "          8.7106e-02, -5.7499e-02,  2.8758e-02,  6.9063e-02],\n",
      "        [-6.0609e-02,  4.2908e-02,  9.4386e-02,  1.0814e-01,  6.0743e-02,\n",
      "          1.3816e-02, -9.4619e-02,  9.8201e-02, -8.4821e-03, -9.2394e-02,\n",
      "         -3.0511e-02,  1.9663e-02, -6.2674e-03,  4.2601e-02, -1.0016e-01,\n",
      "         -2.4949e-02,  8.9995e-03,  9.7864e-02, -8.6517e-02, -1.0860e-01,\n",
      "          1.0847e-01, -1.9922e-02,  6.9091e-02,  1.1718e-02,  9.1108e-02,\n",
      "          1.0117e-01,  1.9343e-02, -3.8061e-02, -4.1074e-02,  5.2874e-03,\n",
      "         -3.5022e-02, -4.6824e-02, -2.0841e-02, -1.5172e-02, -8.1716e-02,\n",
      "         -7.7604e-02,  4.3601e-02, -5.9416e-02, -2.9868e-02,  9.6119e-02,\n",
      "         -2.9452e-02, -2.5554e-02, -2.9973e-02,  1.1112e-02, -1.0246e-01,\n",
      "         -4.5620e-02, -6.6884e-02, -5.2801e-02, -6.9816e-02, -1.0359e-01,\n",
      "         -6.4927e-02,  7.0847e-02, -4.0633e-02,  5.2923e-02, -8.0613e-02,\n",
      "          2.1911e-02, -8.7683e-03,  2.7454e-02, -6.0125e-02,  1.0149e-01,\n",
      "          3.5957e-02, -6.4360e-03,  1.0352e-01, -5.4306e-03,  8.2721e-02,\n",
      "          9.5236e-02, -8.2406e-02, -8.3955e-02,  3.0166e-03, -7.5493e-02,\n",
      "         -2.1251e-02, -1.1467e-02,  3.8669e-03, -8.3066e-02,  2.0388e-02,\n",
      "         -3.9677e-02, -1.4712e-02,  1.4327e-02, -5.9734e-02,  1.0815e-02,\n",
      "          5.7921e-02, -4.8210e-02,  1.1637e-02, -1.0833e-02],\n",
      "        [-1.1066e-02,  1.4271e-02,  1.5625e-02,  4.3886e-02,  1.6268e-02,\n",
      "         -8.8769e-02, -3.6807e-02, -1.0786e-01,  7.3882e-02,  4.7372e-02,\n",
      "         -4.0919e-03, -5.4467e-03,  1.5372e-02,  5.7655e-02,  1.0616e-01,\n",
      "          6.0016e-02,  1.3024e-02, -9.4986e-03, -6.8609e-02,  9.7683e-02,\n",
      "          9.8473e-02,  9.7190e-02, -6.5115e-02, -6.5594e-02, -4.6404e-02,\n",
      "          5.0511e-02, -2.3170e-03,  1.0138e-01,  7.9114e-02,  6.2728e-02,\n",
      "          6.1379e-02, -9.5263e-02,  9.8632e-02, -8.5520e-02,  9.2411e-02,\n",
      "         -1.0781e-01,  3.3047e-02, -5.9209e-02,  8.7397e-02,  8.8788e-02,\n",
      "         -4.2296e-02, -3.1532e-02,  5.0735e-02,  1.0027e-01,  8.9150e-02,\n",
      "          1.0164e-01, -8.3200e-02,  7.7659e-02,  7.1716e-02, -1.7831e-02,\n",
      "         -9.0676e-02,  6.5819e-02, -9.1049e-02,  2.2145e-03, -8.4304e-02,\n",
      "         -1.0881e-01, -7.8510e-02,  5.3463e-02, -6.2538e-02,  3.8177e-02,\n",
      "         -9.0057e-02,  1.4454e-02, -1.0501e-01, -8.7934e-02, -9.9661e-02,\n",
      "          4.1219e-02,  8.7757e-02, -6.9257e-02,  4.0326e-02,  2.5266e-02,\n",
      "          4.6893e-03, -9.3817e-02, -3.6464e-02,  1.0403e-01, -9.4975e-02,\n",
      "          5.8730e-02,  3.5602e-02,  5.1898e-02, -8.8128e-02, -1.2949e-02,\n",
      "         -5.2451e-02, -7.5625e-02, -6.9932e-02, -9.0474e-03],\n",
      "        [-6.4093e-02,  2.9103e-02,  9.1299e-03, -1.0474e-01, -5.1877e-02,\n",
      "         -9.2772e-03,  8.1534e-02,  9.0040e-02, -7.1397e-02, -1.0005e-02,\n",
      "         -6.8134e-02, -5.9536e-02,  1.0047e-01, -6.4844e-03, -7.2264e-02,\n",
      "          4.4734e-02,  9.8153e-02, -3.6791e-02, -4.7129e-04, -3.0919e-03,\n",
      "         -8.2133e-02, -7.8083e-03,  2.5963e-02, -1.0117e-01,  2.0902e-02,\n",
      "         -6.5101e-02, -3.6240e-02,  7.6801e-02,  7.6617e-02,  4.4415e-02,\n",
      "         -2.4686e-02, -6.7615e-02,  6.9583e-02,  1.1376e-02, -7.3806e-02,\n",
      "          2.5809e-02,  7.9108e-02,  3.9488e-02,  6.9823e-02,  1.9564e-02,\n",
      "          8.5173e-02,  6.3968e-03,  3.6432e-02,  5.9924e-03,  6.2088e-04,\n",
      "         -1.0309e-01, -7.2173e-02, -6.2934e-02, -4.7414e-02, -4.2653e-02,\n",
      "          9.7000e-02, -4.1859e-02, -7.0869e-02, -1.0766e-03,  8.0372e-02,\n",
      "         -5.0143e-02, -9.4489e-02,  9.5168e-02, -6.7130e-02,  5.6859e-03,\n",
      "         -5.6556e-02, -3.5689e-02, -6.5011e-02, -6.7905e-02,  1.4419e-02,\n",
      "         -3.4318e-02, -1.0052e-01,  7.8653e-02, -4.2087e-02,  3.0476e-02,\n",
      "         -3.8888e-02, -1.0392e-01, -2.3264e-02,  9.6105e-02,  6.7483e-02,\n",
      "         -5.0523e-02,  9.7346e-02, -1.8233e-03,  2.5964e-02,  3.6867e-02,\n",
      "         -8.5418e-02,  4.3940e-02, -1.0082e-01,  4.6879e-02],\n",
      "        [ 4.5523e-02, -1.0002e-01, -5.7016e-02, -5.3102e-02, -8.7422e-02,\n",
      "         -8.5953e-02, -2.6422e-02, -2.9318e-02, -9.7220e-02, -5.1520e-02,\n",
      "          1.0657e-01,  4.8101e-02, -5.8923e-02,  5.1430e-02,  7.7110e-02,\n",
      "          5.7303e-02,  6.7535e-02,  1.7419e-02, -1.0479e-01,  5.2238e-02,\n",
      "          1.9462e-02, -1.6668e-03,  9.2764e-02, -1.1160e-02, -1.0479e-01,\n",
      "         -4.0655e-02, -8.3258e-02,  8.3224e-02, -3.3797e-02,  3.3698e-02,\n",
      "          1.6802e-02,  3.3896e-02, -2.4229e-02,  1.0846e-01, -1.4684e-02,\n",
      "          4.1946e-03,  4.8034e-02,  3.7284e-02, -5.4610e-02,  4.8648e-02,\n",
      "          8.2700e-02, -7.0195e-02, -1.0187e-01, -8.5529e-02,  8.5386e-02,\n",
      "         -4.4001e-02, -1.2040e-02, -7.5504e-02, -1.9545e-02, -1.1875e-03,\n",
      "         -4.8495e-02,  3.3300e-02,  1.0303e-01,  8.1544e-02,  1.0195e-01,\n",
      "         -8.5191e-02, -3.7027e-02,  6.6571e-02,  9.0003e-03, -6.2090e-02,\n",
      "          6.2219e-02,  3.1369e-02, -6.1176e-02, -7.3038e-02,  3.2909e-02,\n",
      "         -4.9630e-02,  3.6686e-02,  1.0323e-02, -1.0561e-01, -4.5232e-02,\n",
      "          4.0796e-03,  3.7718e-02, -8.9691e-02, -5.2576e-02, -5.7778e-02,\n",
      "         -5.8887e-02,  3.4572e-02, -1.1352e-02,  9.2290e-02,  4.5068e-02,\n",
      "          9.7078e-03, -4.4708e-02,  5.6839e-02,  6.6496e-02],\n",
      "        [-1.1694e-02, -4.8380e-02, -6.3431e-02, -1.0715e-01,  4.1382e-02,\n",
      "         -4.8718e-02,  2.9569e-02, -9.1617e-02, -2.8062e-03,  8.0619e-02,\n",
      "         -3.8820e-02, -8.1705e-02,  7.8614e-02, -8.1433e-02, -3.9521e-02,\n",
      "         -5.5008e-02, -6.1923e-02,  4.5564e-02,  8.2275e-02, -1.0258e-02,\n",
      "          6.9427e-02,  4.2082e-02, -8.5006e-03, -8.5667e-02,  5.9724e-03,\n",
      "          9.9225e-02,  3.1423e-02, -9.9422e-02,  2.5637e-02, -7.3110e-02,\n",
      "         -9.1324e-02,  5.2242e-02, -5.5231e-02,  1.7654e-02, -8.5588e-02,\n",
      "         -6.8146e-02,  1.0699e-01, -1.4204e-02, -8.0474e-02, -1.0178e-01,\n",
      "         -5.6607e-03, -1.3533e-02, -1.0395e-01, -8.9581e-02, -7.3427e-02,\n",
      "          7.8389e-02,  2.7840e-02,  4.0461e-02,  7.0353e-02,  5.4435e-02,\n",
      "          1.0093e-01,  8.0350e-02,  6.8821e-02,  5.0913e-02,  3.2323e-02,\n",
      "          4.1927e-02, -2.3728e-02, -6.7186e-02, -8.0610e-02,  1.0266e-01,\n",
      "          5.7850e-02,  7.2469e-02,  5.0873e-02,  1.0874e-01, -2.3885e-02,\n",
      "         -2.2760e-02, -5.6897e-02, -3.0714e-02, -7.2373e-02,  1.7429e-02,\n",
      "          1.5460e-02, -6.6367e-02, -3.3929e-03,  7.6547e-02,  7.3909e-02,\n",
      "          1.6941e-02, -9.4936e-02,  2.2299e-02,  1.0509e-01, -5.3285e-02,\n",
      "         -1.0753e-01,  6.3717e-05, -5.2976e-02, -9.1212e-02]],\n",
      "       requires_grad=True)\n",
      "Parameter containing:\n",
      "tensor([-0.0772, -0.0543,  0.0239, -0.0732, -0.0156, -0.0113,  0.0181,  0.0593,\n",
      "         0.0939, -0.0058], requires_grad=True)\n"
     ]
    }
   ],
   "source": [
    "for params in model.parameters():\n",
    "    print(params)"
   ]
  },
  {
   "cell_type": "code",
   "execution_count": 37,
   "id": "836a12c0",
   "metadata": {},
   "outputs": [
    {
     "name": "stdout",
     "output_type": "stream",
     "text": [
      "94080\n",
      "120\n",
      "10080\n",
      "84\n",
      "840\n",
      "10\n"
     ]
    }
   ],
   "source": [
    "for params in model.parameters():\n",
    "    print(params.numel())"
   ]
  },
  {
   "cell_type": "code",
   "execution_count": 38,
   "id": "30ab9682",
   "metadata": {},
   "outputs": [
    {
     "name": "stdout",
     "output_type": "stream",
     "text": [
      "torch.Size([120, 784])\n",
      "torch.Size([120])\n",
      "torch.Size([84, 120])\n",
      "torch.Size([84])\n",
      "torch.Size([10, 84])\n",
      "torch.Size([10])\n"
     ]
    }
   ],
   "source": [
    "for params in model.parameters():\n",
    "    print(params.size())"
   ]
  },
  {
   "cell_type": "code",
   "execution_count": 39,
   "id": "0eb0264c",
   "metadata": {},
   "outputs": [],
   "source": [
    "criterion = nn.CrossEntropyLoss()\n",
    "optimiser = torch.optim.Adam(model.parameters(),lr=0.001)"
   ]
  },
  {
   "cell_type": "code",
   "execution_count": 40,
   "id": "56dceb6a",
   "metadata": {},
   "outputs": [
    {
     "data": {
      "text/plain": [
       "torch.Size([100, 1, 28, 28])"
      ]
     },
     "execution_count": 40,
     "metadata": {},
     "output_type": "execute_result"
    }
   ],
   "source": [
    "images.shape"
   ]
  },
  {
   "cell_type": "code",
   "execution_count": 42,
   "id": "2b191c27",
   "metadata": {},
   "outputs": [
    {
     "data": {
      "text/plain": [
       "torch.Size([100, 784])"
      ]
     },
     "execution_count": 42,
     "metadata": {},
     "output_type": "execute_result"
    }
   ],
   "source": [
    "images.view(100,-1).shape"
   ]
  },
  {
   "cell_type": "code",
   "execution_count": 43,
   "id": "5bb09054",
   "metadata": {},
   "outputs": [
    {
     "name": "stdout",
     "output_type": "stream",
     "text": [
      "Epoch 0   batch 200    loss:0.2805540859699249  accuracy : 83.04\n",
      "Epoch 0   batch 400    loss:0.20303486287593842  accuracy : 87.325\n",
      "Epoch 0   batch 600    loss:0.20227622985839844  accuracy : 89.32333333333334\n",
      "Epoch 1   batch 200    loss:0.1445707082748413  accuracy : 94.56\n",
      "Epoch 1   batch 400    loss:0.10489675402641296  accuracy : 95.11\n",
      "Epoch 1   batch 600    loss:0.12034713476896286  accuracy : 95.34666666666666\n",
      "Epoch 2   batch 200    loss:0.11627233773469925  accuracy : 96.53\n",
      "Epoch 2   batch 400    loss:0.08906286954879761  accuracy : 96.615\n",
      "Epoch 2   batch 600    loss:0.10235458612442017  accuracy : 96.74\n",
      "Epoch 3   batch 200    loss:0.053589120507240295  accuracy : 97.475\n",
      "Epoch 3   batch 400    loss:0.05533469840884209  accuracy : 97.485\n",
      "Epoch 3   batch 600    loss:0.05723271518945694  accuracy : 97.51\n",
      "Epoch 4   batch 200    loss:0.1291753351688385  accuracy : 97.96\n",
      "Epoch 4   batch 400    loss:0.09339297562837601  accuracy : 97.995\n",
      "Epoch 4   batch 600    loss:0.13001050055027008  accuracy : 98.03333333333333\n",
      "Epoch 5   batch 200    loss:0.0457569845020771  accuracy : 98.31\n",
      "Epoch 5   batch 400    loss:0.043589748442173004  accuracy : 98.3575\n",
      "Epoch 5   batch 600    loss:0.05125651881098747  accuracy : 98.35666666666667\n",
      "Epoch 6   batch 200    loss:0.003352375002577901  accuracy : 98.995\n",
      "Epoch 6   batch 400    loss:0.060488950461149216  accuracy : 98.84\n",
      "Epoch 6   batch 600    loss:0.07268734276294708  accuracy : 98.71166666666667\n",
      "Epoch 7   batch 200    loss:0.03270246833562851  accuracy : 99.145\n",
      "Epoch 7   batch 400    loss:0.03333976864814758  accuracy : 99.055\n",
      "Epoch 7   batch 600    loss:0.052746739238500595  accuracy : 98.97833333333334\n",
      "Epoch 8   batch 200    loss:0.012483596801757812  accuracy : 99.315\n",
      "Epoch 8   batch 400    loss:0.03223487362265587  accuracy : 99.1625\n",
      "Epoch 8   batch 600    loss:0.004754902794957161  accuracy : 99.05833333333334\n",
      "Epoch 9   batch 200    loss:0.019343195483088493  accuracy : 99.255\n",
      "Epoch 9   batch 400    loss:0.0016211019828915596  accuracy : 99.2975\n",
      "Epoch 9   batch 600    loss:0.009299064986407757  accuracy : 99.235\n",
      "Duration : 2.4003613432248434mins\n"
     ]
    }
   ],
   "source": [
    "import time\n",
    "start_time = time.time()\n",
    "\n",
    "#training\n",
    "epochs = 10\n",
    "\n",
    "train_losses = []\n",
    "test_losses = []\n",
    "train_correct = []\n",
    "test_correct = []\n",
    "\n",
    "for i in range(epochs):\n",
    "    trn_corr = 0\n",
    "    tst_corr = 0\n",
    "    \n",
    "    for b, (X_train,y_train) in enumerate(train_loader):\n",
    "        \n",
    "        b+=1\n",
    "        \n",
    "        y_pred = model(X_train.view(100,-1))\n",
    "        loss = criterion(y_pred,y_train)\n",
    "        \n",
    "        predicted = torch.max(y_pred.data,1)[1]\n",
    "        batch_corr = (predicted == y_train).sum()\n",
    "        trn_corr += batch_corr\n",
    "        \n",
    "        optimiser.zero_grad()\n",
    "        loss.backward()\n",
    "        optimiser.step()\n",
    "        \n",
    "        if b%200 == 0:\n",
    "            \n",
    "            acc = trn_corr.item()*100/(100*b)\n",
    "            \n",
    "            print(f'Epoch {i}   batch {b}    loss:{loss.item()}  accuracy : {acc}')\n",
    "    \n",
    "    train_losses.append(loss)\n",
    "    train_correct.append(trn_corr)\n",
    "    \n",
    "    with torch.no_grad():\n",
    "        for b , (X_test,y_test) in enumerate(test_loader):\n",
    "            y_val = model(X_test.view(500,-1))\n",
    "            \n",
    "            predicted = torch.max(y_val.data,1)[1]\n",
    "            batch_corr = (predicted ==y_test).sum()\n",
    "            tst_corr +=  batch_corr\n",
    "        \n",
    "        loss = criterion(y_val,y_test)\n",
    "        test_losses.append(loss)\n",
    "        test_correct.append(tst_corr)\n",
    "\n",
    "total_time = time.time()-start_time\n",
    "\n",
    "print(f'Duration : {total_time/60}mins')"
   ]
  },
  {
   "cell_type": "code",
   "execution_count": 76,
   "id": "f770de95",
   "metadata": {},
   "outputs": [
    {
     "data": {
      "text/plain": [
       "<matplotlib.legend.Legend at 0x2b750a38630>"
      ]
     },
     "execution_count": 76,
     "metadata": {},
     "output_type": "execute_result"
    },
    {
     "data": {
      "image/png": "[encoded data removed]",
      "text/plain": [
       "<Figure size 432x288 with 1 Axes>"
      ]
     },
     "metadata": {
      "needs_background": "light"
     },
     "output_type": "display_data"
    }
   ],
   "source": [
    "plt.plot(train_losses,label='Traing Loss')\n",
    "plt.plot(test_losses,label = 'Test Loss')\n",
    "plt.legend()"
   ]
  },
  {
   "cell_type": "code",
   "execution_count": 44,
   "id": "1a5f29ac",
   "metadata": {},
   "outputs": [
    {
     "data": {
      "text/plain": [
       "[tensor(53594),\n",
       " tensor(57208),\n",
       " tensor(58044),\n",
       " tensor(58506),\n",
       " tensor(58820),\n",
       " tensor(59014),\n",
       " tensor(59227),\n",
       " tensor(59387),\n",
       " tensor(59435),\n",
       " tensor(59541)]"
      ]
     },
     "execution_count": 44,
     "metadata": {},
     "output_type": "execute_result"
    }
   ],
   "source": [
    "train_correct"
   ]
  },
  {
   "cell_type": "code",
   "execution_count": 78,
   "id": "ff65f344",
   "metadata": {},
   "outputs": [
    {
     "data": {
      "text/plain": [
       "tensor(89)"
      ]
     },
     "execution_count": 78,
     "metadata": {},
     "output_type": "execute_result"
    }
   ],
   "source": [
    "train_correct[0]/600"
   ]
  },
  {
   "cell_type": "code",
   "execution_count": 81,
   "id": "7597f1e2",
   "metadata": {},
   "outputs": [
    {
     "data": {
      "text/plain": [
       "tensor(94)"
      ]
     },
     "execution_count": 81,
     "metadata": {},
     "output_type": "execute_result"
    }
   ],
   "source": [
    "test_correct[0]/100"
   ]
  },
  {
   "cell_type": "code",
   "execution_count": 45,
   "id": "ef47a077",
   "metadata": {},
   "outputs": [],
   "source": [
    "train_acc = [t/600 for t in train_correct]"
   ]
  },
  {
   "cell_type": "code",
   "execution_count": 46,
   "id": "2ca06f52",
   "metadata": {},
   "outputs": [],
   "source": [
    "test_acc = [t/100 for t in test_correct]"
   ]
  },
  {
   "cell_type": "code",
   "execution_count": 47,
   "id": "658fdfe4",
   "metadata": {},
   "outputs": [
    {
     "data": {
      "text/plain": [
       "<matplotlib.legend.Legend at 0x2c02572f1d0>"
      ]
     },
     "execution_count": 47,
     "metadata": {},
     "output_type": "execute_result"
    },
    {
     "data": {
      "image/png": "[encoded data removed]",
      "text/plain": [
       "<Figure size 432x288 with 1 Axes>"
      ]
     },
     "metadata": {
      "needs_background": "light"
     },
     "output_type": "display_data"
    }
   ],
   "source": [
    "plt.plot(train_acc, label = \"train_accuracy\")\n",
    "plt.plot(test_acc, label = \"test_accuracy\")\n",
    "plt.legend()"
   ]
  },
  {
   "cell_type": "code",
   "execution_count": 48,
   "id": "84fd453a",
   "metadata": {},
   "outputs": [],
   "source": [
    "test_load_all = DataLoader(test_data,batch_size=10000,shuffle=False)"
   ]
  },
  {
   "cell_type": "code",
   "execution_count": 49,
   "id": "1acd7d73",
   "metadata": {},
   "outputs": [],
   "source": [
    "# Scoring on unseen data\n",
    "with torch.no_grad():\n",
    "    correct=0\n",
    "    for X_test, y_test in test_load_all:\n",
    "        y_val = model(X_test.view(len(X_test),-1))\n",
    "        predicted = torch.max(y_val,1)[1]\n",
    "        correct += (predicted==y_test).sum()\n",
    "    "
   ]
  },
  {
   "cell_type": "code",
   "execution_count": 90,
   "id": "b1beaf2e",
   "metadata": {},
   "outputs": [
    {
     "data": {
      "text/plain": [
       "97.67"
      ]
     },
     "execution_count": 90,
     "metadata": {},
     "output_type": "execute_result"
    }
   ],
   "source": [
    "100*correct.item()/len(X_test)"
   ]
  },
  {
   "cell_type": "code",
   "execution_count": 51,
   "id": "e8c9e072",
   "metadata": {},
   "outputs": [
    {
     "data": {
      "text/plain": [
       "9767"
      ]
     },
     "execution_count": 51,
     "metadata": {},
     "output_type": "execute_result"
    }
   ],
   "source": [
    "correct.item()"
   ]
  },
  {
   "cell_type": "code",
   "execution_count": 52,
   "id": "6325e9b4",
   "metadata": {},
   "outputs": [
    {
     "data": {
      "text/plain": [
       "tensor([7, 2, 1,  ..., 4, 5, 6])"
      ]
     },
     "execution_count": 52,
     "metadata": {},
     "output_type": "execute_result"
    }
   ],
   "source": [
    "predicted"
   ]
  },
  {
   "cell_type": "code",
   "execution_count": 53,
   "id": "577bcd1c",
   "metadata": {},
   "outputs": [
    {
     "data": {
      "text/plain": [
       "tensor([7, 2, 1,  ..., 4, 5, 6])"
      ]
     },
     "execution_count": 53,
     "metadata": {},
     "output_type": "execute_result"
    }
   ],
   "source": [
    "y_test"
   ]
  },
  {
   "cell_type": "code",
   "execution_count": 94,
   "id": "c27b7748",
   "metadata": {},
   "outputs": [
    {
     "data": {
      "text/plain": [
       "array([[ 970,    0,    2,    0,    0,    3,    4,    1,    4,    3],\n",
       "       [   0, 1120,    2,    0,    0,    0,    3,    2,    0,    2],\n",
       "       [   1,    4, 1003,    2,    2,    0,    2,    5,    3,    0],\n",
       "       [   3,    3,    8,  996,    1,   22,    1,    2,    5,    9],\n",
       "       [   0,    0,    2,    0,  962,    3,    8,    1,    3,   10],\n",
       "       [   1,    0,    0,    1,    0,  853,    2,    0,    2,    3],\n",
       "       [   1,    2,    1,    0,    4,    4,  935,    0,    1,    0],\n",
       "       [   1,    1,    7,    6,    4,    1,    1, 1015,    5,   12],\n",
       "       [   2,    5,    6,    4,    2,    6,    2,    1,  949,    6],\n",
       "       [   1,    0,    1,    1,    7,    0,    0,    1,    2,  964]],\n",
       "      dtype=int64)"
      ]
     },
     "execution_count": 94,
     "metadata": {},
     "output_type": "execute_result"
    }
   ],
   "source": [
    "# confusion_matrix(predicted.view(-1),y_test.view(-1))"
   ]
  },
  {
   "cell_type": "code",
   "execution_count": 54,
   "id": "d2fd91ca",
   "metadata": {},
   "outputs": [
    {
     "data": {
      "text/plain": [
       "array([[ 970,    0,    2,    0,    0,    3,    4,    1,    4,    3],\n",
       "       [   0, 1120,    2,    0,    0,    0,    3,    2,    0,    2],\n",
       "       [   1,    4, 1003,    2,    2,    0,    2,    5,    3,    0],\n",
       "       [   3,    3,    8,  996,    1,   22,    1,    2,    5,    9],\n",
       "       [   0,    0,    2,    0,  962,    3,    8,    1,    3,   10],\n",
       "       [   1,    0,    0,    1,    0,  853,    2,    0,    2,    3],\n",
       "       [   1,    2,    1,    0,    4,    4,  935,    0,    1,    0],\n",
       "       [   1,    1,    7,    6,    4,    1,    1, 1015,    5,   12],\n",
       "       [   2,    5,    6,    4,    2,    6,    2,    1,  949,    6],\n",
       "       [   1,    0,    1,    1,    7,    0,    0,    1,    2,  964]],\n",
       "      dtype=int64)"
      ]
     },
     "execution_count": 54,
     "metadata": {},
     "output_type": "execute_result"
    }
   ],
   "source": [
    "confusion_matrix(predicted,y_test)"
   ]
  },
  {
   "cell_type": "code",
   "execution_count": null,
   "id": "518d99b5",
   "metadata": {},
   "outputs": [],
   "source": []
  }
 ],
 "metadata": {
  "kernelspec": {
   "display_name": "Python 3 (ipykernel)",
   "language": "python",
   "name": "python3"
  },
  "language_info": {
   "codemirror_mode": {
    "name": "ipython",
    "version": 3
   },
   "file_extension": ".py",
   "mimetype": "text/x-python",
   "name": "python",
   "nbconvert_exporter": "python",
   "pygments_lexer": "ipython3",
   "version": "3.7.3"
  }
 },
 "nbformat": 4,
 "nbformat_minor": 5
}
