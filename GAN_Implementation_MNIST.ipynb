{
 "cells": [
  {
   "cell_type": "markdown",
   "id": "59097730",
   "metadata": {},
   "source": [
    "The idea behind GANs is that you have two networks, a generator  and a discriminator , competing against each other. The generator makes \"fake\" data to pass to the discriminator. The discriminator also sees real training data and predicts if the data it's received is real or fake.\n",
    "\n",
    "The generator is trained to fool the discriminator, it wants to output data that looks as close as possible to real, training data.\n",
    "The discriminator is a classifier that is trained to figure out which data is real and which is fake.\n",
    "What ends up happening is that the generator learns to make data that is indistinguishable from real data to the discriminator.\n",
    "\n",
    "\n",
    "\n",
    "The general structure of a GAN is shown in the diagram above, using MNIST images as data. The latent sample is a random vector that the generator uses to construct its fake images. This is often called a latent vector and that vector space is called latent space. As the generator trains, it figures out how to map latent vectors to recognizable images that can fool the discriminator.\n",
    "\n",
    "If you're interested in generating only new images, you can throw out the discriminator after training. In this notebook, I'll show you how to define and train these adversarial networks in PyTorch and generate new images!"
   ]
  },
  {
   "cell_type": "markdown",
   "id": "df11f756",
   "metadata": {},
   "source": [
    "# Import the library"
   ]
  },
  {
   "cell_type": "code",
   "execution_count": 2,
   "id": "c2590efb",
   "metadata": {},
   "outputs": [],
   "source": [
    "%matplotlib inline\n",
    "\n",
    "import numpy as np\n",
    "import torch\n",
    "import matplotlib.pyplot as plt"
   ]
  },
  {
   "cell_type": "code",
   "execution_count": 12,
   "id": "1c210a30",
   "metadata": {},
   "outputs": [],
   "source": [
    "from torchvision import datasets\n",
    "import torchvision.transforms as transforms\n",
    "\n",
    "# number of subprocesses to use for data loading\n",
    "num_workers = 0\n",
    "# how many samples per batch to load\n",
    "batch_size = 64\n",
    "\n",
    "# convert data to torch.FloatTensor\n",
    "transform = transforms.ToTensor()\n",
    "\n",
    "# get the training datasets\n",
    "train_data = datasets.MNIST(root='data', train=True,\n",
    "                                   download=True, transform=transform)\n",
    "\n",
    "# prepare data loader\n",
    "train_loader = torch.utils.data.DataLoader(train_data, batch_size=batch_size,\n",
    "                                           num_workers=num_workers)"
   ]
  },
  {
   "cell_type": "code",
   "execution_count": 13,
   "id": "5f991efa",
   "metadata": {},
   "outputs": [
    {
     "name": "stdout",
     "output_type": "stream",
     "text": [
      "[tensor([[[[0., 0., 0.,  ..., 0., 0., 0.],\n",
      "          [0., 0., 0.,  ..., 0., 0., 0.],\n",
      "          [0., 0., 0.,  ..., 0., 0., 0.],\n",
      "          ...,\n",
      "          [0., 0., 0.,  ..., 0., 0., 0.],\n",
      "          [0., 0., 0.,  ..., 0., 0., 0.],\n",
      "          [0., 0., 0.,  ..., 0., 0., 0.]]],\n",
      "\n",
      "\n",
      "        [[[0., 0., 0.,  ..., 0., 0., 0.],\n",
      "          [0., 0., 0.,  ..., 0., 0., 0.],\n",
      "          [0., 0., 0.,  ..., 0., 0., 0.],\n",
      "          ...,\n",
      "          [0., 0., 0.,  ..., 0., 0., 0.],\n",
      "          [0., 0., 0.,  ..., 0., 0., 0.],\n",
      "          [0., 0., 0.,  ..., 0., 0., 0.]]],\n",
      "\n",
      "\n",
      "        [[[0., 0., 0.,  ..., 0., 0., 0.],\n",
      "          [0., 0., 0.,  ..., 0., 0., 0.],\n",
      "          [0., 0., 0.,  ..., 0., 0., 0.],\n",
      "          ...,\n",
      "          [0., 0., 0.,  ..., 0., 0., 0.],\n",
      "          [0., 0., 0.,  ..., 0., 0., 0.],\n",
      "          [0., 0., 0.,  ..., 0., 0., 0.]]],\n",
      "\n",
      "\n",
      "        ...,\n",
      "\n",
      "\n",
      "        [[[0., 0., 0.,  ..., 0., 0., 0.],\n",
      "          [0., 0., 0.,  ..., 0., 0., 0.],\n",
      "          [0., 0., 0.,  ..., 0., 0., 0.],\n",
      "          ...,\n",
      "          [0., 0., 0.,  ..., 0., 0., 0.],\n",
      "          [0., 0., 0.,  ..., 0., 0., 0.],\n",
      "          [0., 0., 0.,  ..., 0., 0., 0.]]],\n",
      "\n",
      "\n",
      "        [[[0., 0., 0.,  ..., 0., 0., 0.],\n",
      "          [0., 0., 0.,  ..., 0., 0., 0.],\n",
      "          [0., 0., 0.,  ..., 0., 0., 0.],\n",
      "          ...,\n",
      "          [0., 0., 0.,  ..., 0., 0., 0.],\n",
      "          [0., 0., 0.,  ..., 0., 0., 0.],\n",
      "          [0., 0., 0.,  ..., 0., 0., 0.]]],\n",
      "\n",
      "\n",
      "        [[[0., 0., 0.,  ..., 0., 0., 0.],\n",
      "          [0., 0., 0.,  ..., 0., 0., 0.],\n",
      "          [0., 0., 0.,  ..., 0., 0., 0.],\n",
      "          ...,\n",
      "          [0., 0., 0.,  ..., 0., 0., 0.],\n",
      "          [0., 0., 0.,  ..., 0., 0., 0.],\n",
      "          [0., 0., 0.,  ..., 0., 0., 0.]]]]), tensor([5, 0, 4, 1, 9, 2, 1, 3, 1, 4, 3, 5, 3, 6, 1, 7, 2, 8, 6, 9, 4, 0, 9, 1,\n",
      "        1, 2, 4, 3, 2, 7, 3, 8, 6, 9, 0, 5, 6, 0, 7, 6, 1, 8, 7, 9, 3, 9, 8, 5,\n",
      "        9, 3, 3, 0, 7, 4, 9, 8, 0, 9, 4, 1, 4, 4, 6, 0])]\n"
     ]
    }
   ],
   "source": [
    "for i in train_loader:\n",
    "    print(i)\n",
    "    break\n",
    "        "
   ]
  },
  {
   "cell_type": "markdown",
   "id": "c8675d61",
   "metadata": {},
   "source": [
    "## Visualize the data"
   ]
  },
  {
   "cell_type": "code",
   "execution_count": 4,
   "id": "290621af",
   "metadata": {},
   "outputs": [
    {
     "data": {
      "text/plain": [
       "<matplotlib.image.AxesImage at 0x27adbc85c18>"
      ]
     },
     "execution_count": 4,
     "metadata": {},
     "output_type": "execute_result"
    },
    {
     "data": {
      "image/png": "[encoded data removed]",
      "text/plain": [
       "<Figure size 216x216 with 1 Axes>"
      ]
     },
     "metadata": {
      "needs_background": "light"
     },
     "output_type": "display_data"
    }
   ],
   "source": [
    "# obtain one batch of training images\n",
    "dataiter = iter(train_loader)\n",
    "images, labels = dataiter.next()\n",
    "images = images.numpy()\n",
    "\n",
    "# get one image from the batch\n",
    "img = np.squeeze(images[0])\n",
    "\n",
    "fig = plt.figure(figsize = (3,3)) \n",
    "ax = fig.add_subplot(111)\n",
    "ax.imshow(img, cmap='gray')"
   ]
  },
  {
   "cell_type": "markdown",
   "id": "5e3114e5",
   "metadata": {},
   "source": [
    "# Define the Model\n",
    "A GAN is comprised of two adversarial networks, a discriminator and a generator.\n",
    "\n",
    "Discriminator\n",
    "The discriminator network is going to be a pretty typical linear classifier. To make this network a universal function approximator, we'll need at least one hidden layer, and these hidden layers should have one key attribute:\n",
    "\n",
    "All hidden layers will have a Leaky ReLu activation function applied to their outputs.\n",
    "\n",
    "\n",
    "\n",
    "Leaky ReLu\n",
    "We should use a leaky ReLU to allow gradients to flow backwards through the layer unimpeded. A leaky ReLU is like a normal ReLU, except that there is a small non-zero output for negative input values.\n",
    "\n",
    "\n",
    "\n",
    "Sigmoid Output\n",
    "We'll also take the approach of using a more numerically stable loss function on the outputs. Recall that we want the discriminator to output a value 0-1 indicating whether an image is real or fake.\n",
    "\n",
    "We will ultimately use BCEWithLogitsLoss, which combines a sigmoid activation function and and binary cross entropy loss in one function.\n",
    "\n",
    "So, our final output layer should not have any activation function applied to it."
   ]
  },
  {
   "cell_type": "code",
   "execution_count": 5,
   "id": "ef352c08",
   "metadata": {},
   "outputs": [],
   "source": [
    "import torch.nn as nn\n",
    "import torch.nn.functional as F\n",
    "\n",
    "class Discriminator(nn.Module):\n",
    "\n",
    "    def __init__(self, input_size, hidden_dim, output_size):\n",
    "        super(Discriminator, self).__init__()\n",
    "        \n",
    "        # define hidden linear layers\n",
    "        self.fc1 = nn.Linear(input_size, hidden_dim*4)\n",
    "        self.fc2 = nn.Linear(hidden_dim*4, hidden_dim*2)\n",
    "        self.fc3 = nn.Linear(hidden_dim*2, hidden_dim)\n",
    "        \n",
    "        # final fully-connected layer\n",
    "        self.fc4 = nn.Linear(hidden_dim, output_size)\n",
    "        \n",
    "        # dropout layer \n",
    "        self.dropout = nn.Dropout(0.3)\n",
    "        \n",
    "        \n",
    "    def forward(self, x):\n",
    "        # flatten image\n",
    "        x = x.view(-1, 28*28)\n",
    "        # all hidden layers\n",
    "        x = F.leaky_relu(self.fc1(x), 0.2) # (input, negative_slope=0.2)\n",
    "        x = self.dropout(x)\n",
    "        x = F.leaky_relu(self.fc2(x), 0.2)\n",
    "        x = self.dropout(x)\n",
    "        x = F.leaky_relu(self.fc3(x), 0.2)\n",
    "        x = self.dropout(x)\n",
    "        # final layer\n",
    "        out = self.fc4(x)\n",
    "\n",
    "        return out"
   ]
  },
  {
   "cell_type": "markdown",
   "id": "cf4c28ce",
   "metadata": {},
   "source": [
    "# Generator\n",
    "The generator network will be almost exactly the same as the discriminator network, except that we're applying a tanh activation function to our output layer.\n",
    "\n",
    "tanh Output\n",
    "The generator has been found to perform the best with  for the generator output, which scales the output to be between -1 and 1, instead of 0 and 1.\n",
    "\n",
    "\n",
    "\n",
    "Recall that we also want these outputs to be comparable to the real input pixel values, which are read in as normalized values between 0 and 1.\n",
    "\n",
    "So, we'll also have to scale our real input images to have pixel values between -1 and 1 when we train the discriminator.\n",
    "\n",
    "I'll do this in the training loop, later on."
   ]
  },
  {
   "cell_type": "code",
   "execution_count": 6,
   "id": "55e33a2b",
   "metadata": {},
   "outputs": [],
   "source": [
    "class Generator(nn.Module):\n",
    "\n",
    "    def __init__(self, input_size, hidden_dim, output_size):\n",
    "        super(Generator, self).__init__()\n",
    "        \n",
    "        # define hidden linear layers\n",
    "        self.fc1 = nn.Linear(input_size, hidden_dim)\n",
    "        self.fc2 = nn.Linear(hidden_dim, hidden_dim*2)\n",
    "        self.fc3 = nn.Linear(hidden_dim*2, hidden_dim*4)\n",
    "        \n",
    "        # final fully-connected layer\n",
    "        self.fc4 = nn.Linear(hidden_dim*4, output_size)\n",
    "        \n",
    "        # dropout layer \n",
    "        self.dropout = nn.Dropout(0.3)\n",
    "\n",
    "    def forward(self, x):\n",
    "        # all hidden layers\n",
    "        x = F.leaky_relu(self.fc1(x), 0.2) # (input, negative_slope=0.2)\n",
    "        x = self.dropout(x)\n",
    "        x = F.leaky_relu(self.fc2(x), 0.2)\n",
    "        x = self.dropout(x)\n",
    "        x = F.leaky_relu(self.fc3(x), 0.2)\n",
    "        x = self.dropout(x)\n",
    "        # final layer with tanh applied\n",
    "        out = F.tanh(self.fc4(x))\n",
    "\n",
    "        return out"
   ]
  },
  {
   "cell_type": "markdown",
   "id": "bf11d998",
   "metadata": {},
   "source": [
    "## Model hyperparameters"
   ]
  },
  {
   "cell_type": "code",
   "execution_count": 7,
   "id": "fa11c140",
   "metadata": {},
   "outputs": [],
   "source": [
    "# Discriminator hyperparams\n",
    "\n",
    "# Size of input image to discriminator (28*28)\n",
    "input_size = 784\n",
    "# Size of discriminator output (real or fake)\n",
    "d_output_size = 1\n",
    "# Size of last hidden layer in the discriminator\n",
    "d_hidden_size = 32\n",
    "\n",
    "# Generator hyperparams\n",
    "\n",
    "# Size of latent vector to give to generator\n",
    "z_size = 100\n",
    "# Size of discriminator output (generated image)\n",
    "g_output_size = 784\n",
    "# Size of first hidden layer in the generator\n",
    "g_hidden_size = 32"
   ]
  },
  {
   "cell_type": "markdown",
   "id": "59a5b510",
   "metadata": {},
   "source": [
    "## Build complete network\n",
    "Now we're instantiating the discriminator and generator from the classes defined above. Make sure you've passed in the correct input arguments."
   ]
  },
  {
   "cell_type": "code",
   "execution_count": 8,
   "id": "1e02bde3",
   "metadata": {},
   "outputs": [
    {
     "name": "stdout",
     "output_type": "stream",
     "text": [
      "Discriminator(\n",
      "  (fc1): Linear(in_features=784, out_features=128, bias=True)\n",
      "  (fc2): Linear(in_features=128, out_features=64, bias=True)\n",
      "  (fc3): Linear(in_features=64, out_features=32, bias=True)\n",
      "  (fc4): Linear(in_features=32, out_features=1, bias=True)\n",
      "  (dropout): Dropout(p=0.3)\n",
      ")\n",
      "\n",
      "Generator(\n",
      "  (fc1): Linear(in_features=100, out_features=32, bias=True)\n",
      "  (fc2): Linear(in_features=32, out_features=64, bias=True)\n",
      "  (fc3): Linear(in_features=64, out_features=128, bias=True)\n",
      "  (fc4): Linear(in_features=128, out_features=784, bias=True)\n",
      "  (dropout): Dropout(p=0.3)\n",
      ")\n"
     ]
    }
   ],
   "source": [
    "# instantiate discriminator and generator\n",
    "D = Discriminator(input_size, d_hidden_size, d_output_size)\n",
    "G = Generator(z_size, g_hidden_size, g_output_size)\n",
    "\n",
    "# check that they are as you expect\n",
    "print(D)\n",
    "print()\n",
    "print(G)"
   ]
  },
  {
   "cell_type": "markdown",
   "id": "28bdf7e0",
   "metadata": {},
   "source": [
    "# Discriminator and Generator Losses\n",
    "Now we need to calculate the losses.\n",
    "\n",
    "#Discriminator Losses\n",
    "\n",
    "For the discriminator, the total loss is the sum of the losses for real and fake images, \n",
    "d_loss = d_real_loss + d_fake_loss.\n",
    "\n",
    "Remember that we want the discriminator to output 1 for real images and 0 for fake images, \n",
    "so we need to set up the losses to reflect that.\n",
    "\n",
    "\n",
    "The losses will by binary cross entropy loss with logits, which we can get with BCEWithLogitsLoss. This combines a sigmoid activation function and and binary cross entropy loss in one function.\n",
    "\n",
    "For the real images, we want D(real_images) = 1. \n",
    "That is, we want the discriminator to classify the the real images with a label = 1, indicating that these are real. \n",
    "To help the discriminator generalize better, the labels are reduced a bit from 1.0 to 0.9. \n",
    "For this, we'll use the parameter smooth; \n",
    "if True, then we should smooth our labels. \n",
    "In PyTorch, this looks like labels = torch.ones(size) * 0.9\n",
    "\n",
    "The discriminator loss for the fake data is similar. \n",
    "\n",
    "We want D(fake_images) = 0, where the fake images are the generator output, fake_images = G(z).\n",
    "\n",
    "#Generator Loss\n",
    "\n",
    "The generator loss will look similar only with flipped labels. \n",
    "The generator's goal is to get D(fake_images) = 1. \n",
    "In this case, the labels are flipped to represent that the generator is trying to fool the discriminator into thinking that the images it generates (fakes) are real!"
   ]
  },
  {
   "cell_type": "code",
   "execution_count": 9,
   "id": "5a8cf9df",
   "metadata": {},
   "outputs": [],
   "source": [
    "# Calculate losses\n",
    "def real_loss(D_out, smooth=False):\n",
    "    batch_size = D_out.size(0)\n",
    "    # label smoothing\n",
    "    if smooth:\n",
    "        # smooth, real labels = 0.9\n",
    "        labels = torch.ones(batch_size)*0.9\n",
    "    else:\n",
    "        labels = torch.ones(batch_size) # real labels = 1\n",
    "        \n",
    "    # numerically stable loss\n",
    "    criterion = nn.BCEWithLogitsLoss()\n",
    "    \n",
    "    # calculate loss\n",
    "    loss = criterion(D_out.squeeze(), labels)\n",
    "    return loss\n",
    "\n",
    "def fake_loss(D_out):\n",
    "    batch_size = D_out.size(0)\n",
    "    labels = torch.zeros(batch_size) # fake labels = 0\n",
    "    criterion = nn.BCEWithLogitsLoss()\n",
    "    # calculate loss\n",
    "    loss = criterion(D_out.squeeze(), labels)\n",
    "    return loss"
   ]
  },
  {
   "cell_type": "markdown",
   "id": "3ae28967",
   "metadata": {},
   "source": [
    "# Optimizers\n",
    "We want to update the generator and discriminator variables separately. So, we'll define two separate Adam optimizers."
   ]
  },
  {
   "cell_type": "code",
   "execution_count": 10,
   "id": "9b152c40",
   "metadata": {},
   "outputs": [],
   "source": [
    "import torch.optim as optim\n",
    "\n",
    "# Optimizers\n",
    "lr = 0.002\n",
    "\n",
    "# Create optimizers for the discriminator and generator\n",
    "d_optimizer = optim.Adam(D.parameters(), lr)\n",
    "g_optimizer = optim.Adam(G.parameters(), lr)"
   ]
  },
  {
   "cell_type": "markdown",
   "id": "24e8fa7e",
   "metadata": {},
   "source": [
    "# Training\n",
    "Training will involve alternating between training the discriminator and the generator. We'll use our functions real_loss and fake_loss to help us calculate the discriminator losses in all of the following cases.\n",
    "\n"
   ]
  },
  {
   "cell_type": "markdown",
   "id": "3e5a8816",
   "metadata": {},
   "source": [
    "# Discriminator training\n",
    "\n",
    "Compute the discriminator loss on real, training images\n",
    "\n",
    "Generate fake images\n",
    "\n",
    "Compute the discriminator loss on fake, generated images\n",
    "\n",
    "Add up real and fake loss\n",
    "\n",
    "Perform backpropagation + an optimization step to update the discriminator's weights\n"
   ]
  },
  {
   "cell_type": "markdown",
   "id": "7bb04dc8",
   "metadata": {},
   "source": [
    "# Generator training\n",
    "Generate fake images\n",
    "\n",
    "Compute the discriminator loss on fake images, using flipped labels!\n",
    "\n",
    "Perform backpropagation + an optimization step to update the generator's weights\n",
    "\n",
    "Saving Samples\n",
    "\n",
    "As we train, we'll also print out some loss statistics and save some generated \"fake\" samples."
   ]
  },
  {
   "cell_type": "code",
   "execution_count": 11,
   "id": "5b24a637",
   "metadata": {},
   "outputs": [
    {
     "name": "stderr",
     "output_type": "stream",
     "text": [
      "C:\\Users\\mishr\\anaconda3\\envs\\pytorchenv\\lib\\site-packages\\torch\\nn\\functional.py:1374: UserWarning: nn.functional.tanh is deprecated. Use torch.tanh instead.\n",
      "  warnings.warn(\"nn.functional.tanh is deprecated. Use torch.tanh instead.\")\n"
     ]
    },
    {
     "name": "stdout",
     "output_type": "stream",
     "text": [
      "Epoch [    1/  100] | d_loss: 1.3870 | g_loss: 0.7168\n",
      "Epoch [    1/  100] | d_loss: 1.4550 | g_loss: 0.6780\n",
      "Epoch [    1/  100] | d_loss: 1.3562 | g_loss: 1.4353\n",
      "Epoch [    2/  100] | d_loss: 0.7901 | g_loss: 2.6091\n",
      "Epoch [    2/  100] | d_loss: 0.8683 | g_loss: 2.2109\n",
      "Epoch [    2/  100] | d_loss: 1.2552 | g_loss: 0.8054\n",
      "Epoch [    3/  100] | d_loss: 1.3102 | g_loss: 0.8486\n",
      "Epoch [    3/  100] | d_loss: 1.5112 | g_loss: 0.5112\n",
      "Epoch [    3/  100] | d_loss: 1.1032 | g_loss: 1.3860\n",
      "Epoch [    4/  100] | d_loss: 1.1502 | g_loss: 1.1547\n",
      "Epoch [    4/  100] | d_loss: 1.4012 | g_loss: 0.9542\n",
      "Epoch [    4/  100] | d_loss: 1.1019 | g_loss: 1.1468\n",
      "Epoch [    5/  100] | d_loss: 1.3333 | g_loss: 1.0816\n",
      "Epoch [    5/  100] | d_loss: 1.0146 | g_loss: 2.1723\n",
      "Epoch [    5/  100] | d_loss: 1.2233 | g_loss: 1.1885\n",
      "Epoch [    6/  100] | d_loss: 1.4325 | g_loss: 1.5371\n",
      "Epoch [    6/  100] | d_loss: 1.2284 | g_loss: 1.3005\n",
      "Epoch [    6/  100] | d_loss: 1.7908 | g_loss: 1.6370\n",
      "Epoch [    7/  100] | d_loss: 1.2827 | g_loss: 1.1045\n",
      "Epoch [    7/  100] | d_loss: 1.1784 | g_loss: 1.7395\n",
      "Epoch [    7/  100] | d_loss: 1.3413 | g_loss: 1.9318\n",
      "Epoch [    8/  100] | d_loss: 1.1944 | g_loss: 2.2217\n",
      "Epoch [    8/  100] | d_loss: 0.6402 | g_loss: 6.5088\n",
      "Epoch [    8/  100] | d_loss: 0.6883 | g_loss: 6.0855\n",
      "Epoch [    9/  100] | d_loss: 0.7352 | g_loss: 5.5512\n",
      "Epoch [    9/  100] | d_loss: 0.5241 | g_loss: 9.6237\n",
      "Epoch [    9/  100] | d_loss: 1.0890 | g_loss: 2.3400\n",
      "Epoch [   10/  100] | d_loss: 0.9332 | g_loss: 1.4249\n",
      "Epoch [   10/  100] | d_loss: 0.8371 | g_loss: 4.4520\n",
      "Epoch [   10/  100] | d_loss: 0.9517 | g_loss: 2.0284\n",
      "Epoch [   11/  100] | d_loss: 1.3621 | g_loss: 1.7079\n",
      "Epoch [   11/  100] | d_loss: 0.9969 | g_loss: 1.4370\n",
      "Epoch [   11/  100] | d_loss: 1.0754 | g_loss: 1.0731\n",
      "Epoch [   12/  100] | d_loss: 1.2610 | g_loss: 1.7477\n",
      "Epoch [   12/  100] | d_loss: 1.1682 | g_loss: 1.3616\n",
      "Epoch [   12/  100] | d_loss: 1.2014 | g_loss: 1.4529\n",
      "Epoch [   13/  100] | d_loss: 1.2040 | g_loss: 1.6713\n",
      "Epoch [   13/  100] | d_loss: 1.1858 | g_loss: 1.4780\n",
      "Epoch [   13/  100] | d_loss: 1.3210 | g_loss: 1.3416\n",
      "Epoch [   14/  100] | d_loss: 1.2881 | g_loss: 1.1852\n",
      "Epoch [   14/  100] | d_loss: 1.2600 | g_loss: 1.1606\n",
      "Epoch [   14/  100] | d_loss: 1.1431 | g_loss: 1.7692\n",
      "Epoch [   15/  100] | d_loss: 1.2616 | g_loss: 0.9982\n",
      "Epoch [   15/  100] | d_loss: 1.1194 | g_loss: 1.5256\n",
      "Epoch [   15/  100] | d_loss: 1.1347 | g_loss: 1.1014\n",
      "Epoch [   16/  100] | d_loss: 1.1697 | g_loss: 1.4794\n",
      "Epoch [   16/  100] | d_loss: 1.0546 | g_loss: 1.3077\n",
      "Epoch [   16/  100] | d_loss: 1.1780 | g_loss: 1.0881\n",
      "Epoch [   17/  100] | d_loss: 1.2740 | g_loss: 0.9302\n",
      "Epoch [   17/  100] | d_loss: 1.2646 | g_loss: 0.9035\n",
      "Epoch [   17/  100] | d_loss: 1.2222 | g_loss: 1.2675\n",
      "Epoch [   18/  100] | d_loss: 1.2800 | g_loss: 0.9692\n",
      "Epoch [   18/  100] | d_loss: 1.2449 | g_loss: 0.9883\n",
      "Epoch [   18/  100] | d_loss: 1.3239 | g_loss: 0.8600\n",
      "Epoch [   19/  100] | d_loss: 1.4961 | g_loss: 1.2577\n",
      "Epoch [   19/  100] | d_loss: 1.2377 | g_loss: 1.0774\n",
      "Epoch [   19/  100] | d_loss: 1.2596 | g_loss: 0.8493\n",
      "Epoch [   20/  100] | d_loss: 1.3349 | g_loss: 1.0043\n",
      "Epoch [   20/  100] | d_loss: 1.2797 | g_loss: 0.9669\n",
      "Epoch [   20/  100] | d_loss: 1.2757 | g_loss: 1.0871\n",
      "Epoch [   21/  100] | d_loss: 1.3087 | g_loss: 0.7821\n",
      "Epoch [   21/  100] | d_loss: 1.2323 | g_loss: 1.0014\n",
      "Epoch [   21/  100] | d_loss: 1.3628 | g_loss: 0.9164\n",
      "Epoch [   22/  100] | d_loss: 1.1739 | g_loss: 1.1637\n",
      "Epoch [   22/  100] | d_loss: 1.3008 | g_loss: 1.0089\n",
      "Epoch [   22/  100] | d_loss: 1.4050 | g_loss: 0.9436\n",
      "Epoch [   23/  100] | d_loss: 1.2966 | g_loss: 0.9039\n",
      "Epoch [   23/  100] | d_loss: 1.1913 | g_loss: 1.1624\n",
      "Epoch [   23/  100] | d_loss: 1.4141 | g_loss: 0.9368\n",
      "Epoch [   24/  100] | d_loss: 1.2703 | g_loss: 0.8290\n",
      "Epoch [   24/  100] | d_loss: 1.2972 | g_loss: 1.2189\n",
      "Epoch [   24/  100] | d_loss: 1.3560 | g_loss: 0.8356\n",
      "Epoch [   25/  100] | d_loss: 1.3782 | g_loss: 1.0680\n",
      "Epoch [   25/  100] | d_loss: 1.3782 | g_loss: 0.9340\n",
      "Epoch [   25/  100] | d_loss: 1.3004 | g_loss: 1.0321\n",
      "Epoch [   26/  100] | d_loss: 1.3013 | g_loss: 0.8922\n",
      "Epoch [   26/  100] | d_loss: 1.2573 | g_loss: 1.2073\n",
      "Epoch [   26/  100] | d_loss: 1.3296 | g_loss: 0.9773\n",
      "Epoch [   27/  100] | d_loss: 1.3365 | g_loss: 0.8188\n",
      "Epoch [   27/  100] | d_loss: 1.2461 | g_loss: 0.8783\n",
      "Epoch [   27/  100] | d_loss: 1.2749 | g_loss: 0.9626\n",
      "Epoch [   28/  100] | d_loss: 1.3075 | g_loss: 1.0271\n",
      "Epoch [   28/  100] | d_loss: 1.2792 | g_loss: 1.0654\n",
      "Epoch [   28/  100] | d_loss: 1.3615 | g_loss: 0.8249\n",
      "Epoch [   29/  100] | d_loss: 1.2002 | g_loss: 0.8579\n",
      "Epoch [   29/  100] | d_loss: 1.2831 | g_loss: 0.9945\n",
      "Epoch [   29/  100] | d_loss: 1.2594 | g_loss: 0.9155\n",
      "Epoch [   30/  100] | d_loss: 1.3327 | g_loss: 0.9325\n",
      "Epoch [   30/  100] | d_loss: 1.3086 | g_loss: 1.0595\n",
      "Epoch [   30/  100] | d_loss: 1.3412 | g_loss: 0.8684\n",
      "Epoch [   31/  100] | d_loss: 1.2164 | g_loss: 0.9208\n",
      "Epoch [   31/  100] | d_loss: 1.2500 | g_loss: 1.0127\n",
      "Epoch [   31/  100] | d_loss: 1.3640 | g_loss: 0.9381\n",
      "Epoch [   32/  100] | d_loss: 1.2886 | g_loss: 1.1957\n",
      "Epoch [   32/  100] | d_loss: 1.3205 | g_loss: 1.5319\n",
      "Epoch [   32/  100] | d_loss: 1.2490 | g_loss: 0.8270\n",
      "Epoch [   33/  100] | d_loss: 1.3172 | g_loss: 0.8237\n",
      "Epoch [   33/  100] | d_loss: 1.2572 | g_loss: 0.9355\n",
      "Epoch [   33/  100] | d_loss: 1.4023 | g_loss: 0.8601\n",
      "Epoch [   34/  100] | d_loss: 1.3363 | g_loss: 0.7327\n",
      "Epoch [   34/  100] | d_loss: 1.2946 | g_loss: 1.2874\n",
      "Epoch [   34/  100] | d_loss: 1.2956 | g_loss: 0.8809\n",
      "Epoch [   35/  100] | d_loss: 1.4253 | g_loss: 1.0446\n",
      "Epoch [   35/  100] | d_loss: 1.3385 | g_loss: 1.1161\n",
      "Epoch [   35/  100] | d_loss: 1.3348 | g_loss: 1.0156\n",
      "Epoch [   36/  100] | d_loss: 1.3524 | g_loss: 0.8198\n",
      "Epoch [   36/  100] | d_loss: 1.1734 | g_loss: 1.1358\n",
      "Epoch [   36/  100] | d_loss: 1.3307 | g_loss: 0.8714\n",
      "Epoch [   37/  100] | d_loss: 1.3539 | g_loss: 1.3568\n",
      "Epoch [   37/  100] | d_loss: 1.3240 | g_loss: 0.8098\n",
      "Epoch [   37/  100] | d_loss: 1.2944 | g_loss: 0.8585\n",
      "Epoch [   38/  100] | d_loss: 1.2535 | g_loss: 0.9913\n",
      "Epoch [   38/  100] | d_loss: 1.3042 | g_loss: 0.9406\n",
      "Epoch [   38/  100] | d_loss: 1.3960 | g_loss: 0.8771\n",
      "Epoch [   39/  100] | d_loss: 1.2699 | g_loss: 1.3618\n",
      "Epoch [   39/  100] | d_loss: 1.1901 | g_loss: 1.1824\n",
      "Epoch [   39/  100] | d_loss: 1.3934 | g_loss: 1.0101\n",
      "Epoch [   40/  100] | d_loss: 1.2730 | g_loss: 0.9326\n",
      "Epoch [   40/  100] | d_loss: 1.3039 | g_loss: 0.9949\n",
      "Epoch [   40/  100] | d_loss: 1.4577 | g_loss: 0.9909\n",
      "Epoch [   41/  100] | d_loss: 1.3299 | g_loss: 0.9301\n",
      "Epoch [   41/  100] | d_loss: 1.3378 | g_loss: 0.8748\n",
      "Epoch [   41/  100] | d_loss: 1.3616 | g_loss: 0.9053\n",
      "Epoch [   42/  100] | d_loss: 1.4145 | g_loss: 0.8516\n",
      "Epoch [   42/  100] | d_loss: 1.3229 | g_loss: 0.8460\n",
      "Epoch [   42/  100] | d_loss: 1.2968 | g_loss: 0.8702\n",
      "Epoch [   43/  100] | d_loss: 1.2738 | g_loss: 0.9159\n",
      "Epoch [   43/  100] | d_loss: 1.2648 | g_loss: 0.8040\n",
      "Epoch [   43/  100] | d_loss: 1.4640 | g_loss: 0.9633\n",
      "Epoch [   44/  100] | d_loss: 1.2806 | g_loss: 1.0552\n",
      "Epoch [   44/  100] | d_loss: 1.3383 | g_loss: 0.8337\n",
      "Epoch [   44/  100] | d_loss: 1.3694 | g_loss: 0.9329\n",
      "Epoch [   45/  100] | d_loss: 1.3070 | g_loss: 1.1321\n",
      "Epoch [   45/  100] | d_loss: 1.3183 | g_loss: 0.8611\n",
      "Epoch [   45/  100] | d_loss: 1.3894 | g_loss: 0.9108\n",
      "Epoch [   46/  100] | d_loss: 1.3164 | g_loss: 1.1978\n",
      "Epoch [   46/  100] | d_loss: 1.1982 | g_loss: 0.9890\n",
      "Epoch [   46/  100] | d_loss: 1.3502 | g_loss: 0.9122\n",
      "Epoch [   47/  100] | d_loss: 1.2858 | g_loss: 0.8003\n",
      "Epoch [   47/  100] | d_loss: 1.1774 | g_loss: 1.1237\n",
      "Epoch [   47/  100] | d_loss: 1.3743 | g_loss: 1.0590\n",
      "Epoch [   48/  100] | d_loss: 1.2278 | g_loss: 1.0691\n",
      "Epoch [   48/  100] | d_loss: 1.3463 | g_loss: 1.0122\n",
      "Epoch [   48/  100] | d_loss: 1.3558 | g_loss: 1.0642\n",
      "Epoch [   49/  100] | d_loss: 1.3783 | g_loss: 0.8756\n",
      "Epoch [   49/  100] | d_loss: 1.2860 | g_loss: 0.9722\n",
      "Epoch [   49/  100] | d_loss: 1.3610 | g_loss: 1.1790\n",
      "Epoch [   50/  100] | d_loss: 1.2903 | g_loss: 0.9851\n",
      "Epoch [   50/  100] | d_loss: 1.2724 | g_loss: 0.9920\n",
      "Epoch [   50/  100] | d_loss: 1.3719 | g_loss: 0.9363\n",
      "Epoch [   51/  100] | d_loss: 1.2897 | g_loss: 1.0200\n",
      "Epoch [   51/  100] | d_loss: 1.2882 | g_loss: 0.9103\n"
     ]
    },
    {
     "name": "stdout",
     "output_type": "stream",
     "text": [
      "Epoch [   51/  100] | d_loss: 1.4630 | g_loss: 0.8013\n",
      "Epoch [   52/  100] | d_loss: 1.3269 | g_loss: 0.8508\n",
      "Epoch [   52/  100] | d_loss: 1.2624 | g_loss: 1.1281\n",
      "Epoch [   52/  100] | d_loss: 1.2379 | g_loss: 1.2205\n",
      "Epoch [   53/  100] | d_loss: 1.2844 | g_loss: 1.3134\n",
      "Epoch [   53/  100] | d_loss: 1.2778 | g_loss: 0.7824\n",
      "Epoch [   53/  100] | d_loss: 1.2961 | g_loss: 0.8623\n",
      "Epoch [   54/  100] | d_loss: 1.3483 | g_loss: 1.5687\n",
      "Epoch [   54/  100] | d_loss: 1.2652 | g_loss: 0.8960\n",
      "Epoch [   54/  100] | d_loss: 1.4230 | g_loss: 0.9113\n",
      "Epoch [   55/  100] | d_loss: 1.2986 | g_loss: 0.8157\n",
      "Epoch [   55/  100] | d_loss: 1.3244 | g_loss: 1.0158\n",
      "Epoch [   55/  100] | d_loss: 1.3168 | g_loss: 0.8870\n",
      "Epoch [   56/  100] | d_loss: 1.2499 | g_loss: 0.8606\n",
      "Epoch [   56/  100] | d_loss: 1.2512 | g_loss: 0.9460\n",
      "Epoch [   56/  100] | d_loss: 1.3291 | g_loss: 1.0210\n",
      "Epoch [   57/  100] | d_loss: 1.2652 | g_loss: 0.7948\n",
      "Epoch [   57/  100] | d_loss: 1.4097 | g_loss: 0.9558\n",
      "Epoch [   57/  100] | d_loss: 1.3448 | g_loss: 0.8903\n",
      "Epoch [   58/  100] | d_loss: 1.2217 | g_loss: 0.9753\n",
      "Epoch [   58/  100] | d_loss: 1.2900 | g_loss: 1.0865\n",
      "Epoch [   58/  100] | d_loss: 1.3583 | g_loss: 0.8425\n",
      "Epoch [   59/  100] | d_loss: 1.2705 | g_loss: 0.7447\n",
      "Epoch [   59/  100] | d_loss: 1.3403 | g_loss: 0.9963\n",
      "Epoch [   59/  100] | d_loss: 1.3350 | g_loss: 0.9415\n",
      "Epoch [   60/  100] | d_loss: 1.3454 | g_loss: 0.8772\n",
      "Epoch [   60/  100] | d_loss: 1.2416 | g_loss: 1.0435\n",
      "Epoch [   60/  100] | d_loss: 1.3354 | g_loss: 0.9115\n",
      "Epoch [   61/  100] | d_loss: 1.3177 | g_loss: 0.9332\n",
      "Epoch [   61/  100] | d_loss: 1.2646 | g_loss: 0.8417\n",
      "Epoch [   61/  100] | d_loss: 1.4610 | g_loss: 1.0523\n",
      "Epoch [   62/  100] | d_loss: 1.2285 | g_loss: 0.8362\n",
      "Epoch [   62/  100] | d_loss: 1.2602 | g_loss: 0.9468\n",
      "Epoch [   62/  100] | d_loss: 1.2941 | g_loss: 1.0741\n",
      "Epoch [   63/  100] | d_loss: 1.3120 | g_loss: 1.0503\n",
      "Epoch [   63/  100] | d_loss: 1.2739 | g_loss: 0.9478\n",
      "Epoch [   63/  100] | d_loss: 1.3463 | g_loss: 0.9733\n",
      "Epoch [   64/  100] | d_loss: 1.3120 | g_loss: 1.0203\n",
      "Epoch [   64/  100] | d_loss: 1.1741 | g_loss: 1.0230\n",
      "Epoch [   64/  100] | d_loss: 1.3773 | g_loss: 0.9019\n",
      "Epoch [   65/  100] | d_loss: 1.3228 | g_loss: 0.7968\n",
      "Epoch [   65/  100] | d_loss: 1.3319 | g_loss: 1.1911\n",
      "Epoch [   65/  100] | d_loss: 1.3182 | g_loss: 0.9464\n",
      "Epoch [   66/  100] | d_loss: 1.3734 | g_loss: 0.8599\n",
      "Epoch [   66/  100] | d_loss: 1.3005 | g_loss: 0.9642\n",
      "Epoch [   66/  100] | d_loss: 1.4038 | g_loss: 0.9574\n",
      "Epoch [   67/  100] | d_loss: 1.3398 | g_loss: 1.0598\n",
      "Epoch [   67/  100] | d_loss: 1.2926 | g_loss: 0.8085\n",
      "Epoch [   67/  100] | d_loss: 1.3556 | g_loss: 1.0559\n",
      "Epoch [   68/  100] | d_loss: 1.3019 | g_loss: 0.9616\n",
      "Epoch [   68/  100] | d_loss: 1.1922 | g_loss: 1.0436\n",
      "Epoch [   68/  100] | d_loss: 1.3427 | g_loss: 0.9658\n",
      "Epoch [   69/  100] | d_loss: 1.2662 | g_loss: 0.9156\n",
      "Epoch [   69/  100] | d_loss: 1.3247 | g_loss: 1.0340\n",
      "Epoch [   69/  100] | d_loss: 1.4188 | g_loss: 1.0966\n",
      "Epoch [   70/  100] | d_loss: 1.3196 | g_loss: 0.9484\n",
      "Epoch [   70/  100] | d_loss: 1.2875 | g_loss: 1.2989\n",
      "Epoch [   70/  100] | d_loss: 1.3314 | g_loss: 0.8148\n",
      "Epoch [   71/  100] | d_loss: 1.3819 | g_loss: 1.0231\n",
      "Epoch [   71/  100] | d_loss: 1.2196 | g_loss: 0.9325\n",
      "Epoch [   71/  100] | d_loss: 1.2621 | g_loss: 0.9040\n",
      "Epoch [   72/  100] | d_loss: 1.2767 | g_loss: 0.9877\n",
      "Epoch [   72/  100] | d_loss: 1.2597 | g_loss: 0.9737\n",
      "Epoch [   72/  100] | d_loss: 1.2191 | g_loss: 0.9265\n",
      "Epoch [   73/  100] | d_loss: 1.3067 | g_loss: 1.0493\n",
      "Epoch [   73/  100] | d_loss: 1.2126 | g_loss: 0.9747\n",
      "Epoch [   73/  100] | d_loss: 1.2847 | g_loss: 0.9159\n",
      "Epoch [   74/  100] | d_loss: 1.3946 | g_loss: 0.9934\n",
      "Epoch [   74/  100] | d_loss: 1.2395 | g_loss: 1.0185\n",
      "Epoch [   74/  100] | d_loss: 1.4327 | g_loss: 1.0026\n",
      "Epoch [   75/  100] | d_loss: 1.2625 | g_loss: 1.0278\n",
      "Epoch [   75/  100] | d_loss: 1.3216 | g_loss: 0.9443\n",
      "Epoch [   75/  100] | d_loss: 1.3088 | g_loss: 0.9526\n",
      "Epoch [   76/  100] | d_loss: 1.4307 | g_loss: 1.0624\n",
      "Epoch [   76/  100] | d_loss: 1.3013 | g_loss: 1.0022\n",
      "Epoch [   76/  100] | d_loss: 1.3134 | g_loss: 0.8445\n",
      "Epoch [   77/  100] | d_loss: 1.3712 | g_loss: 0.8948\n",
      "Epoch [   77/  100] | d_loss: 1.3338 | g_loss: 1.0850\n",
      "Epoch [   77/  100] | d_loss: 1.2772 | g_loss: 0.9983\n",
      "Epoch [   78/  100] | d_loss: 1.2958 | g_loss: 0.9826\n",
      "Epoch [   78/  100] | d_loss: 1.2558 | g_loss: 0.8551\n",
      "Epoch [   78/  100] | d_loss: 1.4728 | g_loss: 1.0214\n",
      "Epoch [   79/  100] | d_loss: 1.3050 | g_loss: 1.4666\n",
      "Epoch [   79/  100] | d_loss: 1.2957 | g_loss: 0.9390\n",
      "Epoch [   79/  100] | d_loss: 1.4296 | g_loss: 0.9647\n",
      "Epoch [   80/  100] | d_loss: 1.2844 | g_loss: 0.7794\n",
      "Epoch [   80/  100] | d_loss: 1.3152 | g_loss: 0.8381\n",
      "Epoch [   80/  100] | d_loss: 1.3320 | g_loss: 0.8850\n",
      "Epoch [   81/  100] | d_loss: 1.2629 | g_loss: 1.1298\n",
      "Epoch [   81/  100] | d_loss: 1.2448 | g_loss: 0.8115\n",
      "Epoch [   81/  100] | d_loss: 1.3551 | g_loss: 1.1604\n",
      "Epoch [   82/  100] | d_loss: 1.3148 | g_loss: 1.1477\n",
      "Epoch [   82/  100] | d_loss: 1.2179 | g_loss: 1.2581\n",
      "Epoch [   82/  100] | d_loss: 1.4209 | g_loss: 1.1273\n",
      "Epoch [   83/  100] | d_loss: 1.3395 | g_loss: 0.8596\n",
      "Epoch [   83/  100] | d_loss: 1.3550 | g_loss: 0.9674\n",
      "Epoch [   83/  100] | d_loss: 1.3701 | g_loss: 1.3026\n",
      "Epoch [   84/  100] | d_loss: 1.2874 | g_loss: 0.8437\n",
      "Epoch [   84/  100] | d_loss: 1.2600 | g_loss: 1.1214\n",
      "Epoch [   84/  100] | d_loss: 1.4226 | g_loss: 0.9070\n",
      "Epoch [   85/  100] | d_loss: 1.2784 | g_loss: 0.7231\n",
      "Epoch [   85/  100] | d_loss: 1.2587 | g_loss: 1.0171\n",
      "Epoch [   85/  100] | d_loss: 1.3239 | g_loss: 0.9024\n",
      "Epoch [   86/  100] | d_loss: 1.4344 | g_loss: 1.2255\n",
      "Epoch [   86/  100] | d_loss: 1.2922 | g_loss: 1.3002\n",
      "Epoch [   86/  100] | d_loss: 1.3088 | g_loss: 1.0976\n",
      "Epoch [   87/  100] | d_loss: 1.2203 | g_loss: 1.6202\n",
      "Epoch [   87/  100] | d_loss: 1.3003 | g_loss: 1.0587\n",
      "Epoch [   87/  100] | d_loss: 1.3801 | g_loss: 0.8959\n",
      "Epoch [   88/  100] | d_loss: 1.2732 | g_loss: 0.8746\n",
      "Epoch [   88/  100] | d_loss: 1.2138 | g_loss: 0.9152\n",
      "Epoch [   88/  100] | d_loss: 1.3235 | g_loss: 0.9314\n",
      "Epoch [   89/  100] | d_loss: 1.4267 | g_loss: 1.2140\n",
      "Epoch [   89/  100] | d_loss: 1.2247 | g_loss: 0.8820\n",
      "Epoch [   89/  100] | d_loss: 1.2927 | g_loss: 0.9725\n",
      "Epoch [   90/  100] | d_loss: 1.3512 | g_loss: 0.9334\n",
      "Epoch [   90/  100] | d_loss: 1.1111 | g_loss: 1.0443\n",
      "Epoch [   90/  100] | d_loss: 1.4113 | g_loss: 1.2674\n",
      "Epoch [   91/  100] | d_loss: 1.3334 | g_loss: 1.1713\n",
      "Epoch [   91/  100] | d_loss: 1.3083 | g_loss: 0.9027\n",
      "Epoch [   91/  100] | d_loss: 1.2981 | g_loss: 1.1979\n",
      "Epoch [   92/  100] | d_loss: 1.2893 | g_loss: 0.9235\n",
      "Epoch [   92/  100] | d_loss: 1.3235 | g_loss: 1.2391\n",
      "Epoch [   92/  100] | d_loss: 1.2977 | g_loss: 0.9477\n",
      "Epoch [   93/  100] | d_loss: 1.2847 | g_loss: 1.2423\n",
      "Epoch [   93/  100] | d_loss: 1.3878 | g_loss: 0.8854\n",
      "Epoch [   93/  100] | d_loss: 1.3494 | g_loss: 0.9532\n",
      "Epoch [   94/  100] | d_loss: 1.2369 | g_loss: 1.0296\n",
      "Epoch [   94/  100] | d_loss: 1.3448 | g_loss: 1.3929\n",
      "Epoch [   94/  100] | d_loss: 1.3897 | g_loss: 1.1068\n",
      "Epoch [   95/  100] | d_loss: 1.2547 | g_loss: 1.2942\n",
      "Epoch [   95/  100] | d_loss: 1.2818 | g_loss: 1.0046\n",
      "Epoch [   95/  100] | d_loss: 1.2748 | g_loss: 0.9890\n",
      "Epoch [   96/  100] | d_loss: 1.3293 | g_loss: 1.1438\n",
      "Epoch [   96/  100] | d_loss: 1.3543 | g_loss: 0.9804\n",
      "Epoch [   96/  100] | d_loss: 1.3990 | g_loss: 1.1005\n",
      "Epoch [   97/  100] | d_loss: 1.3717 | g_loss: 0.8575\n",
      "Epoch [   97/  100] | d_loss: 1.3139 | g_loss: 1.2576\n",
      "Epoch [   97/  100] | d_loss: 1.4820 | g_loss: 0.9193\n",
      "Epoch [   98/  100] | d_loss: 1.2378 | g_loss: 1.0995\n",
      "Epoch [   98/  100] | d_loss: 1.1494 | g_loss: 1.2496\n",
      "Epoch [   98/  100] | d_loss: 1.3901 | g_loss: 0.9428\n",
      "Epoch [   99/  100] | d_loss: 1.2934 | g_loss: 1.0693\n",
      "Epoch [   99/  100] | d_loss: 1.2549 | g_loss: 0.8480\n",
      "Epoch [   99/  100] | d_loss: 1.2723 | g_loss: 1.1202\n",
      "Epoch [  100/  100] | d_loss: 1.2638 | g_loss: 1.1245\n",
      "Epoch [  100/  100] | d_loss: 1.3783 | g_loss: 0.9087\n",
      "Epoch [  100/  100] | d_loss: 1.3079 | g_loss: 0.9490\n"
     ]
    }
   ],
   "source": [
    "import pickle as pkl\n",
    "\n",
    "# training hyperparams\n",
    "num_epochs = 100\n",
    "\n",
    "# keep track of loss and generated, \"fake\" samples\n",
    "samples = []\n",
    "losses = []\n",
    "\n",
    "print_every = 400\n",
    "\n",
    "# Get some fixed data for sampling. These are images that are held\n",
    "# constant throughout training, and allow us to inspect the model's performance\n",
    "sample_size=16\n",
    "fixed_z = np.random.uniform(-1, 1, size=(sample_size, z_size))\n",
    "fixed_z = torch.from_numpy(fixed_z).float()\n",
    "\n",
    "# train the network\n",
    "D.train()\n",
    "G.train()\n",
    "for epoch in range(num_epochs):\n",
    "    \n",
    "    for batch_i, (real_images, _) in enumerate(train_loader):\n",
    "                \n",
    "        batch_size = real_images.size(0)\n",
    "        \n",
    "        ## Important rescaling step ## \n",
    "        real_images = real_images*2 - 1  # rescale input images from [0,1) to [-1, 1)\n",
    "        \n",
    "        # ============================================\n",
    "        #            TRAIN THE DISCRIMINATOR\n",
    "        # ============================================\n",
    "        \n",
    "        d_optimizer.zero_grad()\n",
    "        \n",
    "        # 1. Train with real images\n",
    "\n",
    "        # Compute the discriminator losses on real images \n",
    "        # smooth the real labels\n",
    "        D_real = D(real_images)\n",
    "        d_real_loss = real_loss(D_real, smooth=True)\n",
    "        \n",
    "        # 2. Train with fake images\n",
    "        \n",
    "        # Generate fake images\n",
    "        z = np.random.uniform(-1, 1, size=(batch_size, z_size))\n",
    "        z = torch.from_numpy(z).float()\n",
    "        fake_images = G(z)\n",
    "        \n",
    "        # Compute the discriminator losses on fake images        \n",
    "        D_fake = D(fake_images)\n",
    "        d_fake_loss = fake_loss(D_fake)\n",
    "        \n",
    "        # add up loss and perform backprop\n",
    "        d_loss = d_real_loss + d_fake_loss\n",
    "        d_loss.backward()\n",
    "        d_optimizer.step()\n",
    "        \n",
    "        \n",
    "        # =========================================\n",
    "        #            TRAIN THE GENERATOR\n",
    "        # =========================================\n",
    "        g_optimizer.zero_grad()\n",
    "        \n",
    "        # 1. Train with fake images and flipped labels\n",
    "        \n",
    "        # Generate fake images\n",
    "        z = np.random.uniform(-1, 1, size=(batch_size, z_size))\n",
    "        z = torch.from_numpy(z).float()\n",
    "        fake_images = G(z)\n",
    "        \n",
    "        # Compute the discriminator losses on fake images \n",
    "        # using flipped labels!\n",
    "        D_fake = D(fake_images)\n",
    "        g_loss = real_loss(D_fake) # use real loss to flip labels\n",
    "        \n",
    "        # perform backprop\n",
    "        g_loss.backward()\n",
    "        g_optimizer.step()\n",
    "\n",
    "        # Print some loss stats\n",
    "        if batch_i % print_every == 0:\n",
    "            # print discriminator and generator loss\n",
    "            print('Epoch [{:5d}/{:5d}] | d_loss: {:6.4f} | g_loss: {:6.4f}'.format(\n",
    "                    epoch+1, num_epochs, d_loss.item(), g_loss.item()))\n",
    "\n",
    "    \n",
    "    ## AFTER EACH EPOCH##\n",
    "    # append discriminator loss and generator loss\n",
    "    losses.append((d_loss.item(), g_loss.item()))\n",
    "    \n",
    "    # generate and save sample, fake images\n",
    "    G.eval() # eval mode for generating samples\n",
    "    samples_z = G(fixed_z)\n",
    "    samples.append(samples_z)\n",
    "    G.train() # back to train mode\n",
    "\n",
    "\n",
    "# Save training generator samples\n",
    "with open('train_samples.pkl', 'wb') as f:\n",
    "    pkl.dump(samples, f)"
   ]
  },
  {
   "cell_type": "markdown",
   "id": "0dac6bed",
   "metadata": {},
   "source": [
    "# Training loss\n",
    "Here we'll plot the training losses for the generator and discriminator, recorded after each epoch."
   ]
  },
  {
   "cell_type": "code",
   "execution_count": 14,
   "id": "26f28474",
   "metadata": {},
   "outputs": [
    {
     "data": {
      "text/plain": [
       "<matplotlib.legend.Legend at 0x27adbd77f60>"
      ]
     },
     "execution_count": 14,
     "metadata": {},
     "output_type": "execute_result"
    },
    {
     "data": {
      "image/png": "[encoded data removed]",
      "text/plain": [
       "<Figure size 432x288 with 1 Axes>"
      ]
     },
     "metadata": {
      "needs_background": "light"
     },
     "output_type": "display_data"
    }
   ],
   "source": [
    "fig, ax = plt.subplots()\n",
    "losses = np.array(losses)\n",
    "plt.plot(losses.T[0], label='Discriminator')\n",
    "plt.plot(losses.T[1], label='Generator')\n",
    "plt.title(\"Training Losses\")\n",
    "plt.legend()"
   ]
  },
  {
   "cell_type": "markdown",
   "id": "1fb1757b",
   "metadata": {},
   "source": [
    "# Generator samples from training\n",
    "Here we can view samples of images from the generator. First we'll look at the images we saved during training."
   ]
  },
  {
   "cell_type": "code",
   "execution_count": 15,
   "id": "a02621db",
   "metadata": {},
   "outputs": [],
   "source": [
    "# helper function for viewing a list of passed in sample images\n",
    "def view_samples(epoch, samples):\n",
    "    fig, axes = plt.subplots(figsize=(7,7), nrows=4, ncols=4, sharey=True, sharex=True)\n",
    "    for ax, img in zip(axes.flatten(), samples[epoch]):\n",
    "        img = img.detach()\n",
    "        ax.xaxis.set_visible(False)\n",
    "        ax.yaxis.set_visible(False)\n",
    "        im = ax.imshow(img.reshape((28,28)), cmap='Greys_r')"
   ]
  },
  {
   "cell_type": "code",
   "execution_count": 16,
   "id": "26ae17d7",
   "metadata": {},
   "outputs": [],
   "source": [
    "# Load samples from generator, taken while training\n",
    "with open('train_samples.pkl', 'rb') as f:\n",
    "    samples = pkl.load(f)"
   ]
  },
  {
   "cell_type": "markdown",
   "id": "7a4718ac",
   "metadata": {},
   "source": [
    "These are samples from the final training epoch. You can see the generator is able to reproduce numbers like 1, 7, 3, 2. Since this is just a sample, it isn't representative of the full range of images this generator can make."
   ]
  },
  {
   "cell_type": "code",
   "execution_count": 17,
   "id": "7d8f0721",
   "metadata": {},
   "outputs": [
    {
     "data": {
      "image/png": "[encoded data removed]",
      "text/plain": [
       "<Figure size 504x504 with 16 Axes>"
      ]
     },
     "metadata": {
      "needs_background": "light"
     },
     "output_type": "display_data"
    }
   ],
   "source": [
    "# -1 indicates final epoch's samples (the last in the list)\n",
    "view_samples(-1, samples)"
   ]
  },
  {
   "cell_type": "markdown",
   "id": "562ed176",
   "metadata": {},
   "source": [
    "Below I'm showing the generated images as the network was training, every 10 epochs."
   ]
  },
  {
   "cell_type": "code",
   "execution_count": 18,
   "id": "12d29f00",
   "metadata": {},
   "outputs": [
    {
     "data": {
      "image/png": "[encoded data removed]",
      "text/plain": [
       "<Figure size 504x864 with 60 Axes>"
      ]
     },
     "metadata": {
      "needs_background": "light"
     },
     "output_type": "display_data"
    }
   ],
   "source": [
    "rows = 10 # split epochs into 10, so 100/10 = every 10 epochs\n",
    "cols = 6\n",
    "fig, axes = plt.subplots(figsize=(7,12), nrows=rows, ncols=cols, sharex=True, sharey=True)\n",
    "\n",
    "for sample, ax_row in zip(samples[::int(len(samples)/rows)], axes):\n",
    "    for img, ax in zip(sample[::int(len(sample)/cols)], ax_row):\n",
    "        img = img.detach()\n",
    "        ax.imshow(img.reshape((28,28)), cmap='Greys_r')\n",
    "        ax.xaxis.set_visible(False)\n",
    "        ax.yaxis.set_visible(False)"
   ]
  },
  {
   "cell_type": "markdown",
   "id": "d98ace38",
   "metadata": {},
   "source": [
    "It starts out as all noise. Then it learns to make only the center white and the rest black. You can start to see some number like structures appear out of the noise like 1s and 9s."
   ]
  },
  {
   "cell_type": "markdown",
   "id": "cf8fd4dd",
   "metadata": {},
   "source": [
    "# Sampling from the generator\n",
    "We can also get completely new images from the generator by using the checkpoint we saved after training. We just need to pass in a new latent vector  and we'll get new samples!"
   ]
  },
  {
   "cell_type": "code",
   "execution_count": 19,
   "id": "29a8a5f2",
   "metadata": {},
   "outputs": [
    {
     "data": {
      "image/png": "[encoded data removed]",
      "text/plain": [
       "<Figure size 504x504 with 16 Axes>"
      ]
     },
     "metadata": {
      "needs_background": "light"
     },
     "output_type": "display_data"
    }
   ],
   "source": [
    "# randomly generated, new latent vectors\n",
    "sample_size=16\n",
    "rand_z = np.random.uniform(-1, 1, size=(sample_size, z_size))\n",
    "rand_z = torch.from_numpy(rand_z).float()\n",
    "\n",
    "G.eval() # eval mode\n",
    "# generated samples\n",
    "rand_images = G(rand_z)\n",
    "\n",
    "# 0 indicates the first set of samples in the passed in list\n",
    "# and we only have one batch of samples, here\n",
    "view_samples(0, [rand_images])"
   ]
  },
  {
   "cell_type": "code",
   "execution_count": null,
   "id": "382d6ad1",
   "metadata": {},
   "outputs": [],
   "source": []
  }
 ],
 "metadata": {
  "kernelspec": {
   "display_name": "Python 3 (ipykernel)",
   "language": "python",
   "name": "python3"
  },
  "language_info": {
   "codemirror_mode": {
    "name": "ipython",
    "version": 3
   },
   "file_extension": ".py",
   "mimetype": "text/x-python",
   "name": "python",
   "nbconvert_exporter": "python",
   "pygments_lexer": "ipython3",
   "version": "3.7.3"
  }
 },
 "nbformat": 4,
 "nbformat_minor": 5
}
