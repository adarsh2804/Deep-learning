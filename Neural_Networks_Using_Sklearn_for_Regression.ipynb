{
 "cells": [
  {
   "cell_type": "markdown",
   "metadata": {
    "id": "hmwQCDnBmJil"
   },
   "source": [
    "## Loading the data\n",
    "\n",
    "https://www.cs.toronto.edu/~delve/data/boston/bostonDetail.html"
   ]
  },
  {
   "cell_type": "code",
   "execution_count": null,
   "metadata": {
    "id": "dJM3q5bMjtBi"
   },
   "outputs": [],
   "source": [
    "from sklearn.neural_network import MLPRegressor\n",
    "from sklearn import datasets"
   ]
  },
  {
   "cell_type": "code",
   "execution_count": null,
   "metadata": {
    "id": "seLQVWizktHd"
   },
   "outputs": [],
   "source": [
    "boston = datasets.load_boston()"
   ]
  },
  {
   "cell_type": "code",
   "execution_count": null,
   "metadata": {
    "colab": {
     "base_uri": "https://localhost:8080/",
     "height": 235
    },
    "id": "0Xt-g4ICk1Hn",
    "outputId": "5effd227-959d-49c4-c9d0-cc5da43c374a"
   },
   "outputs": [
    {
     "data": {
      "text/plain": [
       "array([[6.3200e-03, 1.8000e+01, 2.3100e+00, ..., 1.5300e+01, 3.9690e+02,\n",
       "        4.9800e+00],\n",
       "       [2.7310e-02, 0.0000e+00, 7.0700e+00, ..., 1.7800e+01, 3.9690e+02,\n",
       "        9.1400e+00],\n",
       "       [2.7290e-02, 0.0000e+00, 7.0700e+00, ..., 1.7800e+01, 3.9283e+02,\n",
       "        4.0300e+00],\n",
       "       ...,\n",
       "       [6.0760e-02, 0.0000e+00, 1.1930e+01, ..., 2.1000e+01, 3.9690e+02,\n",
       "        5.6400e+00],\n",
       "       [1.0959e-01, 0.0000e+00, 1.1930e+01, ..., 2.1000e+01, 3.9345e+02,\n",
       "        6.4800e+00],\n",
       "       [4.7410e-02, 0.0000e+00, 1.1930e+01, ..., 2.1000e+01, 3.9690e+02,\n",
       "        7.8800e+00]])"
      ]
     },
     "execution_count": 3,
     "metadata": {
      "tags": []
     },
     "output_type": "execute_result"
    }
   ],
   "source": [
    "inputs = boston.data\n",
    "inputs"
   ]
  },
  {
   "cell_type": "code",
   "execution_count": null,
   "metadata": {
    "colab": {
     "base_uri": "https://localhost:8080/",
     "height": 50
    },
    "id": "eLqWkIrkk7La",
    "outputId": "257fb677-c024-428b-a8d3-0a44d496a213"
   },
   "outputs": [
    {
     "data": {
      "text/plain": [
       "array(['CRIM', 'ZN', 'INDUS', 'CHAS', 'NOX', 'RM', 'AGE', 'DIS', 'RAD',\n",
       "       'TAX', 'PTRATIO', 'B', 'LSTAT'], dtype='<U7')"
      ]
     },
     "execution_count": 4,
     "metadata": {
      "tags": []
     },
     "output_type": "execute_result"
    }
   ],
   "source": [
    "boston.feature_names"
   ]
  },
  {
   "cell_type": "code",
   "execution_count": null,
   "metadata": {
    "colab": {
     "base_uri": "https://localhost:8080/",
     "height": 790
    },
    "id": "SUPFkDvok9-N",
    "outputId": "f61809b3-d136-4ac3-9864-c33e1b1e8593"
   },
   "outputs": [
    {
     "data": {
      "text/plain": [
       "array([24. , 21.6, 34.7, 33.4, 36.2, 28.7, 22.9, 27.1, 16.5, 18.9, 15. ,\n",
       "       18.9, 21.7, 20.4, 18.2, 19.9, 23.1, 17.5, 20.2, 18.2, 13.6, 19.6,\n",
       "       15.2, 14.5, 15.6, 13.9, 16.6, 14.8, 18.4, 21. , 12.7, 14.5, 13.2,\n",
       "       13.1, 13.5, 18.9, 20. , 21. , 24.7, 30.8, 34.9, 26.6, 25.3, 24.7,\n",
       "       21.2, 19.3, 20. , 16.6, 14.4, 19.4, 19.7, 20.5, 25. , 23.4, 18.9,\n",
       "       35.4, 24.7, 31.6, 23.3, 19.6, 18.7, 16. , 22.2, 25. , 33. , 23.5,\n",
       "       19.4, 22. , 17.4, 20.9, 24.2, 21.7, 22.8, 23.4, 24.1, 21.4, 20. ,\n",
       "       20.8, 21.2, 20.3, 28. , 23.9, 24.8, 22.9, 23.9, 26.6, 22.5, 22.2,\n",
       "       23.6, 28.7, 22.6, 22. , 22.9, 25. , 20.6, 28.4, 21.4, 38.7, 43.8,\n",
       "       33.2, 27.5, 26.5, 18.6, 19.3, 20.1, 19.5, 19.5, 20.4, 19.8, 19.4,\n",
       "       21.7, 22.8, 18.8, 18.7, 18.5, 18.3, 21.2, 19.2, 20.4, 19.3, 22. ,\n",
       "       20.3, 20.5, 17.3, 18.8, 21.4, 15.7, 16.2, 18. , 14.3, 19.2, 19.6,\n",
       "       23. , 18.4, 15.6, 18.1, 17.4, 17.1, 13.3, 17.8, 14. , 14.4, 13.4,\n",
       "       15.6, 11.8, 13.8, 15.6, 14.6, 17.8, 15.4, 21.5, 19.6, 15.3, 19.4,\n",
       "       17. , 15.6, 13.1, 41.3, 24.3, 23.3, 27. , 50. , 50. , 50. , 22.7,\n",
       "       25. , 50. , 23.8, 23.8, 22.3, 17.4, 19.1, 23.1, 23.6, 22.6, 29.4,\n",
       "       23.2, 24.6, 29.9, 37.2, 39.8, 36.2, 37.9, 32.5, 26.4, 29.6, 50. ,\n",
       "       32. , 29.8, 34.9, 37. , 30.5, 36.4, 31.1, 29.1, 50. , 33.3, 30.3,\n",
       "       34.6, 34.9, 32.9, 24.1, 42.3, 48.5, 50. , 22.6, 24.4, 22.5, 24.4,\n",
       "       20. , 21.7, 19.3, 22.4, 28.1, 23.7, 25. , 23.3, 28.7, 21.5, 23. ,\n",
       "       26.7, 21.7, 27.5, 30.1, 44.8, 50. , 37.6, 31.6, 46.7, 31.5, 24.3,\n",
       "       31.7, 41.7, 48.3, 29. , 24. , 25.1, 31.5, 23.7, 23.3, 22. , 20.1,\n",
       "       22.2, 23.7, 17.6, 18.5, 24.3, 20.5, 24.5, 26.2, 24.4, 24.8, 29.6,\n",
       "       42.8, 21.9, 20.9, 44. , 50. , 36. , 30.1, 33.8, 43.1, 48.8, 31. ,\n",
       "       36.5, 22.8, 30.7, 50. , 43.5, 20.7, 21.1, 25.2, 24.4, 35.2, 32.4,\n",
       "       32. , 33.2, 33.1, 29.1, 35.1, 45.4, 35.4, 46. , 50. , 32.2, 22. ,\n",
       "       20.1, 23.2, 22.3, 24.8, 28.5, 37.3, 27.9, 23.9, 21.7, 28.6, 27.1,\n",
       "       20.3, 22.5, 29. , 24.8, 22. , 26.4, 33.1, 36.1, 28.4, 33.4, 28.2,\n",
       "       22.8, 20.3, 16.1, 22.1, 19.4, 21.6, 23.8, 16.2, 17.8, 19.8, 23.1,\n",
       "       21. , 23.8, 23.1, 20.4, 18.5, 25. , 24.6, 23. , 22.2, 19.3, 22.6,\n",
       "       19.8, 17.1, 19.4, 22.2, 20.7, 21.1, 19.5, 18.5, 20.6, 19. , 18.7,\n",
       "       32.7, 16.5, 23.9, 31.2, 17.5, 17.2, 23.1, 24.5, 26.6, 22.9, 24.1,\n",
       "       18.6, 30.1, 18.2, 20.6, 17.8, 21.7, 22.7, 22.6, 25. , 19.9, 20.8,\n",
       "       16.8, 21.9, 27.5, 21.9, 23.1, 50. , 50. , 50. , 50. , 50. , 13.8,\n",
       "       13.8, 15. , 13.9, 13.3, 13.1, 10.2, 10.4, 10.9, 11.3, 12.3,  8.8,\n",
       "        7.2, 10.5,  7.4, 10.2, 11.5, 15.1, 23.2,  9.7, 13.8, 12.7, 13.1,\n",
       "       12.5,  8.5,  5. ,  6.3,  5.6,  7.2, 12.1,  8.3,  8.5,  5. , 11.9,\n",
       "       27.9, 17.2, 27.5, 15. , 17.2, 17.9, 16.3,  7. ,  7.2,  7.5, 10.4,\n",
       "        8.8,  8.4, 16.7, 14.2, 20.8, 13.4, 11.7,  8.3, 10.2, 10.9, 11. ,\n",
       "        9.5, 14.5, 14.1, 16.1, 14.3, 11.7, 13.4,  9.6,  8.7,  8.4, 12.8,\n",
       "       10.5, 17.1, 18.4, 15.4, 10.8, 11.8, 14.9, 12.6, 14.1, 13. , 13.4,\n",
       "       15.2, 16.1, 17.8, 14.9, 14.1, 12.7, 13.5, 14.9, 20. , 16.4, 17.7,\n",
       "       19.5, 20.2, 21.4, 19.9, 19. , 19.1, 19.1, 20.1, 19.9, 19.6, 23.2,\n",
       "       29.8, 13.8, 13.3, 16.7, 12. , 14.6, 21.4, 23. , 23.7, 25. , 21.8,\n",
       "       20.6, 21.2, 19.1, 20.6, 15.2,  7. ,  8.1, 13.6, 20.1, 21.8, 24.5,\n",
       "       23.1, 19.7, 18.3, 21.2, 17.5, 16.8, 22.4, 20.6, 23.9, 22. , 11.9])"
      ]
     },
     "execution_count": 5,
     "metadata": {
      "tags": []
     },
     "output_type": "execute_result"
    }
   ],
   "source": [
    "outputs = boston.target\n",
    "outputs"
   ]
  },
  {
   "cell_type": "code",
   "execution_count": null,
   "metadata": {
    "colab": {
     "base_uri": "https://localhost:8080/",
     "height": 34
    },
    "id": "Z40re0xClGbq",
    "outputId": "e0b22f8d-aff4-441b-aba8-8562c1991d43"
   },
   "outputs": [
    {
     "data": {
      "text/plain": [
       "(506, 13)"
      ]
     },
     "execution_count": 7,
     "metadata": {
      "tags": []
     },
     "output_type": "execute_result"
    }
   ],
   "source": [
    "inputs.shape"
   ]
  },
  {
   "cell_type": "code",
   "execution_count": null,
   "metadata": {
    "colab": {
     "base_uri": "https://localhost:8080/",
     "height": 34
    },
    "id": "unWADzCblIKJ",
    "outputId": "743564b6-7ee8-4d09-86f8-9a67041286ca"
   },
   "outputs": [
    {
     "data": {
      "text/plain": [
       "(506,)"
      ]
     },
     "execution_count": 8,
     "metadata": {
      "tags": []
     },
     "output_type": "execute_result"
    }
   ],
   "source": [
    "outputs.shape"
   ]
  },
  {
   "cell_type": "markdown",
   "metadata": {
    "id": "UF29OkpYmMsV"
   },
   "source": [
    "## Train and test datasets"
   ]
  },
  {
   "cell_type": "code",
   "execution_count": null,
   "metadata": {
    "id": "13aLh0tolo8B"
   },
   "outputs": [],
   "source": [
    "from sklearn.model_selection import train_test_split\n",
    "X_train, X_test, y_train, y_test = train_test_split(inputs, outputs, test_size = 0.2)"
   ]
  },
  {
   "cell_type": "code",
   "execution_count": null,
   "metadata": {
    "colab": {
     "base_uri": "https://localhost:8080/",
     "height": 34
    },
    "id": "rUo21vlal6TW",
    "outputId": "8ed04678-02bd-411a-9b37-3f5600a2548a"
   },
   "outputs": [
    {
     "data": {
      "text/plain": [
       "(404, 13)"
      ]
     },
     "execution_count": 11,
     "metadata": {
      "tags": []
     },
     "output_type": "execute_result"
    }
   ],
   "source": [
    "X_train.shape"
   ]
  },
  {
   "cell_type": "code",
   "execution_count": null,
   "metadata": {
    "colab": {
     "base_uri": "https://localhost:8080/",
     "height": 34
    },
    "id": "tSmm6Pnjl8fc",
    "outputId": "7b00db77-1c1c-429e-b3de-4f8a515ff427"
   },
   "outputs": [
    {
     "data": {
      "text/plain": [
       "(404,)"
      ]
     },
     "execution_count": 12,
     "metadata": {
      "tags": []
     },
     "output_type": "execute_result"
    }
   ],
   "source": [
    "y_train.shape"
   ]
  },
  {
   "cell_type": "code",
   "execution_count": null,
   "metadata": {
    "colab": {
     "base_uri": "https://localhost:8080/",
     "height": 34
    },
    "id": "5_hgLkU1mEFB",
    "outputId": "acfc92e4-5c9c-478d-ddc7-b88ec68815f8"
   },
   "outputs": [
    {
     "data": {
      "text/plain": [
       "(102, 13)"
      ]
     },
     "execution_count": 13,
     "metadata": {
      "tags": []
     },
     "output_type": "execute_result"
    }
   ],
   "source": [
    "X_test.shape"
   ]
  },
  {
   "cell_type": "code",
   "execution_count": null,
   "metadata": {
    "colab": {
     "base_uri": "https://localhost:8080/",
     "height": 34
    },
    "id": "SaK4mWf1mGOL",
    "outputId": "56c967d0-844f-4640-d5c0-e91853dd908b"
   },
   "outputs": [
    {
     "data": {
      "text/plain": [
       "(102,)"
      ]
     },
     "execution_count": 14,
     "metadata": {
      "tags": []
     },
     "output_type": "execute_result"
    }
   ],
   "source": [
    "y_test.shape"
   ]
  },
  {
   "cell_type": "code",
   "execution_count": null,
   "metadata": {
    "colab": {
     "base_uri": "https://localhost:8080/",
     "height": 34
    },
    "id": "93yYPF1IVNjM",
    "outputId": "a1eb8224-81d4-4a75-cbb0-3eba0c83bad0"
   },
   "outputs": [
    {
     "data": {
      "text/plain": [
       "387.38"
      ]
     },
     "execution_count": 16,
     "metadata": {
      "tags": []
     },
     "output_type": "execute_result"
    }
   ],
   "source": [
    "max(X_train[0])"
   ]
  },
  {
   "cell_type": "code",
   "execution_count": null,
   "metadata": {
    "id": "kop4bTqtVmjo"
   },
   "outputs": [],
   "source": [
    "from sklearn.preprocessing import MinMaxScaler\n",
    "scaler1 = MinMaxScaler()\n",
    "X_train = scaler1.fit_transform(X_train)\n",
    "X_test = scaler1.transform(X_test)"
   ]
  },
  {
   "cell_type": "code",
   "execution_count": null,
   "metadata": {
    "colab": {
     "base_uri": "https://localhost:8080/",
     "height": 34
    },
    "id": "0VhSioYKV_T3",
    "outputId": "066e099a-37dc-46ab-b53a-84e5bfc36704"
   },
   "outputs": [
    {
     "data": {
      "text/plain": [
       "0.9759947551565888"
      ]
     },
     "execution_count": 18,
     "metadata": {
      "tags": []
     },
     "output_type": "execute_result"
    }
   ],
   "source": [
    "max(X_train[0])"
   ]
  },
  {
   "cell_type": "code",
   "execution_count": null,
   "metadata": {
    "id": "St22h9kFWcab"
   },
   "outputs": [],
   "source": [
    "y_train = y_train.reshape(-1, 1)\n",
    "y_test = y_test.reshape(-1, 1)"
   ]
  },
  {
   "cell_type": "code",
   "execution_count": null,
   "metadata": {
    "colab": {
     "base_uri": "https://localhost:8080/",
     "height": 34
    },
    "id": "5ViGtHIPWjne",
    "outputId": "26000779-2c76-458f-ceb6-4f775c41e9fa"
   },
   "outputs": [
    {
     "data": {
      "text/plain": [
       "(404, 1)"
      ]
     },
     "execution_count": 22,
     "metadata": {
      "tags": []
     },
     "output_type": "execute_result"
    }
   ],
   "source": [
    "y_train.shape"
   ]
  },
  {
   "cell_type": "code",
   "execution_count": null,
   "metadata": {
    "id": "H6QIU3noWEfj"
   },
   "outputs": [],
   "source": [
    "scaler2 = MinMaxScaler()\n",
    "y_train = scaler2.fit_transform(y_train)\n",
    "y_test = scaler2.transform(y_test)"
   ]
  },
  {
   "cell_type": "code",
   "execution_count": null,
   "metadata": {
    "colab": {
     "base_uri": "https://localhost:8080/",
     "height": 34
    },
    "id": "egYxZF_bWpPP",
    "outputId": "c18957ce-997d-4189-94e5-0f7671e43377"
   },
   "outputs": [
    {
     "data": {
      "text/plain": [
       "0.7244444444444444"
      ]
     },
     "execution_count": 24,
     "metadata": {
      "tags": []
     },
     "output_type": "execute_result"
    }
   ],
   "source": [
    "max(y_train[0])"
   ]
  },
  {
   "cell_type": "markdown",
   "metadata": {
    "id": "4S5gJUwomQ3U"
   },
   "source": [
    "## Neural network (training)"
   ]
  },
  {
   "cell_type": "code",
   "execution_count": null,
   "metadata": {
    "colab": {
     "base_uri": "https://localhost:8080/",
     "height": 1000
    },
    "id": "-BKo77XSW0p5",
    "outputId": "3c4fce2c-8e87-4c46-fb92-11e9fa4af70d"
   },
   "outputs": [
    {
     "name": "stdout",
     "output_type": "stream",
     "text": [
      "Iteration 1, loss = 0.13175798\n",
      "Iteration 2, loss = 0.11679720\n",
      "Iteration 3, loss = 0.10321247\n",
      "Iteration 4, loss = 0.09148107\n",
      "Iteration 5, loss = 0.08139271\n",
      "Iteration 6, loss = 0.07284470\n",
      "Iteration 7, loss = 0.06545187\n",
      "Iteration 8, loss = 0.05909055\n",
      "Iteration 9, loss = 0.05364205\n",
      "Iteration 10, loss = 0.04917420\n",
      "Iteration 11, loss = 0.04554622\n",
      "Iteration 12, loss = 0.04259327\n",
      "Iteration 13, loss = 0.04017788\n",
      "Iteration 14, loss = 0.03829202\n",
      "Iteration 15, loss = 0.03680972\n",
      "Iteration 16, loss = 0.03573031\n",
      "Iteration 17, loss = 0.03483737\n",
      "Iteration 18, loss = 0.03409210\n",
      "Iteration 19, loss = 0.03342929\n",
      "Iteration 20, loss = 0.03280812\n",
      "Iteration 21, loss = 0.03221890\n",
      "Iteration 22, loss = 0.03166174\n",
      "Iteration 23, loss = 0.03114186\n",
      "Iteration 24, loss = 0.03064682\n",
      "Iteration 25, loss = 0.03013514\n",
      "Iteration 26, loss = 0.02961449\n",
      "Iteration 27, loss = 0.02909473\n",
      "Iteration 28, loss = 0.02863613\n",
      "Iteration 29, loss = 0.02820861\n",
      "Iteration 30, loss = 0.02779571\n",
      "Iteration 31, loss = 0.02736619\n",
      "Iteration 32, loss = 0.02696042\n",
      "Iteration 33, loss = 0.02655649\n",
      "Iteration 34, loss = 0.02616262\n",
      "Iteration 35, loss = 0.02579389\n",
      "Iteration 36, loss = 0.02545387\n",
      "Iteration 37, loss = 0.02514516\n",
      "Iteration 38, loss = 0.02483695\n",
      "Iteration 39, loss = 0.02451864\n",
      "Iteration 40, loss = 0.02423659\n",
      "Iteration 41, loss = 0.02394438\n",
      "Iteration 42, loss = 0.02368253\n",
      "Iteration 43, loss = 0.02340843\n",
      "Iteration 44, loss = 0.02316227\n",
      "Iteration 45, loss = 0.02291689\n",
      "Iteration 46, loss = 0.02268331\n",
      "Iteration 47, loss = 0.02247263\n",
      "Iteration 48, loss = 0.02225673\n",
      "Iteration 49, loss = 0.02205762\n",
      "Iteration 50, loss = 0.02190614\n",
      "Iteration 51, loss = 0.02170809\n",
      "Iteration 52, loss = 0.02150558\n",
      "Iteration 53, loss = 0.02133424\n",
      "Iteration 54, loss = 0.02117512\n",
      "Iteration 55, loss = 0.02099073\n",
      "Iteration 56, loss = 0.02078395\n",
      "Iteration 57, loss = 0.02055797\n",
      "Iteration 58, loss = 0.02036855\n",
      "Iteration 59, loss = 0.02020442\n",
      "Iteration 60, loss = 0.02005117\n",
      "Iteration 61, loss = 0.01990342\n",
      "Iteration 62, loss = 0.01975584\n",
      "Iteration 63, loss = 0.01960963\n",
      "Iteration 64, loss = 0.01946546\n",
      "Iteration 65, loss = 0.01933426\n",
      "Iteration 66, loss = 0.01920811\n",
      "Iteration 67, loss = 0.01909811\n",
      "Iteration 68, loss = 0.01900172\n",
      "Iteration 69, loss = 0.01892515\n",
      "Iteration 70, loss = 0.01888383\n",
      "Iteration 71, loss = 0.01885136\n",
      "Iteration 72, loss = 0.01882221\n",
      "Iteration 73, loss = 0.01876605\n",
      "Iteration 74, loss = 0.01863754\n",
      "Iteration 75, loss = 0.01847927\n",
      "Iteration 76, loss = 0.01835923\n",
      "Iteration 77, loss = 0.01823282\n",
      "Iteration 78, loss = 0.01808565\n",
      "Iteration 79, loss = 0.01793365\n",
      "Iteration 80, loss = 0.01778299\n",
      "Iteration 81, loss = 0.01767014\n",
      "Iteration 82, loss = 0.01756871\n",
      "Iteration 83, loss = 0.01746519\n",
      "Iteration 84, loss = 0.01738819\n",
      "Iteration 85, loss = 0.01733381\n",
      "Iteration 86, loss = 0.01727718\n",
      "Iteration 87, loss = 0.01720912\n",
      "Iteration 88, loss = 0.01713641\n",
      "Iteration 89, loss = 0.01706083\n",
      "Iteration 90, loss = 0.01694564\n",
      "Iteration 91, loss = 0.01683312\n",
      "Iteration 92, loss = 0.01674564\n",
      "Iteration 93, loss = 0.01665645\n",
      "Iteration 94, loss = 0.01657468\n",
      "Iteration 95, loss = 0.01649059\n",
      "Iteration 96, loss = 0.01640824\n",
      "Iteration 97, loss = 0.01636180\n",
      "Iteration 98, loss = 0.01631338\n",
      "Iteration 99, loss = 0.01625956\n",
      "Iteration 100, loss = 0.01621257\n",
      "Iteration 101, loss = 0.01618384\n",
      "Iteration 102, loss = 0.01614687\n",
      "Training loss did not improve more than tol=0.000100 for 10 consecutive epochs. Stopping.\n"
     ]
    },
    {
     "name": "stderr",
     "output_type": "stream",
     "text": [
      "/usr/local/lib/python3.6/dist-packages/sklearn/neural_network/_multilayer_perceptron.py:1342: DataConversionWarning: A column-vector y was passed when a 1d array was expected. Please change the shape of y to (n_samples, ), for example using ravel().\n",
      "  y = column_or_1d(y, warn=True)\n"
     ]
    },
    {
     "data": {
      "text/plain": [
       "MLPRegressor(activation='relu', alpha=0.0001, batch_size='auto', beta_1=0.9,\n",
       "             beta_2=0.999, early_stopping=False, epsilon=1e-08,\n",
       "             hidden_layer_sizes=7, learning_rate='constant',\n",
       "             learning_rate_init=0.001, max_fun=15000, max_iter=2000,\n",
       "             momentum=0.9, n_iter_no_change=10, nesterovs_momentum=True,\n",
       "             power_t=0.5, random_state=None, shuffle=True, solver='adam',\n",
       "             tol=0.0001, validation_fraction=0.1, verbose=True,\n",
       "             warm_start=False)"
      ]
     },
     "execution_count": 30,
     "metadata": {
      "tags": []
     },
     "output_type": "execute_result"
    }
   ],
   "source": [
    "network = MLPRegressor(max_iter=2000, verbose=True, hidden_layer_sizes=(7))\n",
    "network.fit(X_train, y_train)"
   ]
  },
  {
   "cell_type": "code",
   "execution_count": null,
   "metadata": {
    "colab": {
     "base_uri": "https://localhost:8080/",
     "height": 1000
    },
    "id": "UdaztvVezhey",
    "outputId": "73a08193-76fd-4a3a-926f-2411e80fa321"
   },
   "outputs": [
    {
     "data": {
      "text/plain": [
       "[array([[-1.70001398e-02, -1.07363916e-01, -6.41480557e-02, ...,\n",
       "         -1.97038057e-02,  5.37078534e-02,  5.84918200e-02],\n",
       "        [ 5.23436137e-02,  1.75236791e-01, -1.55627221e-02, ...,\n",
       "         -2.06495207e-02, -7.48453160e-02,  9.59534278e-02],\n",
       "        [-1.53727241e-02,  1.30440587e-01, -2.19080324e-02, ...,\n",
       "         -2.33758050e-02,  2.98612833e-02, -6.77335334e-03],\n",
       "        ...,\n",
       "        [ 1.27068416e-01,  8.94074756e-02, -1.75862155e-01, ...,\n",
       "          3.30844879e-04, -9.87053095e-02,  4.02285919e-02],\n",
       "        [ 1.38548976e-01,  2.47316566e-01, -2.07070615e-01, ...,\n",
       "         -4.37187941e-08,  1.72163953e-01,  8.41217515e-02],\n",
       "        [ 1.48828234e-01,  6.65439719e-02,  1.02879872e-02, ...,\n",
       "         -5.94107719e-03,  2.53755543e-02,  6.81014194e-02]]),\n",
       " array([[-4.63554421e-02],\n",
       "        [ 9.58733422e-02],\n",
       "        [-1.38812366e-01],\n",
       "        [ 1.05412485e-01],\n",
       "        [ 2.34566489e-01],\n",
       "        [ 1.55807991e-01],\n",
       "        [-1.16543505e-01],\n",
       "        [-1.88850597e-01],\n",
       "        [ 1.27255478e-01],\n",
       "        [-1.25852480e-01],\n",
       "        [-2.53923759e-02],\n",
       "        [ 1.20564017e-01],\n",
       "        [-1.53187735e-01],\n",
       "        [ 3.16882693e-02],\n",
       "        [ 2.80785655e-04],\n",
       "        [-2.41481589e-01],\n",
       "        [ 1.81793456e-01],\n",
       "        [-7.52041781e-02],\n",
       "        [-8.63521808e-02],\n",
       "        [ 2.26285827e-01],\n",
       "        [ 2.04274565e-01],\n",
       "        [ 1.11174919e-01],\n",
       "        [ 8.35617512e-02],\n",
       "        [-1.52632589e-03],\n",
       "        [-1.33756038e-01],\n",
       "        [-4.49150241e-02],\n",
       "        [ 2.71166412e-06],\n",
       "        [-1.71736461e-01],\n",
       "        [-2.24120405e-01],\n",
       "        [ 2.50783414e-02],\n",
       "        [ 1.93861903e-01],\n",
       "        [-1.92639505e-01],\n",
       "        [ 1.53335970e-01],\n",
       "        [-6.22255166e-02],\n",
       "        [-7.16366270e-02],\n",
       "        [-4.46484874e-02],\n",
       "        [-2.03244643e-01],\n",
       "        [ 1.30899032e-01],\n",
       "        [ 2.20845653e-01],\n",
       "        [-8.02715575e-02],\n",
       "        [-1.21675698e-01],\n",
       "        [ 4.52882200e-02],\n",
       "        [-1.93084946e-01],\n",
       "        [ 8.49121525e-02],\n",
       "        [ 1.02005541e-05],\n",
       "        [-1.33368810e-01],\n",
       "        [-2.06385203e-01],\n",
       "        [-1.23203124e-01],\n",
       "        [-9.89762520e-08],\n",
       "        [ 1.77653715e-01],\n",
       "        [ 2.39921741e-01],\n",
       "        [-2.68704488e-02],\n",
       "        [-6.75341320e-02],\n",
       "        [ 4.98874668e-02],\n",
       "        [-6.10542802e-02],\n",
       "        [-7.40582684e-02],\n",
       "        [ 1.69616035e-01],\n",
       "        [-2.37615735e-05],\n",
       "        [-1.80842287e-01],\n",
       "        [ 7.88351851e-02],\n",
       "        [-1.41442926e-01],\n",
       "        [ 8.37950628e-02],\n",
       "        [ 7.67156342e-02],\n",
       "        [-8.67144289e-02],\n",
       "        [ 8.28871389e-02],\n",
       "        [ 1.27617434e-01],\n",
       "        [ 1.28001491e-01],\n",
       "        [ 1.66184701e-01],\n",
       "        [ 1.43440318e-03],\n",
       "        [-1.90607551e-01],\n",
       "        [ 2.09316338e-01],\n",
       "        [ 2.85131801e-02],\n",
       "        [-2.31570799e-01],\n",
       "        [ 8.06940728e-02],\n",
       "        [-1.14063055e-01],\n",
       "        [-1.69846114e-01],\n",
       "        [ 2.72631062e-01],\n",
       "        [-2.36375900e-02],\n",
       "        [-1.21129644e-01],\n",
       "        [ 3.25784623e-02],\n",
       "        [-2.41162492e-01],\n",
       "        [ 3.08329761e-02],\n",
       "        [ 6.27879178e-02],\n",
       "        [ 9.15290327e-02],\n",
       "        [ 1.14627909e-01],\n",
       "        [ 2.00091995e-01],\n",
       "        [-1.45409311e-01],\n",
       "        [-1.41323215e-01],\n",
       "        [ 2.92346641e-02],\n",
       "        [-8.19922954e-02],\n",
       "        [ 2.17204971e-02],\n",
       "        [ 1.05009942e-01],\n",
       "        [ 5.87873959e-02],\n",
       "        [-1.56030419e-01],\n",
       "        [ 6.55668033e-03],\n",
       "        [ 5.72961226e-02],\n",
       "        [ 2.36982992e-02],\n",
       "        [ 2.97168417e-06],\n",
       "        [-3.30888095e-02],\n",
       "        [-1.68805571e-01]])]"
      ]
     },
     "execution_count": 26,
     "metadata": {
      "tags": []
     },
     "output_type": "execute_result"
    }
   ],
   "source": [
    "network.coefs_"
   ]
  },
  {
   "cell_type": "code",
   "execution_count": null,
   "metadata": {
    "colab": {
     "base_uri": "https://localhost:8080/",
     "height": 370
    },
    "id": "3zBpcda3zsqr",
    "outputId": "3711903b-4742-4028-91eb-00205d7452af"
   },
   "outputs": [
    {
     "data": {
      "text/plain": [
       "[array([-0.16219769,  0.18182999,  0.153054  , -0.14619065, -0.02856149,\n",
       "         0.1548824 ,  0.19914878,  0.03785903,  0.03235847, -0.0528781 ,\n",
       "        -0.20174511,  0.11246161, -0.00505192,  0.04670787,  0.14931424,\n",
       "        -0.13853806,  0.03166341, -0.06003787, -0.04225912,  0.19515933,\n",
       "         0.04183626,  0.22483178,  0.03171703, -0.18509336, -0.04868291,\n",
       "        -0.01842088, -0.11189007,  0.16391857,  0.06550444,  0.03943483,\n",
       "         0.04433274,  0.14003143, -0.03450163, -0.09613382,  0.02194552,\n",
       "         0.14002467,  0.08238234,  0.00298872,  0.07621368,  0.08108414,\n",
       "         0.0762791 , -0.08855925, -0.21006047,  0.24356275, -0.22568248,\n",
       "         0.03898561, -0.00305392,  0.08741928, -0.1813166 , -0.18388083,\n",
       "         0.18531852, -0.10623291, -0.02632494, -0.10674098, -0.07112031,\n",
       "         0.19075328, -0.07159242, -0.1197932 ,  0.11380981,  0.06025515,\n",
       "        -0.01910202,  0.00867749, -0.12567995, -0.10464992,  0.11589837,\n",
       "        -0.17106342,  0.04806824,  0.179107  ,  0.12410828,  0.06009945,\n",
       "        -0.00868878,  0.1898103 ,  0.09590047, -0.21501053, -0.21666375,\n",
       "        -0.17055673,  0.15454653,  0.04710115, -0.17480184, -0.17924772,\n",
       "        -0.16875152, -0.09746198,  0.15094392,  0.06855365,  0.1678661 ,\n",
       "        -0.18140746,  0.09105725,  0.02818927,  0.0173752 ,  0.09183191,\n",
       "        -0.19762682,  0.24150779,  0.1767434 ,  0.17332074,  0.10883685,\n",
       "        -0.14489973, -0.00857968, -0.21350646, -0.07076378, -0.09887595]),\n",
       " array([0.20952089])]"
      ]
     },
     "execution_count": 27,
     "metadata": {
      "tags": []
     },
     "output_type": "execute_result"
    }
   ],
   "source": [
    "network.intercepts_"
   ]
  },
  {
   "cell_type": "code",
   "execution_count": null,
   "metadata": {
    "colab": {
     "base_uri": "https://localhost:8080/",
     "height": 34
    },
    "id": "cjBTc9xiz03F",
    "outputId": "17dd6bee-3ed4-4020-fa82-81743d60960a"
   },
   "outputs": [
    {
     "data": {
      "text/plain": [
       "3"
      ]
     },
     "execution_count": 28,
     "metadata": {
      "tags": []
     },
     "output_type": "execute_result"
    }
   ],
   "source": [
    "network.n_layers_"
   ]
  },
  {
   "cell_type": "code",
   "execution_count": null,
   "metadata": {
    "colab": {
     "base_uri": "https://localhost:8080/",
     "height": 34
    },
    "id": "uoTMTgwoz4z6",
    "outputId": "7809858f-16f9-4e17-877f-29b047083c47"
   },
   "outputs": [
    {
     "data": {
      "text/plain": [
       "1"
      ]
     },
     "execution_count": 31,
     "metadata": {
      "tags": []
     },
     "output_type": "execute_result"
    }
   ],
   "source": [
    "network.n_outputs_"
   ]
  },
  {
   "cell_type": "code",
   "execution_count": null,
   "metadata": {
    "colab": {
     "base_uri": "https://localhost:8080/",
     "height": 34
    },
    "id": "QE4uaxjuz8ln",
    "outputId": "2ad4c08b-dbcd-43af-cbea-ab5aaea1f906"
   },
   "outputs": [
    {
     "data": {
      "text/plain": [
       "'identity'"
      ]
     },
     "execution_count": 32,
     "metadata": {
      "tags": []
     },
     "output_type": "execute_result"
    }
   ],
   "source": [
    "network.out_activation_"
   ]
  },
  {
   "cell_type": "markdown",
   "metadata": {
    "id": "RTaTfbXNmUrn"
   },
   "source": [
    "## Neural network (evaluation)"
   ]
  },
  {
   "cell_type": "code",
   "execution_count": null,
   "metadata": {
    "colab": {
     "base_uri": "https://localhost:8080/",
     "height": 34
    },
    "id": "d2YjQaZQ0GC8",
    "outputId": "33124555-49a5-4284-df35-726e823c0ac5"
   },
   "outputs": [
    {
     "data": {
      "text/plain": [
       "(102, 13)"
      ]
     },
     "execution_count": 33,
     "metadata": {
      "tags": []
     },
     "output_type": "execute_result"
    }
   ],
   "source": [
    "X_test.shape"
   ]
  },
  {
   "cell_type": "code",
   "execution_count": null,
   "metadata": {
    "colab": {
     "base_uri": "https://localhost:8080/",
     "height": 454
    },
    "id": "9w0ilRj00Le-",
    "outputId": "888dcd8e-a0a3-4745-ce8a-4908201f5559"
   },
   "outputs": [
    {
     "data": {
      "text/plain": [
       "array([ 2.24385248e-01,  4.74919501e-01,  2.57352444e-01,  2.35949537e-01,\n",
       "        4.92267530e-01,  3.04969428e-01,  3.14736747e-01,  3.03623610e-01,\n",
       "        6.35170662e-01,  3.76468771e-01,  1.95392767e-01,  1.73807830e-01,\n",
       "        3.99175894e-01,  8.58599456e-02,  4.68995767e-01,  1.31766823e-01,\n",
       "        3.63673385e-01,  5.02450365e-01,  4.21477525e-01,  5.50860879e-01,\n",
       "        4.58478913e-01,  4.96043606e-01,  2.79953605e-01,  2.79260459e-01,\n",
       "        6.29888287e-02,  4.58894444e-01,  2.68414857e-01,  4.90694176e-01,\n",
       "        4.76198282e-01,  2.71268197e-01,  3.44147594e-01,  6.23060055e-01,\n",
       "        4.13297706e-01,  1.41730037e-01,  1.20539109e-01,  4.62583554e-01,\n",
       "        6.20345074e-01,  5.46363952e-01,  3.93320446e-01,  3.24862227e-01,\n",
       "        4.19342838e-01,  4.49693771e-01,  1.71178942e-01,  3.13335733e-01,\n",
       "        4.63534958e-01,  2.86915916e-01,  5.11877415e-01,  2.68226046e-01,\n",
       "        1.54071187e-01,  1.03394089e-01,  1.24827400e-01,  5.71042798e-01,\n",
       "       -5.95719357e-05,  7.37120501e-01,  4.95628769e-01,  5.30720562e-01,\n",
       "        4.37073360e-01,  1.34161817e-01,  3.65376540e-01,  3.02966752e-01,\n",
       "        3.49948764e-01,  4.92426132e-01,  2.82312890e-01,  3.07447658e-01,\n",
       "        2.02256590e-01, -2.35008341e-02,  1.93025182e-01,  7.64945435e-01,\n",
       "        3.75488465e-01,  1.27316330e-01,  1.70477418e-01,  3.11918480e-01,\n",
       "        1.09859431e-01,  8.00116513e-01,  2.37973955e-01,  5.66645517e-01,\n",
       "        1.90470627e-01,  3.43187091e-01,  5.59294215e-01,  3.61971063e-01,\n",
       "        6.61190546e-01,  3.09489513e-01,  2.37011871e-01,  4.24423707e-01,\n",
       "        7.55246658e-01,  3.89150413e-01,  4.53783671e-01,  1.56648154e-01,\n",
       "        6.44607672e-01,  3.22660763e-01,  2.77570463e-01,  4.69202771e-01,\n",
       "        5.02370710e-01,  7.41343256e-02,  5.45460280e-01,  4.43138665e-01,\n",
       "        2.57949964e-01,  4.18613514e-01,  4.58539159e-01,  2.63823461e-01,\n",
       "        7.64982002e-01,  6.49677445e-01])"
      ]
     },
     "execution_count": 34,
     "metadata": {
      "tags": []
     },
     "output_type": "execute_result"
    }
   ],
   "source": [
    "predictions = network.predict(X_test)\n",
    "predictions"
   ]
  },
  {
   "cell_type": "code",
   "execution_count": null,
   "metadata": {
    "colab": {
     "base_uri": "https://localhost:8080/",
     "height": 1000
    },
    "id": "K6BmAplCYItw",
    "outputId": "cf72594f-344a-4d04-c347-ee1a4e5583e4"
   },
   "outputs": [
    {
     "data": {
      "text/plain": [
       "array([[0.14      ],\n",
       "       [0.34444444],\n",
       "       [0.44444444],\n",
       "       [0.31111111],\n",
       "       [0.19111111],\n",
       "       [0.20222222],\n",
       "       [0.12      ],\n",
       "       [0.37777778],\n",
       "       [0.36666667],\n",
       "       [0.40444444],\n",
       "       [0.30666667],\n",
       "       [0.04888889],\n",
       "       [0.31777778],\n",
       "       [0.21111111],\n",
       "       [0.66      ],\n",
       "       [0.33111111],\n",
       "       [0.30444444],\n",
       "       [0.44666667],\n",
       "       [0.28      ],\n",
       "       [0.28444444],\n",
       "       [0.71777778],\n",
       "       [0.53555556],\n",
       "       [0.19555556],\n",
       "       [0.38222222],\n",
       "       [0.08444444],\n",
       "       [0.37777778],\n",
       "       [0.18888889],\n",
       "       [0.37777778],\n",
       "       [0.3       ],\n",
       "       [0.25333333],\n",
       "       [0.47111111],\n",
       "       [0.80666667],\n",
       "       [0.04444444],\n",
       "       [0.39555556],\n",
       "       [0.27111111],\n",
       "       [0.41777778],\n",
       "       [0.82888889],\n",
       "       [0.41777778],\n",
       "       [0.34222222],\n",
       "       [0.44444444],\n",
       "       [0.24444444],\n",
       "       [0.40444444],\n",
       "       [0.42444444],\n",
       "       [0.32666667],\n",
       "       [0.67555556],\n",
       "       [0.18444444],\n",
       "       [0.18      ],\n",
       "       [0.30444444],\n",
       "       [0.15111111],\n",
       "       [0.04888889],\n",
       "       [0.08222222],\n",
       "       [0.23555556],\n",
       "       [0.14888889],\n",
       "       [0.22888889],\n",
       "       [0.37111111],\n",
       "       [0.71111111],\n",
       "       [0.49111111],\n",
       "       [0.02888889],\n",
       "       [0.33333333],\n",
       "       [0.38888889],\n",
       "       [0.29333333],\n",
       "       [0.77333333],\n",
       "       [0.33111111],\n",
       "       [0.37333333],\n",
       "       [0.45111111],\n",
       "       [0.41555556],\n",
       "       [0.        ],\n",
       "       [0.55777778],\n",
       "       [0.52444444],\n",
       "       [0.37777778],\n",
       "       [0.19555556],\n",
       "       [0.26888889],\n",
       "       [0.05555556],\n",
       "       [1.        ],\n",
       "       [0.01333333],\n",
       "       [0.60444444],\n",
       "       [0.37555556],\n",
       "       [0.41555556],\n",
       "       [0.25555556],\n",
       "       [0.29555556],\n",
       "       [0.62888889],\n",
       "       [0.34222222],\n",
       "       [0.36444444],\n",
       "       [0.69333333],\n",
       "       [0.57777778],\n",
       "       [0.43111111],\n",
       "       [0.40666667],\n",
       "       [0.42666667],\n",
       "       [0.96666667],\n",
       "       [0.36444444],\n",
       "       [0.44444444],\n",
       "       [0.40666667],\n",
       "       [0.55777778],\n",
       "       [0.07333333],\n",
       "       [0.48222222],\n",
       "       [0.36      ],\n",
       "       [0.4       ],\n",
       "       [0.32666667],\n",
       "       [0.37111111],\n",
       "       [0.23555556],\n",
       "       [0.18666667],\n",
       "       [0.44      ]])"
      ]
     },
     "execution_count": 35,
     "metadata": {
      "tags": []
     },
     "output_type": "execute_result"
    }
   ],
   "source": [
    "y_test"
   ]
  },
  {
   "cell_type": "code",
   "execution_count": null,
   "metadata": {
    "colab": {
     "base_uri": "https://localhost:8080/",
     "height": 34
    },
    "id": "TfCIiKLGYTl0",
    "outputId": "2379bc26-1c45-498f-b664-a27a9386ede2"
   },
   "outputs": [
    {
     "data": {
      "text/plain": [
       "0.14060813362789104"
      ]
     },
     "execution_count": 36,
     "metadata": {
      "tags": []
     },
     "output_type": "execute_result"
    }
   ],
   "source": [
    "from sklearn.metrics import mean_absolute_error, mean_squared_error\n",
    "mean_absolute_error(y_test, predictions)"
   ]
  },
  {
   "cell_type": "code",
   "execution_count": null,
   "metadata": {
    "colab": {
     "base_uri": "https://localhost:8080/",
     "height": 34
    },
    "id": "0H_GuCr4Y4EZ",
    "outputId": "f17bea02-ef17-4c14-c87d-a461713c8512"
   },
   "outputs": [
    {
     "data": {
      "text/plain": [
       "0.03178806458916762"
      ]
     },
     "execution_count": 37,
     "metadata": {
      "tags": []
     },
     "output_type": "execute_result"
    }
   ],
   "source": [
    "mean_squared_error(y_test, predictions)"
   ]
  },
  {
   "cell_type": "code",
   "execution_count": null,
   "metadata": {
    "colab": {
     "base_uri": "https://localhost:8080/",
     "height": 34
    },
    "id": "TExjVG4mZE1F",
    "outputId": "3f7f5629-14a8-4f1a-e9d7-da7d258c98a4"
   },
   "outputs": [
    {
     "data": {
      "text/plain": [
       "0.1782920766303641"
      ]
     },
     "execution_count": 38,
     "metadata": {
      "tags": []
     },
     "output_type": "execute_result"
    }
   ],
   "source": [
    "import numpy as np\n",
    "np.sqrt(mean_squared_error(y_test, predictions))"
   ]
  },
  {
   "cell_type": "code",
   "execution_count": null,
   "metadata": {
    "colab": {
     "base_uri": "https://localhost:8080/",
     "height": 67
    },
    "id": "QqUpFkIf1XFO",
    "outputId": "341e602f-2b71-4dba-fb3e-72b44ff2ea31"
   },
   "outputs": [
    {
     "data": {
      "text/plain": [
       "(array([0.12486029, 0.        , 0.64662757, 0.        , 0.64814815,\n",
       "        0.37842499, 1.        , 0.04705293, 1.        , 0.91395793,\n",
       "        0.80851064, 1.        , 0.60347682]), array([0.14]))"
      ]
     },
     "execution_count": 39,
     "metadata": {
      "tags": []
     },
     "output_type": "execute_result"
    }
   ],
   "source": [
    "X_test[0], y_test[0]"
   ]
  },
  {
   "cell_type": "code",
   "execution_count": null,
   "metadata": {
    "colab": {
     "base_uri": "https://localhost:8080/",
     "height": 34
    },
    "id": "tr24nFnx1hzK",
    "outputId": "54b4b71f-9e77-40a3-9f20-e023afa83947"
   },
   "outputs": [
    {
     "data": {
      "text/plain": [
       "(13,)"
      ]
     },
     "execution_count": 40,
     "metadata": {
      "tags": []
     },
     "output_type": "execute_result"
    }
   ],
   "source": [
    "X_test[0].shape"
   ]
  },
  {
   "cell_type": "code",
   "execution_count": null,
   "metadata": {
    "colab": {
     "base_uri": "https://localhost:8080/",
     "height": 34
    },
    "id": "pOJL7ixY1lHn",
    "outputId": "fe71a2fb-0927-43ad-e753-28718d6658ec"
   },
   "outputs": [
    {
     "data": {
      "text/plain": [
       "(1, 13)"
      ]
     },
     "execution_count": 41,
     "metadata": {
      "tags": []
     },
     "output_type": "execute_result"
    }
   ],
   "source": [
    "new = X_test[0].reshape(1, -1)\n",
    "new.shape"
   ]
  },
  {
   "cell_type": "code",
   "execution_count": null,
   "metadata": {
    "colab": {
     "base_uri": "https://localhost:8080/",
     "height": 34
    },
    "id": "pN6DUvXN1cxW",
    "outputId": "42134502-0ac9-4488-a063-0da2bb7c817a"
   },
   "outputs": [
    {
     "data": {
      "text/plain": [
       "array([0.22438525])"
      ]
     },
     "execution_count": 42,
     "metadata": {
      "tags": []
     },
     "output_type": "execute_result"
    }
   ],
   "source": [
    "network.predict(new)"
   ]
  },
  {
   "cell_type": "code",
   "execution_count": null,
   "metadata": {
    "colab": {
     "base_uri": "https://localhost:8080/",
     "height": 34
    },
    "id": "EmLcnWPTZh0U",
    "outputId": "9b988217-7851-4244-a876-965f41e96be0"
   },
   "outputs": [
    {
     "data": {
      "text/plain": [
       "array([[15.09733614]])"
      ]
     },
     "execution_count": 44,
     "metadata": {
      "tags": []
     },
     "output_type": "execute_result"
    }
   ],
   "source": [
    "scaler2.inverse_transform(network.predict(new).reshape(-1,1))"
   ]
  },
  {
   "cell_type": "code",
   "execution_count": null,
   "metadata": {
    "colab": {
     "base_uri": "https://localhost:8080/",
     "height": 34
    },
    "id": "-bxkU2s9ZyIN",
    "outputId": "8c8afcff-9175-415c-a786-41d66b95540d"
   },
   "outputs": [
    {
     "data": {
      "text/plain": [
       "array([[11.3]])"
      ]
     },
     "execution_count": 45,
     "metadata": {
      "tags": []
     },
     "output_type": "execute_result"
    }
   ],
   "source": [
    "scaler2.inverse_transform(y_test[0].reshape(-1,1))"
   ]
  }
 ],
 "metadata": {
  "colab": {
   "name": "Libraries for Neural Networks - sklearn 2.ipynb",
   "provenance": []
  },
  "kernelspec": {
   "display_name": "Python 3",
   "language": "python",
   "name": "python3"
  },
  "language_info": {
   "codemirror_mode": {
    "name": "ipython",
    "version": 3
   },
   "file_extension": ".py",
   "mimetype": "text/x-python",
   "name": "python",
   "nbconvert_exporter": "python",
   "pygments_lexer": "ipython3",
   "version": "3.8.5"
  }
 },
 "nbformat": 4,
 "nbformat_minor": 1
}
