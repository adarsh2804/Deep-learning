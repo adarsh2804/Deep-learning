{
 "cells": [
  {
   "cell_type": "code",
   "execution_count": 1,
   "id": "3f582d77",
   "metadata": {},
   "outputs": [],
   "source": [
    "import torch"
   ]
  },
  {
   "cell_type": "code",
   "execution_count": 2,
   "id": "a9bec1b2",
   "metadata": {},
   "outputs": [
    {
     "data": {
      "text/plain": [
       "'1.1.0'"
      ]
     },
     "execution_count": 2,
     "metadata": {},
     "output_type": "execute_result"
    }
   ],
   "source": [
    "torch.__version__"
   ]
  },
  {
   "cell_type": "code",
   "execution_count": 3,
   "id": "e56032a3",
   "metadata": {},
   "outputs": [],
   "source": [
    "import torch.nn as nn\n",
    "import numpy as np\n",
    "import pandas as pd"
   ]
  },
  {
   "cell_type": "code",
   "execution_count": 4,
   "id": "d2eaca98",
   "metadata": {},
   "outputs": [],
   "source": [
    "from sklearn.model_selection import train_test_split\n",
    "from sklearn.metrics import accuracy_score, confusion_matrix"
   ]
  },
  {
   "cell_type": "code",
   "execution_count": 5,
   "id": "1afbd939",
   "metadata": {},
   "outputs": [],
   "source": [
    "data = pd.read_csv(\"datasets/iris.csv\")"
   ]
  },
  {
   "cell_type": "code",
   "execution_count": 6,
   "id": "a0edc22c",
   "metadata": {},
   "outputs": [
    {
     "data": {
      "text/html": [
       "<div>\n",
       "<style scoped>\n",
       "    .dataframe tbody tr th:only-of-type {\n",
       "        vertical-align: middle;\n",
       "    }\n",
       "\n",
       "    .dataframe tbody tr th {\n",
       "        vertical-align: top;\n",
       "    }\n",
       "\n",
       "    .dataframe thead th {\n",
       "        text-align: right;\n",
       "    }\n",
       "</style>\n",
       "<table border=\"1\" class=\"dataframe\">\n",
       "  <thead>\n",
       "    <tr style=\"text-align: right;\">\n",
       "      <th></th>\n",
       "      <th>sepal length (cm)</th>\n",
       "      <th>sepal width (cm)</th>\n",
       "      <th>petal length (cm)</th>\n",
       "      <th>petal width (cm)</th>\n",
       "      <th>target</th>\n",
       "    </tr>\n",
       "  </thead>\n",
       "  <tbody>\n",
       "    <tr>\n",
       "      <th>0</th>\n",
       "      <td>5.1</td>\n",
       "      <td>3.5</td>\n",
       "      <td>1.4</td>\n",
       "      <td>0.2</td>\n",
       "      <td>0.0</td>\n",
       "    </tr>\n",
       "    <tr>\n",
       "      <th>1</th>\n",
       "      <td>4.9</td>\n",
       "      <td>3.0</td>\n",
       "      <td>1.4</td>\n",
       "      <td>0.2</td>\n",
       "      <td>0.0</td>\n",
       "    </tr>\n",
       "    <tr>\n",
       "      <th>2</th>\n",
       "      <td>4.7</td>\n",
       "      <td>3.2</td>\n",
       "      <td>1.3</td>\n",
       "      <td>0.2</td>\n",
       "      <td>0.0</td>\n",
       "    </tr>\n",
       "    <tr>\n",
       "      <th>3</th>\n",
       "      <td>4.6</td>\n",
       "      <td>3.1</td>\n",
       "      <td>1.5</td>\n",
       "      <td>0.2</td>\n",
       "      <td>0.0</td>\n",
       "    </tr>\n",
       "    <tr>\n",
       "      <th>4</th>\n",
       "      <td>5.0</td>\n",
       "      <td>3.6</td>\n",
       "      <td>1.4</td>\n",
       "      <td>0.2</td>\n",
       "      <td>0.0</td>\n",
       "    </tr>\n",
       "  </tbody>\n",
       "</table>\n",
       "</div>"
      ],
      "text/plain": [
       "   sepal length (cm)  sepal width (cm)  petal length (cm)  petal width (cm)  \\\n",
       "0                5.1               3.5                1.4               0.2   \n",
       "1                4.9               3.0                1.4               0.2   \n",
       "2                4.7               3.2                1.3               0.2   \n",
       "3                4.6               3.1                1.5               0.2   \n",
       "4                5.0               3.6                1.4               0.2   \n",
       "\n",
       "   target  \n",
       "0     0.0  \n",
       "1     0.0  \n",
       "2     0.0  \n",
       "3     0.0  \n",
       "4     0.0  "
      ]
     },
     "execution_count": 6,
     "metadata": {},
     "output_type": "execute_result"
    }
   ],
   "source": [
    "data.head()"
   ]
  },
  {
   "cell_type": "code",
   "execution_count": 7,
   "id": "9d2875ce",
   "metadata": {},
   "outputs": [
    {
     "data": {
      "text/plain": [
       "2.0    50\n",
       "1.0    50\n",
       "0.0    50\n",
       "Name: target, dtype: int64"
      ]
     },
     "execution_count": 7,
     "metadata": {},
     "output_type": "execute_result"
    }
   ],
   "source": [
    "data['target'].value_counts()"
   ]
  },
  {
   "cell_type": "code",
   "execution_count": 8,
   "id": "05a3aaa8",
   "metadata": {},
   "outputs": [],
   "source": [
    "X = data.drop(\"target\",axis = 1).values"
   ]
  },
  {
   "cell_type": "code",
   "execution_count": 9,
   "id": "8aa7ddfb",
   "metadata": {},
   "outputs": [],
   "source": [
    "Y = data['target'].values"
   ]
  },
  {
   "cell_type": "code",
   "execution_count": 10,
   "id": "dedbc1c8",
   "metadata": {},
   "outputs": [],
   "source": [
    "X_train, X_test, Y_train, Y_test = train_test_split(X,Y,test_size=0.2, random_state=33)"
   ]
  },
  {
   "cell_type": "code",
   "execution_count": 11,
   "id": "d2c5a374",
   "metadata": {},
   "outputs": [
    {
     "data": {
      "text/plain": [
       "(120, 4)"
      ]
     },
     "execution_count": 11,
     "metadata": {},
     "output_type": "execute_result"
    }
   ],
   "source": [
    "X_train.shape"
   ]
  },
  {
   "cell_type": "code",
   "execution_count": 12,
   "id": "29a48906",
   "metadata": {},
   "outputs": [
    {
     "data": {
      "text/plain": [
       "array([[5.6, 2.7, 4.2, 1.3],\n",
       "       [6.7, 3.1, 4.7, 1.5],\n",
       "       [5.6, 2.8, 4.9, 2. ],\n",
       "       [6.4, 3.2, 5.3, 2.3],\n",
       "       [6.7, 3.1, 5.6, 2.4]])"
      ]
     },
     "execution_count": 12,
     "metadata": {},
     "output_type": "execute_result"
    }
   ],
   "source": [
    "X_train[0:5]"
   ]
  },
  {
   "cell_type": "code",
   "execution_count": 13,
   "id": "acff34d5",
   "metadata": {},
   "outputs": [
    {
     "data": {
      "text/plain": [
       "array([1., 1., 2., 2., 2.])"
      ]
     },
     "execution_count": 13,
     "metadata": {},
     "output_type": "execute_result"
    }
   ],
   "source": [
    "Y_train[0:5]"
   ]
  },
  {
   "cell_type": "code",
   "execution_count": 14,
   "id": "7e5c615c",
   "metadata": {},
   "outputs": [],
   "source": [
    "X_train = torch.FloatTensor(X_train)\n",
    "X_test = torch.FloatTensor(X_test)\n",
    "\n",
    "#another way of converting numpy array to tensor\n",
    "#X_train = torch.tensor(X_train, dtype=torch.float)\n",
    "#X_test = torch.tensor(X_test, dtype=torch.float)"
   ]
  },
  {
   "cell_type": "code",
   "execution_count": 15,
   "id": "f28adbfa",
   "metadata": {},
   "outputs": [
    {
     "data": {
      "text/plain": [
       "tensor([[5.6000, 2.7000, 4.2000, 1.3000],\n",
       "        [6.7000, 3.1000, 4.7000, 1.5000],\n",
       "        [5.6000, 2.8000, 4.9000, 2.0000],\n",
       "        [6.4000, 3.2000, 5.3000, 2.3000],\n",
       "        [6.7000, 3.1000, 5.6000, 2.4000]])"
      ]
     },
     "execution_count": 15,
     "metadata": {},
     "output_type": "execute_result"
    }
   ],
   "source": [
    "X_train[0:5]"
   ]
  },
  {
   "cell_type": "code",
   "execution_count": 16,
   "id": "0ecd85f3",
   "metadata": {},
   "outputs": [
    {
     "data": {
      "text/plain": [
       "tensor([[5.7000, 2.9000, 4.2000, 1.3000],\n",
       "        [6.7000, 3.1000, 4.4000, 1.4000],\n",
       "        [4.7000, 3.2000, 1.6000, 0.2000],\n",
       "        [6.5000, 2.8000, 4.6000, 1.5000],\n",
       "        [6.1000, 2.6000, 5.6000, 1.4000]])"
      ]
     },
     "execution_count": 16,
     "metadata": {},
     "output_type": "execute_result"
    }
   ],
   "source": [
    "X_test[0:5]"
   ]
  },
  {
   "cell_type": "code",
   "execution_count": 17,
   "id": "f838685c",
   "metadata": {},
   "outputs": [],
   "source": [
    "Y_train = torch.LongTensor(Y_train)\n",
    "Y_test = torch.LongTensor(Y_test)"
   ]
  },
  {
   "cell_type": "code",
   "execution_count": 18,
   "id": "0e3a375c",
   "metadata": {},
   "outputs": [
    {
     "data": {
      "text/plain": [
       "tensor([1, 1, 2, 2, 2])"
      ]
     },
     "execution_count": 18,
     "metadata": {},
     "output_type": "execute_result"
    }
   ],
   "source": [
    "Y_train[0:5]"
   ]
  },
  {
   "cell_type": "code",
   "execution_count": 19,
   "id": "30642ad1",
   "metadata": {},
   "outputs": [
    {
     "data": {
      "text/plain": [
       "tensor([1, 1, 0, 1, 2])"
      ]
     },
     "execution_count": 19,
     "metadata": {},
     "output_type": "execute_result"
    }
   ],
   "source": [
    "Y_test[0:5]"
   ]
  },
  {
   "cell_type": "code",
   "execution_count": 20,
   "id": "2ae3c7aa",
   "metadata": {},
   "outputs": [],
   "source": [
    "from torch.utils.data import TensorDataset, DataLoader"
   ]
  },
  {
   "cell_type": "code",
   "execution_count": 21,
   "id": "14fa605d",
   "metadata": {},
   "outputs": [],
   "source": [
    "dataset = TensorDataset(X_train, Y_train)"
   ]
  },
  {
   "cell_type": "code",
   "execution_count": 22,
   "id": "29b7ec65",
   "metadata": {},
   "outputs": [],
   "source": [
    "train_loader = DataLoader(dataset, batch_size=10)"
   ]
  },
  {
   "cell_type": "code",
   "execution_count": 23,
   "id": "fc3ea129",
   "metadata": {},
   "outputs": [],
   "source": [
    "for data in train_loader:\n",
    "    break"
   ]
  },
  {
   "cell_type": "code",
   "execution_count": 24,
   "id": "7478ca22",
   "metadata": {},
   "outputs": [
    {
     "data": {
      "text/plain": [
       "tensor([[5.6000, 2.7000, 4.2000, 1.3000],\n",
       "        [6.7000, 3.1000, 4.7000, 1.5000],\n",
       "        [5.6000, 2.8000, 4.9000, 2.0000],\n",
       "        [6.4000, 3.2000, 5.3000, 2.3000],\n",
       "        [6.7000, 3.1000, 5.6000, 2.4000],\n",
       "        [6.7000, 3.0000, 5.2000, 2.3000],\n",
       "        [5.8000, 2.7000, 5.1000, 1.9000],\n",
       "        [5.7000, 3.0000, 4.2000, 1.2000],\n",
       "        [5.0000, 2.3000, 3.3000, 1.0000],\n",
       "        [4.9000, 3.1000, 1.5000, 0.1000]])"
      ]
     },
     "execution_count": 24,
     "metadata": {},
     "output_type": "execute_result"
    }
   ],
   "source": [
    "data[0]"
   ]
  },
  {
   "cell_type": "code",
   "execution_count": 25,
   "id": "d2221bc2",
   "metadata": {},
   "outputs": [
    {
     "data": {
      "text/plain": [
       "tensor([1, 1, 2, 2, 2, 2, 2, 1, 1, 0])"
      ]
     },
     "execution_count": 25,
     "metadata": {},
     "output_type": "execute_result"
    }
   ],
   "source": [
    "data[1]"
   ]
  },
  {
   "cell_type": "code",
   "execution_count": 26,
   "id": "7ac0d9e6",
   "metadata": {},
   "outputs": [],
   "source": [
    "abc, xyz = data"
   ]
  },
  {
   "cell_type": "code",
   "execution_count": 27,
   "id": "65940f9f",
   "metadata": {},
   "outputs": [
    {
     "data": {
      "text/plain": [
       "tensor([[5.6000, 2.7000, 4.2000, 1.3000],\n",
       "        [6.7000, 3.1000, 4.7000, 1.5000],\n",
       "        [5.6000, 2.8000, 4.9000, 2.0000],\n",
       "        [6.4000, 3.2000, 5.3000, 2.3000],\n",
       "        [6.7000, 3.1000, 5.6000, 2.4000],\n",
       "        [6.7000, 3.0000, 5.2000, 2.3000],\n",
       "        [5.8000, 2.7000, 5.1000, 1.9000],\n",
       "        [5.7000, 3.0000, 4.2000, 1.2000],\n",
       "        [5.0000, 2.3000, 3.3000, 1.0000],\n",
       "        [4.9000, 3.1000, 1.5000, 0.1000]])"
      ]
     },
     "execution_count": 27,
     "metadata": {},
     "output_type": "execute_result"
    }
   ],
   "source": [
    "abc"
   ]
  },
  {
   "cell_type": "code",
   "execution_count": 28,
   "id": "9f3a677c",
   "metadata": {},
   "outputs": [
    {
     "data": {
      "text/plain": [
       "tensor([1, 1, 2, 2, 2, 2, 2, 1, 1, 0])"
      ]
     },
     "execution_count": 28,
     "metadata": {},
     "output_type": "execute_result"
    }
   ],
   "source": [
    "xyz"
   ]
  },
  {
   "cell_type": "markdown",
   "id": "b40e9d7c",
   "metadata": {},
   "source": [
    "# Neural network structure"
   ]
  },
  {
   "cell_type": "code",
   "execution_count": 29,
   "id": "d9d22fb3",
   "metadata": {},
   "outputs": [],
   "source": [
    "#input features = 4 \n",
    "#output =3\n",
    "#(3+4)/2 = 3.5"
   ]
  },
  {
   "cell_type": "code",
   "execution_count": 30,
   "id": "a12fba65",
   "metadata": {},
   "outputs": [],
   "source": [
    "import torch.nn as nn\n",
    "# 4 -> 8 -> 9 -> 3\n",
    "network = nn.Sequential(nn.Linear(in_features=4, out_features=8),\n",
    "                        nn.ReLU(),\n",
    "                        nn.Linear(8, 9),\n",
    "                        nn.ReLU(),\n",
    "                        nn.Linear(9, 3)\n",
    "                        \n",
    "                        )"
   ]
  },
  {
   "cell_type": "code",
   "execution_count": 31,
   "id": "2a3dd5b3",
   "metadata": {},
   "outputs": [],
   "source": [
    "# network.parameters"
   ]
  },
  {
   "cell_type": "code",
   "execution_count": 32,
   "id": "983692d8",
   "metadata": {},
   "outputs": [],
   "source": [
    "loss_function = nn.CrossEntropyLoss()\n",
    "\n",
    "optimizer = torch.optim.Adam(network.parameters(), lr=0.01)"
   ]
  },
  {
   "cell_type": "code",
   "execution_count": 33,
   "id": "b69b001f",
   "metadata": {},
   "outputs": [
    {
     "data": {
      "text/plain": [
       "12"
      ]
     },
     "execution_count": 33,
     "metadata": {},
     "output_type": "execute_result"
    }
   ],
   "source": [
    "len(train_loader)"
   ]
  },
  {
   "cell_type": "code",
   "execution_count": 34,
   "id": "dc5fb834",
   "metadata": {},
   "outputs": [
    {
     "name": "stdout",
     "output_type": "stream",
     "text": [
      "Epoch: 1 loss: 0.7255029082298279\n",
      "Epoch: 11 loss: 0.14700146578252316\n",
      "Epoch: 21 loss: 0.10748241034646829\n",
      "Epoch: 31 loss: 0.09551881335210055\n",
      "Epoch: 41 loss: 0.08906123697912942\n",
      "Epoch: 51 loss: 0.08529829781036824\n",
      "Epoch: 61 loss: 0.08143976328816886\n",
      "Epoch: 71 loss: 0.07899343882066508\n",
      "Epoch: 81 loss: 0.07706630207637015\n",
      "Epoch: 91 loss: 0.07548464101273566\n",
      "Epoch: 101 loss: 0.07433819683501497\n",
      "Epoch: 111 loss: 0.07327980807167478\n",
      "Epoch: 121 loss: 0.07236137974541634\n",
      "Epoch: 131 loss: 0.07157211673135559\n",
      "Epoch: 141 loss: 0.07072907319525257\n",
      "Epoch: 151 loss: 0.0702347225160338\n",
      "Epoch: 161 loss: 0.06946261072880588\n",
      "Epoch: 171 loss: 0.0689631290442776\n",
      "Epoch: 181 loss: 0.06838585290824994\n",
      "Epoch: 191 loss: 0.0679333207954187\n",
      "Epoch: 201 loss: 0.06751269545444909\n",
      "Epoch: 211 loss: 0.06707229698076844\n",
      "Epoch: 221 loss: 0.06679919070059744\n",
      "Epoch: 231 loss: 0.06647757423343137\n",
      "Epoch: 241 loss: 0.06603852048283443\n",
      "Epoch: 251 loss: 0.0655233573440152\n",
      "Epoch: 261 loss: 0.0652797847869806\n",
      "Epoch: 271 loss: 0.06477089903395002\n",
      "Epoch: 281 loss: 0.06443771130094926\n",
      "Epoch: 291 loss: 0.06445634353440255\n"
     ]
    }
   ],
   "source": [
    "epochs = 300\n",
    "Losses = []\n",
    "\n",
    "for epoch in range(epochs):\n",
    "  Loss = 0\n",
    "\n",
    "  for data in train_loader:\n",
    "    inputs, outputs = data\n",
    "    #print(inputs)\n",
    "    #print('-----')\n",
    "    #print(outputs)\n",
    "    \n",
    "    predictions = network.forward(inputs) \n",
    "    loss = loss_function(predictions, outputs)\n",
    "    Loss = Loss + loss.item()\n",
    "    \n",
    "    optimizer.zero_grad() \n",
    "    loss.backward()\n",
    "    optimizer.step()\n",
    "\n",
    "\n",
    "  if epoch % 10 ==1:\n",
    "    print('Epoch: ' + str(epoch) + ' loss: ' + str(Loss / len(train_loader)))"
   ]
  },
  {
   "cell_type": "code",
   "execution_count": 36,
   "id": "bce442be",
   "metadata": {},
   "outputs": [
    {
     "data": {
      "text/plain": [
       "tensor([[ -6.1674,   3.2942,  -3.5165],\n",
       "        [ -7.0539,   3.7779,  -4.0192],\n",
       "        [  4.3758,  -7.1945, -12.5618],\n",
       "        [ -7.9099,   2.1783,  -2.1279],\n",
       "        [-10.6158,  -1.5695,   2.1192],\n",
       "        [-13.4513,  -3.0699,   3.9871],\n",
       "        [  4.1638,  -6.8476, -12.3358],\n",
       "        [  4.9709,  -8.1461, -13.5907],\n",
       "        [-10.7551,  -1.4791,   2.0634],\n",
       "        [-12.7382,  -2.8849,   3.7290],\n",
       "        [-13.1316,  -3.0032,   3.8834],\n",
       "        [  4.5166,  -7.4392, -12.5572],\n",
       "        [-12.1836,  -2.6819,   3.4848],\n",
       "        [ -7.6948,   1.9478,  -1.9057],\n",
       "        [-11.1499,  -1.6069,   2.2841],\n",
       "        [ -6.7774,   3.6923,  -3.9545],\n",
       "        [ -8.9435,   0.0363,   0.2965],\n",
       "        [  5.0533,  -8.2792, -13.7769],\n",
       "        [ -7.6778,   2.2086,  -2.1768],\n",
       "        [-12.0699,  -1.8195,   2.5208],\n",
       "        [  4.6968,  -7.7073, -13.1387],\n",
       "        [  5.0401,  -8.2442, -14.0831],\n",
       "        [-12.7588,  -2.8852,   3.7328],\n",
       "        [  4.7058,  -7.7256, -13.0894],\n",
       "        [ -9.8599,  -1.0138,   1.4839],\n",
       "        [ -9.2749,  -0.1116,   0.4842],\n",
       "        [ -7.2682,   2.4765,  -2.5109],\n",
       "        [ -6.4289,   3.7526,  -4.1100],\n",
       "        [-10.6707,  -1.4191,   2.0167],\n",
       "        [ -9.7515,  -1.0622,   1.5443]], grad_fn=<AddmmBackward>)"
      ]
     },
     "execution_count": 36,
     "metadata": {},
     "output_type": "execute_result"
    }
   ],
   "source": [
    "predictions = network.forward(X_test)\n",
    "predictions"
   ]
  },
  {
   "cell_type": "code",
   "execution_count": 37,
   "id": "13f5ed67",
   "metadata": {},
   "outputs": [
    {
     "name": "stdout",
     "output_type": "stream",
     "text": [
      " 1. tensor([-6.1674,  3.2942, -3.5165])     1\n",
      " 2. tensor([-7.0539,  3.7779, -4.0192])     1\n",
      " 3. tensor([  4.3758,  -7.1945, -12.5618])  0\n",
      " 4. tensor([-7.9099,  2.1783, -2.1279])     1\n",
      " 5. tensor([-10.6158,  -1.5695,   2.1192])  2\n",
      " 6. tensor([-13.4513,  -3.0699,   3.9871])  2\n",
      " 7. tensor([  4.1638,  -6.8476, -12.3358])  0\n",
      " 8. tensor([  4.9709,  -8.1461, -13.5907])  0\n",
      " 9. tensor([-10.7551,  -1.4791,   2.0634])  2\n",
      "10. tensor([-12.7382,  -2.8849,   3.7290])  2\n",
      "11. tensor([-13.1316,  -3.0032,   3.8834])  2\n",
      "12. tensor([  4.5166,  -7.4392, -12.5572])  0\n",
      "13. tensor([-12.1836,  -2.6819,   3.4848])  2\n",
      "14. tensor([-7.6948,  1.9478, -1.9057])     1\n",
      "15. tensor([-11.1499,  -1.6069,   2.2841])  2\n",
      "16. tensor([-6.7774,  3.6923, -3.9545])     1\n",
      "17. tensor([-8.9435,  0.0363,  0.2965])     2\n",
      "18. tensor([  5.0533,  -8.2792, -13.7769])  0\n",
      "19. tensor([-7.6778,  2.2086, -2.1768])     1\n",
      "20. tensor([-12.0699,  -1.8195,   2.5208])  2\n",
      "21. tensor([  4.6968,  -7.7073, -13.1387])  0\n",
      "22. tensor([  5.0401,  -8.2442, -14.0831])  0\n",
      "23. tensor([-12.7588,  -2.8852,   3.7328])  2\n",
      "24. tensor([  4.7058,  -7.7256, -13.0894])  0\n",
      "25. tensor([-9.8599, -1.0138,  1.4839])     2\n",
      "26. tensor([-9.2749, -0.1116,  0.4842])     2\n",
      "27. tensor([-7.2682,  2.4765, -2.5109])     1\n",
      "28. tensor([-6.4289,  3.7526, -4.1100])     1\n",
      "29. tensor([-10.6707,  -1.4191,   2.0167])  2\n",
      "30. tensor([-9.7515, -1.0622,  1.5443])     2\n",
      "\n",
      "30 out of 30 = 100.00% correct\n"
     ]
    }
   ],
   "source": [
    "correct = 0\n",
    "with torch.no_grad():\n",
    "    for i,data in enumerate(X_test):\n",
    "        Y_Pred = network.forward(data)\n",
    "        print(f'{i+1:2}. {str(Y_Pred):38}  {Y_test[i]}')\n",
    "        if Y_Pred.argmax().item() == Y_test[i]:\n",
    "            correct += 1\n",
    "print(f'\\n{correct} out of {len(Y_test)} = {100*correct/len(Y_test):.2f}% correct')"
   ]
  },
  {
   "cell_type": "code",
   "execution_count": null,
   "id": "59f9fca5",
   "metadata": {},
   "outputs": [],
   "source": []
  }
 ],
 "metadata": {
  "kernelspec": {
   "display_name": "Python 3 (ipykernel)",
   "language": "python",
   "name": "python3"
  },
  "language_info": {
   "codemirror_mode": {
    "name": "ipython",
    "version": 3
   },
   "file_extension": ".py",
   "mimetype": "text/x-python",
   "name": "python",
   "nbconvert_exporter": "python",
   "pygments_lexer": "ipython3",
   "version": "3.7.3"
  }
 },
 "nbformat": 4,
 "nbformat_minor": 5
}
