{
 "cells": [
  {
   "cell_type": "code",
   "execution_count": 1,
   "metadata": {
    "id": "zMPzH6KNwzWz"
   },
   "outputs": [],
   "source": [
    "import numpy as np"
   ]
  },
  {
   "cell_type": "code",
   "execution_count": 2,
   "metadata": {
    "id": "HcWuAJIA6jZL"
   },
   "outputs": [],
   "source": [
    "import pandas as pd"
   ]
  },
  {
   "cell_type": "code",
   "execution_count": 3,
   "metadata": {
    "id": "Mi-3K9N46ltK"
   },
   "outputs": [],
   "source": [
    "import tensorflow as tf"
   ]
  },
  {
   "cell_type": "code",
   "execution_count": 4,
   "metadata": {
    "colab": {
     "base_uri": "https://localhost:8080/",
     "height": 35
    },
    "id": "X4jpu4Dn6pRQ",
    "outputId": "53db517b-f997-4f04-ded0-dd5146d2e63f"
   },
   "outputs": [
    {
     "data": {
      "application/vnd.google.colaboratory.intrinsic+json": {
       "type": "string"
      },
      "text/plain": [
       "'2.8.0'"
      ]
     },
     "execution_count": 4,
     "metadata": {},
     "output_type": "execute_result"
    }
   ],
   "source": [
    "tf.__version__"
   ]
  },
  {
   "cell_type": "code",
   "execution_count": 7,
   "metadata": {
    "id": "o4MD8pBq6vow"
   },
   "outputs": [],
   "source": [
    "dataset = pd.read_excel('datasets/Folds5x2_pp.xlsx')"
   ]
  },
  {
   "cell_type": "code",
   "execution_count": 8,
   "metadata": {
    "colab": {
     "base_uri": "https://localhost:8080/",
     "height": 206
    },
    "id": "xCrglKgl8Big",
    "outputId": "bdaddb58-c3eb-4f76-b75a-bd36b0428e8e"
   },
   "outputs": [
    {
     "data": {
      "text/html": [
       "\n",
       "  <div id=\"df-7d7ef42e-5d49-4fd8-b27a-72e2f144a2dd\">\n",
       "    <div class=\"colab-df-container\">\n",
       "      <div>\n",
       "<style scoped>\n",
       "    .dataframe tbody tr th:only-of-type {\n",
       "        vertical-align: middle;\n",
       "    }\n",
       "\n",
       "    .dataframe tbody tr th {\n",
       "        vertical-align: top;\n",
       "    }\n",
       "\n",
       "    .dataframe thead th {\n",
       "        text-align: right;\n",
       "    }\n",
       "</style>\n",
       "<table border=\"1\" class=\"dataframe\">\n",
       "  <thead>\n",
       "    <tr style=\"text-align: right;\">\n",
       "      <th></th>\n",
       "      <th>AT</th>\n",
       "      <th>V</th>\n",
       "      <th>AP</th>\n",
       "      <th>RH</th>\n",
       "      <th>PE</th>\n",
       "    </tr>\n",
       "  </thead>\n",
       "  <tbody>\n",
       "    <tr>\n",
       "      <th>0</th>\n",
       "      <td>14.96</td>\n",
       "      <td>41.76</td>\n",
       "      <td>1024.07</td>\n",
       "      <td>73.17</td>\n",
       "      <td>463.26</td>\n",
       "    </tr>\n",
       "    <tr>\n",
       "      <th>1</th>\n",
       "      <td>25.18</td>\n",
       "      <td>62.96</td>\n",
       "      <td>1020.04</td>\n",
       "      <td>59.08</td>\n",
       "      <td>444.37</td>\n",
       "    </tr>\n",
       "    <tr>\n",
       "      <th>2</th>\n",
       "      <td>5.11</td>\n",
       "      <td>39.40</td>\n",
       "      <td>1012.16</td>\n",
       "      <td>92.14</td>\n",
       "      <td>488.56</td>\n",
       "    </tr>\n",
       "    <tr>\n",
       "      <th>3</th>\n",
       "      <td>20.86</td>\n",
       "      <td>57.32</td>\n",
       "      <td>1010.24</td>\n",
       "      <td>76.64</td>\n",
       "      <td>446.48</td>\n",
       "    </tr>\n",
       "    <tr>\n",
       "      <th>4</th>\n",
       "      <td>10.82</td>\n",
       "      <td>37.50</td>\n",
       "      <td>1009.23</td>\n",
       "      <td>96.62</td>\n",
       "      <td>473.90</td>\n",
       "    </tr>\n",
       "  </tbody>\n",
       "</table>\n",
       "</div>\n",
       "      <button class=\"colab-df-convert\" onclick=\"convertToInteractive('df-7d7ef42e-5d49-4fd8-b27a-72e2f144a2dd')\"\n",
       "              title=\"Convert this dataframe to an interactive table.\"\n",
       "              style=\"display:none;\">\n",
       "        \n",
       "  <svg xmlns=\"http://www.w3.org/2000/svg\" height=\"24px\"viewBox=\"0 0 24 24\"\n",
       "       width=\"24px\">\n",
       "    <path d=\"M0 0h24v24H0V0z\" fill=\"none\"/>\n",
       "    <path d=\"M18.56 5.44l.94 2.06.94-2.06 2.06-.94-2.06-.94-.94-2.06-.94 2.06-2.06.94zm-11 1L8.5 8.5l.94-2.06 2.06-.94-2.06-.94L8.5 2.5l-.94 2.06-2.06.94zm10 10l.94 2.06.94-2.06 2.06-.94-2.06-.94-.94-2.06-.94 2.06-2.06.94z\"/><path d=\"M17.41 7.96l-1.37-1.37c-.4-.4-.92-.59-1.43-.59-.52 0-1.04.2-1.43.59L10.3 9.45l-7.72 7.72c-.78.78-.78 2.05 0 2.83L4 21.41c.39.39.9.59 1.41.59.51 0 1.02-.2 1.41-.59l7.78-7.78 2.81-2.81c.8-.78.8-2.07 0-2.86zM5.41 20L4 18.59l7.72-7.72 1.47 1.35L5.41 20z\"/>\n",
       "  </svg>\n",
       "      </button>\n",
       "      \n",
       "  <style>\n",
       "    .colab-df-container {\n",
       "      display:flex;\n",
       "      flex-wrap:wrap;\n",
       "      gap: 12px;\n",
       "    }\n",
       "\n",
       "    .colab-df-convert {\n",
       "      background-color: #E8F0FE;\n",
       "      border: none;\n",
       "      border-radius: 50%;\n",
       "      cursor: pointer;\n",
       "      display: none;\n",
       "      fill: #1967D2;\n",
       "      height: 32px;\n",
       "      padding: 0 0 0 0;\n",
       "      width: 32px;\n",
       "    }\n",
       "\n",
       "    .colab-df-convert:hover {\n",
       "      background-color: #E2EBFA;\n",
       "      box-shadow: 0px 1px 2px rgba(60, 64, 67, 0.3), 0px 1px 3px 1px rgba(60, 64, 67, 0.15);\n",
       "      fill: #174EA6;\n",
       "    }\n",
       "\n",
       "    [theme=dark] .colab-df-convert {\n",
       "      background-color: #3B4455;\n",
       "      fill: #D2E3FC;\n",
       "    }\n",
       "\n",
       "    [theme=dark] .colab-df-convert:hover {\n",
       "      background-color: #434B5C;\n",
       "      box-shadow: 0px 1px 3px 1px rgba(0, 0, 0, 0.15);\n",
       "      filter: drop-shadow(0px 1px 2px rgba(0, 0, 0, 0.3));\n",
       "      fill: #FFFFFF;\n",
       "    }\n",
       "  </style>\n",
       "\n",
       "      <script>\n",
       "        const buttonEl =\n",
       "          document.querySelector('#df-7d7ef42e-5d49-4fd8-b27a-72e2f144a2dd button.colab-df-convert');\n",
       "        buttonEl.style.display =\n",
       "          google.colab.kernel.accessAllowed ? 'block' : 'none';\n",
       "\n",
       "        async function convertToInteractive(key) {\n",
       "          const element = document.querySelector('#df-7d7ef42e-5d49-4fd8-b27a-72e2f144a2dd');\n",
       "          const dataTable =\n",
       "            await google.colab.kernel.invokeFunction('convertToInteractive',\n",
       "                                                     [key], {});\n",
       "          if (!dataTable) return;\n",
       "\n",
       "          const docLinkHtml = 'Like what you see? Visit the ' +\n",
       "            '<a target=\"_blank\" href=https://colab.research.google.com/notebooks/data_table.ipynb>data table notebook</a>'\n",
       "            + ' to learn more about interactive tables.';\n",
       "          element.innerHTML = '';\n",
       "          dataTable['output_type'] = 'display_data';\n",
       "          await google.colab.output.renderOutput(dataTable, element);\n",
       "          const docLink = document.createElement('div');\n",
       "          docLink.innerHTML = docLinkHtml;\n",
       "          element.appendChild(docLink);\n",
       "        }\n",
       "      </script>\n",
       "    </div>\n",
       "  </div>\n",
       "  "
      ],
      "text/plain": [
       "      AT      V       AP     RH      PE\n",
       "0  14.96  41.76  1024.07  73.17  463.26\n",
       "1  25.18  62.96  1020.04  59.08  444.37\n",
       "2   5.11  39.40  1012.16  92.14  488.56\n",
       "3  20.86  57.32  1010.24  76.64  446.48\n",
       "4  10.82  37.50  1009.23  96.62  473.90"
      ]
     },
     "execution_count": 8,
     "metadata": {},
     "output_type": "execute_result"
    }
   ],
   "source": [
    "dataset.head()"
   ]
  },
  {
   "cell_type": "code",
   "execution_count": 16,
   "metadata": {
    "id": "JkOdfSMt_Bwd"
   },
   "outputs": [],
   "source": [
    "x = dataset.iloc[:,:-1].values"
   ]
  },
  {
   "cell_type": "code",
   "execution_count": 18,
   "metadata": {
    "id": "nNgVw-nG_4Jv"
   },
   "outputs": [],
   "source": [
    "y = dataset.iloc[:,-1].values"
   ]
  },
  {
   "cell_type": "code",
   "execution_count": 20,
   "metadata": {
    "colab": {
     "base_uri": "https://localhost:8080/"
    },
    "id": "0Pe8z-UFAYvn",
    "outputId": "a72ad173-ee68-42eb-bb30-a9e54c0dbd69"
   },
   "outputs": [
    {
     "name": "stdout",
     "output_type": "stream",
     "text": [
      "[[  14.96   41.76 1024.07   73.17]\n",
      " [  25.18   62.96 1020.04   59.08]\n",
      " [   5.11   39.4  1012.16   92.14]\n",
      " ...\n",
      " [  31.32   74.33 1012.92   36.48]\n",
      " [  24.48   69.45 1013.86   62.39]\n",
      " [  21.6    62.52 1017.23   67.87]]\n",
      "[463.26 444.37 488.56 ... 429.57 435.74 453.28]\n"
     ]
    }
   ],
   "source": [
    "print(x)\n",
    "print(y)"
   ]
  },
  {
   "cell_type": "code",
   "execution_count": 21,
   "metadata": {
    "id": "lKKpdTSwAc6N"
   },
   "outputs": [],
   "source": [
    "from sklearn.model_selection import train_test_split\n",
    "x_train,x_test,y_train,y_test = train_test_split(x,y,test_size=0.2,random_state=123)"
   ]
  },
  {
   "cell_type": "markdown",
   "metadata": {
    "id": "n887TpaFGM9u"
   },
   "source": [
    "Initialize artifical neural netwoek"
   ]
  },
  {
   "cell_type": "code",
   "execution_count": 25,
   "metadata": {
    "id": "9hS7qv9ZAhMA"
   },
   "outputs": [],
   "source": [
    "ann = tf.keras.models.Sequential()"
   ]
  },
  {
   "cell_type": "markdown",
   "metadata": {
    "id": "eFqRZCcAGCEX"
   },
   "source": [
    "Add input and first hidden layer\n",
    "\n"
   ]
  },
  {
   "cell_type": "code",
   "execution_count": 27,
   "metadata": {
    "id": "20fmO9_dAljm"
   },
   "outputs": [],
   "source": [
    "ann.add(tf.keras.layers.Dense(units = 6,activation = 'relu'))"
   ]
  },
  {
   "cell_type": "markdown",
   "metadata": {
    "id": "BhZ0hg47G9h7"
   },
   "source": [
    "Add second hidden layer"
   ]
  },
  {
   "cell_type": "code",
   "execution_count": 28,
   "metadata": {
    "id": "Pj9q51nNCxrJ"
   },
   "outputs": [],
   "source": [
    "ann.add(tf.keras.layers.Dense(units = 6,activation = 'relu'))"
   ]
  },
  {
   "cell_type": "markdown",
   "metadata": {
    "id": "VOy3HRYPIvVf"
   },
   "source": [
    "Add ouput layer"
   ]
  },
  {
   "cell_type": "code",
   "execution_count": 29,
   "metadata": {
    "id": "S_8o0iUrIzsT"
   },
   "outputs": [],
   "source": [
    "ann.add(tf.keras.layers.Dense(units = 1))"
   ]
  },
  {
   "cell_type": "code",
   "execution_count": 1,
   "metadata": {
    "id": "QJLD7lTeJFGP"
   },
   "outputs": [],
   "source": [
    "ann.compile(loss=\"mean_squared_error\",optimizer=\"adam\")"
   ]
  },
  {
   "cell_type": "code",
   "execution_count": 49,
   "metadata": {
    "colab": {
     "base_uri": "https://localhost:8080/"
    },
    "id": "n_Agy8pnKsgB",
    "outputId": "e6ffd636-7fa0-4a85-ee02-cbf7ef514c18"
   },
   "outputs": [
    {
     "name": "stdout",
     "output_type": "stream",
     "text": [
      "Epoch 1/100\n",
      "240/240 [==============================] - 1s 2ms/step - loss: 25.8944\n",
      "Epoch 2/100\n",
      "240/240 [==============================] - 0s 2ms/step - loss: 25.9350\n",
      "Epoch 3/100\n",
      "240/240 [==============================] - 0s 1ms/step - loss: 26.2148\n",
      "Epoch 4/100\n",
      "240/240 [==============================] - 0s 1ms/step - loss: 25.8383\n",
      "Epoch 5/100\n",
      "240/240 [==============================] - 0s 1ms/step - loss: 26.2938\n",
      "Epoch 6/100\n",
      "240/240 [==============================] - 0s 2ms/step - loss: 25.8013\n",
      "Epoch 7/100\n",
      "240/240 [==============================] - 0s 1ms/step - loss: 25.6902\n",
      "Epoch 8/100\n",
      "240/240 [==============================] - 0s 2ms/step - loss: 25.7801\n",
      "Epoch 9/100\n",
      "240/240 [==============================] - 0s 1ms/step - loss: 25.8265\n",
      "Epoch 10/100\n",
      "240/240 [==============================] - 0s 1ms/step - loss: 25.6987\n",
      "Epoch 11/100\n",
      "240/240 [==============================] - 0s 1ms/step - loss: 25.9594\n",
      "Epoch 12/100\n",
      "240/240 [==============================] - 0s 1ms/step - loss: 25.8764\n",
      "Epoch 13/100\n",
      "240/240 [==============================] - 0s 1ms/step - loss: 26.3242\n",
      "Epoch 14/100\n",
      "240/240 [==============================] - 0s 1ms/step - loss: 25.7769\n",
      "Epoch 15/100\n",
      "240/240 [==============================] - 0s 1ms/step - loss: 25.7605\n",
      "Epoch 16/100\n",
      "240/240 [==============================] - 0s 1ms/step - loss: 26.0201\n",
      "Epoch 17/100\n",
      "240/240 [==============================] - 0s 1ms/step - loss: 25.8410\n",
      "Epoch 18/100\n",
      "240/240 [==============================] - 0s 1ms/step - loss: 25.9474\n",
      "Epoch 19/100\n",
      "240/240 [==============================] - 0s 1ms/step - loss: 25.9189\n",
      "Epoch 20/100\n",
      "240/240 [==============================] - 0s 1ms/step - loss: 25.8067\n",
      "Epoch 21/100\n",
      "240/240 [==============================] - 0s 1ms/step - loss: 25.9151\n",
      "Epoch 22/100\n",
      "240/240 [==============================] - 0s 2ms/step - loss: 26.3388\n",
      "Epoch 23/100\n",
      "240/240 [==============================] - 0s 1ms/step - loss: 25.9265\n",
      "Epoch 24/100\n",
      "240/240 [==============================] - 0s 1ms/step - loss: 25.9249\n",
      "Epoch 25/100\n",
      "240/240 [==============================] - 0s 1ms/step - loss: 25.9449\n",
      "Epoch 26/100\n",
      "240/240 [==============================] - 0s 2ms/step - loss: 26.0380\n",
      "Epoch 27/100\n",
      "240/240 [==============================] - 0s 1ms/step - loss: 25.7834\n",
      "Epoch 28/100\n",
      "240/240 [==============================] - 0s 1ms/step - loss: 25.8910\n",
      "Epoch 29/100\n",
      "240/240 [==============================] - 0s 1ms/step - loss: 26.2566\n",
      "Epoch 30/100\n",
      "240/240 [==============================] - 0s 1ms/step - loss: 26.0087\n",
      "Epoch 31/100\n",
      "240/240 [==============================] - 0s 1ms/step - loss: 25.8743\n",
      "Epoch 32/100\n",
      "240/240 [==============================] - 0s 1ms/step - loss: 25.6705\n",
      "Epoch 33/100\n",
      "240/240 [==============================] - 0s 1ms/step - loss: 26.2583\n",
      "Epoch 34/100\n",
      "240/240 [==============================] - 0s 1ms/step - loss: 26.0164\n",
      "Epoch 35/100\n",
      "240/240 [==============================] - 0s 1ms/step - loss: 25.7282\n",
      "Epoch 36/100\n",
      "240/240 [==============================] - 0s 1ms/step - loss: 25.9146\n",
      "Epoch 37/100\n",
      "240/240 [==============================] - 0s 1ms/step - loss: 25.6199\n",
      "Epoch 38/100\n",
      "240/240 [==============================] - 0s 1ms/step - loss: 25.7218\n",
      "Epoch 39/100\n",
      "240/240 [==============================] - 0s 1ms/step - loss: 26.0494\n",
      "Epoch 40/100\n",
      "240/240 [==============================] - 0s 2ms/step - loss: 25.7303\n",
      "Epoch 41/100\n",
      "240/240 [==============================] - 0s 1ms/step - loss: 25.8737\n",
      "Epoch 42/100\n",
      "240/240 [==============================] - 0s 2ms/step - loss: 25.7169\n",
      "Epoch 43/100\n",
      "240/240 [==============================] - 0s 1ms/step - loss: 26.1212\n",
      "Epoch 44/100\n",
      "240/240 [==============================] - 0s 1ms/step - loss: 25.8321\n",
      "Epoch 45/100\n",
      "240/240 [==============================] - 0s 1ms/step - loss: 25.9378\n",
      "Epoch 46/100\n",
      "240/240 [==============================] - 0s 1ms/step - loss: 25.9979\n",
      "Epoch 47/100\n",
      "240/240 [==============================] - 0s 1ms/step - loss: 26.2798\n",
      "Epoch 48/100\n",
      "240/240 [==============================] - 0s 1ms/step - loss: 25.8236\n",
      "Epoch 49/100\n",
      "240/240 [==============================] - 0s 1ms/step - loss: 26.0770\n",
      "Epoch 50/100\n",
      "240/240 [==============================] - 0s 1ms/step - loss: 25.5993\n",
      "Epoch 51/100\n",
      "240/240 [==============================] - 0s 1ms/step - loss: 25.8886\n",
      "Epoch 52/100\n",
      "240/240 [==============================] - 0s 1ms/step - loss: 25.7922\n",
      "Epoch 53/100\n",
      "240/240 [==============================] - 0s 1ms/step - loss: 26.1231\n",
      "Epoch 54/100\n",
      "240/240 [==============================] - 0s 1ms/step - loss: 25.7628\n",
      "Epoch 55/100\n",
      "240/240 [==============================] - 0s 1ms/step - loss: 25.7009\n",
      "Epoch 56/100\n",
      "240/240 [==============================] - 0s 1ms/step - loss: 25.6694\n",
      "Epoch 57/100\n",
      "240/240 [==============================] - 0s 1ms/step - loss: 25.9094\n",
      "Epoch 58/100\n",
      "240/240 [==============================] - 0s 1ms/step - loss: 25.9050\n",
      "Epoch 59/100\n",
      "240/240 [==============================] - 0s 1ms/step - loss: 25.8026\n",
      "Epoch 60/100\n",
      "240/240 [==============================] - 0s 1ms/step - loss: 25.7888\n",
      "Epoch 61/100\n",
      "240/240 [==============================] - 0s 1ms/step - loss: 25.6417\n",
      "Epoch 62/100\n",
      "240/240 [==============================] - 0s 1ms/step - loss: 25.9876\n",
      "Epoch 63/100\n",
      "240/240 [==============================] - 0s 1ms/step - loss: 25.8883\n",
      "Epoch 64/100\n",
      "240/240 [==============================] - 0s 1ms/step - loss: 25.8975\n",
      "Epoch 65/100\n",
      "240/240 [==============================] - 0s 1ms/step - loss: 25.9783\n",
      "Epoch 66/100\n",
      "240/240 [==============================] - 0s 1ms/step - loss: 26.0126\n",
      "Epoch 67/100\n",
      "240/240 [==============================] - 0s 2ms/step - loss: 25.7765\n",
      "Epoch 68/100\n",
      "240/240 [==============================] - 0s 2ms/step - loss: 25.9521\n",
      "Epoch 69/100\n",
      "240/240 [==============================] - 0s 2ms/step - loss: 25.9068\n",
      "Epoch 70/100\n",
      "240/240 [==============================] - 0s 1ms/step - loss: 25.6976\n",
      "Epoch 71/100\n",
      "240/240 [==============================] - 0s 1ms/step - loss: 26.2057\n",
      "Epoch 72/100\n",
      "240/240 [==============================] - 0s 2ms/step - loss: 25.8119\n",
      "Epoch 73/100\n",
      "240/240 [==============================] - 0s 2ms/step - loss: 25.9141\n",
      "Epoch 74/100\n",
      "240/240 [==============================] - 0s 1ms/step - loss: 25.7663\n",
      "Epoch 75/100\n",
      "240/240 [==============================] - 0s 2ms/step - loss: 25.7777\n",
      "Epoch 76/100\n",
      "240/240 [==============================] - 0s 1ms/step - loss: 26.0085\n",
      "Epoch 77/100\n",
      "240/240 [==============================] - 0s 1ms/step - loss: 25.8321\n",
      "Epoch 78/100\n",
      "240/240 [==============================] - 0s 2ms/step - loss: 25.8008\n",
      "Epoch 79/100\n",
      "240/240 [==============================] - 0s 1ms/step - loss: 25.9324\n",
      "Epoch 80/100\n",
      "240/240 [==============================] - 0s 2ms/step - loss: 25.7668\n",
      "Epoch 81/100\n",
      "240/240 [==============================] - 0s 2ms/step - loss: 25.7203\n",
      "Epoch 82/100\n",
      "240/240 [==============================] - 0s 1ms/step - loss: 26.1685\n",
      "Epoch 83/100\n",
      "240/240 [==============================] - 0s 2ms/step - loss: 26.2067\n",
      "Epoch 84/100\n",
      "240/240 [==============================] - 0s 1ms/step - loss: 25.9081\n",
      "Epoch 85/100\n",
      "240/240 [==============================] - 0s 1ms/step - loss: 25.8509\n",
      "Epoch 86/100\n",
      "240/240 [==============================] - 0s 2ms/step - loss: 26.0986\n",
      "Epoch 87/100\n",
      "240/240 [==============================] - 0s 1ms/step - loss: 25.9324\n",
      "Epoch 88/100\n",
      "240/240 [==============================] - 0s 2ms/step - loss: 25.9450\n",
      "Epoch 89/100\n",
      "240/240 [==============================] - 0s 1ms/step - loss: 25.7711\n",
      "Epoch 90/100\n",
      "240/240 [==============================] - 0s 1ms/step - loss: 25.8305\n",
      "Epoch 91/100\n",
      "240/240 [==============================] - 0s 1ms/step - loss: 25.9753\n",
      "Epoch 92/100\n",
      "240/240 [==============================] - 0s 1ms/step - loss: 26.0592\n",
      "Epoch 93/100\n",
      "240/240 [==============================] - 0s 1ms/step - loss: 25.9750\n",
      "Epoch 94/100\n",
      "240/240 [==============================] - 0s 1ms/step - loss: 25.9178\n",
      "Epoch 95/100\n",
      "240/240 [==============================] - 0s 1ms/step - loss: 25.7714\n",
      "Epoch 96/100\n",
      "240/240 [==============================] - 0s 1ms/step - loss: 25.8786\n",
      "Epoch 97/100\n",
      "240/240 [==============================] - 0s 2ms/step - loss: 25.9984\n",
      "Epoch 98/100\n",
      "240/240 [==============================] - 0s 1ms/step - loss: 25.9827\n",
      "Epoch 99/100\n",
      "240/240 [==============================] - 0s 2ms/step - loss: 25.9336\n",
      "Epoch 100/100\n",
      "240/240 [==============================] - 0s 1ms/step - loss: 25.7722\n"
     ]
    },
    {
     "data": {
      "text/plain": [
       "<keras.callbacks.History at 0x7f7e61ee6650>"
      ]
     },
     "execution_count": 49,
     "metadata": {},
     "output_type": "execute_result"
    }
   ],
   "source": [
    "ann.fit(x_train,y_train,epochs=100,batch_size=32)"
   ]
  },
  {
   "cell_type": "code",
   "execution_count": 50,
   "metadata": {
    "colab": {
     "base_uri": "https://localhost:8080/"
    },
    "id": "bWfgAi9SLQde",
    "outputId": "564b5d76-1b5c-4ce0-e7c1-d34d27753889"
   },
   "outputs": [
    {
     "data": {
      "text/plain": [
       "array([[452.26],\n",
       "       [440.46],\n",
       "       [472.69],\n",
       "       ...,\n",
       "       [439.87],\n",
       "       [448.61],\n",
       "       [484.06]], dtype=float32)"
      ]
     },
     "execution_count": 50,
     "metadata": {},
     "output_type": "execute_result"
    }
   ],
   "source": [
    "y_pred = ann.predict(x_test)\n",
    "y_pred"
   ]
  },
  {
   "cell_type": "code",
   "execution_count": 51,
   "metadata": {
    "colab": {
     "base_uri": "https://localhost:8080/"
    },
    "id": "VladBITxMxCC",
    "outputId": "05a8fe89-dba2-4e6f-ce2c-4ad1bbde9c13"
   },
   "outputs": [
    {
     "data": {
      "text/plain": [
       "(1914, 1)"
      ]
     },
     "execution_count": 51,
     "metadata": {},
     "output_type": "execute_result"
    }
   ],
   "source": [
    "y_pred.shape"
   ]
  },
  {
   "cell_type": "code",
   "execution_count": 52,
   "metadata": {
    "colab": {
     "base_uri": "https://localhost:8080/"
    },
    "id": "v_032624MArB",
    "outputId": "3c271987-ce10-41b5-a07c-2e54fbaa3895"
   },
   "outputs": [
    {
     "data": {
      "text/plain": [
       "array([[452.26],\n",
       "       [440.46],\n",
       "       [472.69],\n",
       "       ...,\n",
       "       [439.87],\n",
       "       [448.61],\n",
       "       [484.06]], dtype=float32)"
      ]
     },
     "execution_count": 52,
     "metadata": {},
     "output_type": "execute_result"
    }
   ],
   "source": [
    "np.set_printoptions(precision=2)\n",
    "y_pred.reshape(len(y_pred),1)"
   ]
  },
  {
   "cell_type": "code",
   "execution_count": 53,
   "metadata": {
    "colab": {
     "base_uri": "https://localhost:8080/"
    },
    "id": "6gxeOsJeMbrV",
    "outputId": "23f59bac-2419-4ff7-be2c-6791bd23c90f"
   },
   "outputs": [
    {
     "data": {
      "text/plain": [
       "(1914, 1)"
      ]
     },
     "execution_count": 53,
     "metadata": {},
     "output_type": "execute_result"
    }
   ],
   "source": [
    "y_pred.shape"
   ]
  },
  {
   "cell_type": "code",
   "execution_count": 54,
   "metadata": {
    "colab": {
     "base_uri": "https://localhost:8080/"
    },
    "id": "w8dWdR2IM4Vj",
    "outputId": "14e81caa-77ee-48e0-f680-071f1cca4ad2"
   },
   "outputs": [
    {
     "data": {
      "text/plain": [
       "(1914,)"
      ]
     },
     "execution_count": 54,
     "metadata": {},
     "output_type": "execute_result"
    }
   ],
   "source": [
    "y_test.shape"
   ]
  },
  {
   "cell_type": "code",
   "execution_count": 55,
   "metadata": {
    "colab": {
     "base_uri": "https://localhost:8080/"
    },
    "id": "hWuuMBwpNGaR",
    "outputId": "e3471e49-ebe0-4888-d0c4-25ae2f355460"
   },
   "outputs": [
    {
     "data": {
      "text/plain": [
       "array([[455.41],\n",
       "       [441.64],\n",
       "       [471.63],\n",
       "       ...,\n",
       "       [430.2 ],\n",
       "       [441.58],\n",
       "       [493.72]])"
      ]
     },
     "execution_count": 55,
     "metadata": {},
     "output_type": "execute_result"
    }
   ],
   "source": [
    "y_test.reshape(len(y_test),1)"
   ]
  },
  {
   "cell_type": "code",
   "execution_count": 56,
   "metadata": {
    "colab": {
     "base_uri": "https://localhost:8080/"
    },
    "id": "vnIIeeGkNXrJ",
    "outputId": "8759727e-20b6-46ea-87a0-dfd69ca9d11b"
   },
   "outputs": [
    {
     "data": {
      "text/plain": [
       "array([[452.26, 455.41],\n",
       "       [440.46, 441.64],\n",
       "       [472.69, 471.63],\n",
       "       ...,\n",
       "       [439.87, 430.2 ],\n",
       "       [448.61, 441.58],\n",
       "       [484.06, 493.72]])"
      ]
     },
     "execution_count": 56,
     "metadata": {},
     "output_type": "execute_result"
    }
   ],
   "source": [
    "np.concatenate((y_pred.reshape(len(y_pred),1),y_test.reshape(len(y_test),1)),axis=1)"
   ]
  },
  {
   "cell_type": "code",
   "execution_count": null,
   "metadata": {
    "id": "y6r6aIZ6NjHR"
   },
   "outputs": [],
   "source": []
  }
 ],
 "metadata": {
  "colab": {
   "name": "Regression using ANN.ipynb",
   "provenance": []
  },
  "kernelspec": {
   "display_name": "Python 3",
   "language": "python",
   "name": "python3"
  },
  "language_info": {
   "codemirror_mode": {
    "name": "ipython",
    "version": 3
   },
   "file_extension": ".py",
   "mimetype": "text/x-python",
   "name": "python",
   "nbconvert_exporter": "python",
   "pygments_lexer": "ipython3",
   "version": "3.8.1"
  }
 },
 "nbformat": 4,
 "nbformat_minor": 1
}
