{
 "cells": [
  {
   "cell_type": "markdown",
   "metadata": {
    "colab_type": "text",
    "id": "EOBJ8UCXdY0g"
   },
   "source": [
    "## Importing the libraries"
   ]
  },
  {
   "cell_type": "code",
   "execution_count": 1,
   "metadata": {
    "colab": {},
    "colab_type": "code",
    "id": "_LvGeU1CeCtg"
   },
   "outputs": [],
   "source": [
    "import numpy as np\n",
    "import pandas as pd\n",
    "import torch\n",
    "import torch.nn as nn\n",
    "import torch.nn.parallel\n",
    "import torch.optim as optim\n",
    "import torch.utils.data\n",
    "from torch.autograd import Variable"
   ]
  },
  {
   "cell_type": "markdown",
   "metadata": {
    "colab_type": "text",
    "id": "pM04FyMudkoK"
   },
   "source": [
    "## Importing the dataset\n"
   ]
  },
  {
   "cell_type": "code",
   "execution_count": 2,
   "metadata": {
    "colab": {},
    "colab_type": "code",
    "id": "UJw2p3-Cewo4"
   },
   "outputs": [],
   "source": [
    "movies = pd.read_csv('datasets/movies.dat', sep = '::', header = None, engine = 'python', encoding = 'latin-1')\n",
    "users = pd.read_csv('datasets/users.dat', sep = '::', header = None, engine = 'python', encoding = 'latin-1')\n",
    "ratings = pd.read_csv('datasets/ratings.dat', sep = '::', header = None, engine = 'python', encoding = 'latin-1')"
   ]
  },
  {
   "cell_type": "markdown",
   "metadata": {
    "colab_type": "text",
    "id": "yTIbE2tkdkwP"
   },
   "source": [
    "## Preparing the training set and the test set\n"
   ]
  },
  {
   "cell_type": "code",
   "execution_count": 3,
   "metadata": {
    "colab": {},
    "colab_type": "code",
    "id": "2usLKJBEgPE2"
   },
   "outputs": [],
   "source": [
    "training_set = pd.read_csv('datasets/u1.base', delimiter = '\\t')\n",
    "training_set = np.array(training_set, dtype = 'int')\n",
    "test_set = pd.read_csv('datasets/u1.test', delimiter = '\\t')\n",
    "test_set = np.array(test_set, dtype = 'int')"
   ]
  },
  {
   "cell_type": "code",
   "execution_count": 5,
   "metadata": {},
   "outputs": [
    {
     "data": {
      "text/plain": [
       "array([[        1,         2,         3, 876893171],\n",
       "       [        1,         3,         4, 878542960],\n",
       "       [        1,         4,         3, 876893119],\n",
       "       ...,\n",
       "       [      943,      1188,         3, 888640250],\n",
       "       [      943,      1228,         3, 888640275],\n",
       "       [      943,      1330,         3, 888692465]])"
      ]
     },
     "execution_count": 5,
     "metadata": {},
     "output_type": "execute_result"
    }
   ],
   "source": [
    "training_set"
   ]
  },
  {
   "cell_type": "code",
   "execution_count": 6,
   "metadata": {},
   "outputs": [
    {
     "data": {
      "text/plain": [
       "array([[        1,        10,         3, 875693118],\n",
       "       [        1,        12,         5, 878542960],\n",
       "       [        1,        14,         5, 874965706],\n",
       "       ...,\n",
       "       [      459,       934,         3, 879563639],\n",
       "       [      460,        10,         3, 882912371],\n",
       "       [      462,       682,         5, 886365231]])"
      ]
     },
     "execution_count": 6,
     "metadata": {},
     "output_type": "execute_result"
    }
   ],
   "source": [
    "test_set"
   ]
  },
  {
   "cell_type": "code",
   "execution_count": 7,
   "metadata": {},
   "outputs": [
    {
     "data": {
      "text/plain": [
       "79999"
      ]
     },
     "execution_count": 7,
     "metadata": {},
     "output_type": "execute_result"
    }
   ],
   "source": [
    "len(training_set)"
   ]
  },
  {
   "cell_type": "code",
   "execution_count": 8,
   "metadata": {},
   "outputs": [
    {
     "data": {
      "text/plain": [
       "19999"
      ]
     },
     "execution_count": 8,
     "metadata": {},
     "output_type": "execute_result"
    }
   ],
   "source": [
    "len(test_set)"
   ]
  },
  {
   "cell_type": "code",
   "execution_count": 9,
   "metadata": {},
   "outputs": [
    {
     "data": {
      "text/plain": [
       "(79999, 4)"
      ]
     },
     "execution_count": 9,
     "metadata": {},
     "output_type": "execute_result"
    }
   ],
   "source": [
    "training_set.shape"
   ]
  },
  {
   "cell_type": "code",
   "execution_count": 10,
   "metadata": {},
   "outputs": [
    {
     "data": {
      "text/plain": [
       "943"
      ]
     },
     "execution_count": 10,
     "metadata": {},
     "output_type": "execute_result"
    }
   ],
   "source": [
    "max(training_set[:,0],)"
   ]
  },
  {
   "cell_type": "code",
   "execution_count": 11,
   "metadata": {},
   "outputs": [
    {
     "data": {
      "text/plain": [
       "462"
      ]
     },
     "execution_count": 11,
     "metadata": {},
     "output_type": "execute_result"
    }
   ],
   "source": [
    "max(test_set[:,0])"
   ]
  },
  {
   "cell_type": "code",
   "execution_count": 14,
   "metadata": {},
   "outputs": [
    {
     "data": {
      "text/plain": [
       "943"
      ]
     },
     "execution_count": 14,
     "metadata": {},
     "output_type": "execute_result"
    }
   ],
   "source": [
    "max(max(training_set[:, 0], ), max(test_set[:, 0]))"
   ]
  },
  {
   "cell_type": "code",
   "execution_count": 15,
   "metadata": {},
   "outputs": [
    {
     "data": {
      "text/plain": [
       "1682"
      ]
     },
     "execution_count": 15,
     "metadata": {},
     "output_type": "execute_result"
    }
   ],
   "source": [
    "max(max(training_set[:, 1], ), max(test_set[:, 1]))"
   ]
  },
  {
   "cell_type": "markdown",
   "metadata": {
    "colab_type": "text",
    "id": "zCf8HjSydk4s"
   },
   "source": [
    "## Getting the number of users and movies\n"
   ]
  },
  {
   "cell_type": "code",
   "execution_count": 12,
   "metadata": {
    "colab": {},
    "colab_type": "code",
    "id": "gPaGZqdniC5m"
   },
   "outputs": [],
   "source": [
    "nb_users = int(max(max(training_set[:, 0], ), max(test_set[:, 0])))\n",
    "nb_movies = int(max(max(training_set[:, 1], ), max(test_set[:, 1])))"
   ]
  },
  {
   "cell_type": "code",
   "execution_count": 13,
   "metadata": {},
   "outputs": [
    {
     "data": {
      "text/plain": [
       "943"
      ]
     },
     "execution_count": 13,
     "metadata": {},
     "output_type": "execute_result"
    }
   ],
   "source": [
    "nb_users"
   ]
  },
  {
   "cell_type": "code",
   "execution_count": 14,
   "metadata": {},
   "outputs": [
    {
     "data": {
      "text/plain": [
       "1682"
      ]
     },
     "execution_count": 14,
     "metadata": {},
     "output_type": "execute_result"
    }
   ],
   "source": [
    "nb_movies"
   ]
  },
  {
   "cell_type": "code",
   "execution_count": 16,
   "metadata": {},
   "outputs": [
    {
     "data": {
      "text/plain": [
       "array([  2,   3,   4,   5,   7,   8,   9,  11,  13,  15,  16,  18,  19,\n",
       "        21,  22,  25,  26,  28,  29,  30,  32,  34,  35,  37,  38,  40,\n",
       "        41,  42,  43,  45,  46,  48,  50,  52,  55,  57,  58,  59,  63,\n",
       "        66,  68,  71,  75,  77,  79,  83,  87,  88,  89,  93,  94,  95,\n",
       "        99, 101, 105, 106, 109, 110, 111, 115, 116, 119, 122, 123, 124,\n",
       "       126, 127, 131, 133, 135, 136, 137, 138, 139, 141, 142, 144, 146,\n",
       "       147, 149, 152, 153, 156, 158, 162, 165, 166, 167, 168, 169, 172,\n",
       "       173, 176, 178, 179, 181, 182, 187, 191, 192, 194, 195, 197, 198,\n",
       "       199, 203, 204, 205, 207, 211, 216, 217, 220, 223, 231, 234, 237,\n",
       "       238, 239, 240, 244, 245, 246, 247, 249, 251, 256, 257, 261, 263,\n",
       "       268, 269, 270, 271])"
      ]
     },
     "execution_count": 16,
     "metadata": {},
     "output_type": "execute_result"
    }
   ],
   "source": [
    "training_set[:, 1] [training_set[:, 0] == 1]"
   ]
  },
  {
   "cell_type": "code",
   "execution_count": 19,
   "metadata": {},
   "outputs": [
    {
     "data": {
      "text/plain": [
       "134"
      ]
     },
     "execution_count": 19,
     "metadata": {},
     "output_type": "execute_result"
    }
   ],
   "source": [
    "len(training_set[:,1][training_set[:, 0] == 1])"
   ]
  },
  {
   "cell_type": "markdown",
   "metadata": {
    "colab_type": "text",
    "id": "J-w4-hVidlAm"
   },
   "source": [
    "## Converting the data into an array with users in lines and movies in columns\n"
   ]
  },
  {
   "cell_type": "code",
   "execution_count": 20,
   "metadata": {
    "colab": {},
    "colab_type": "code",
    "id": "-wASs2YFiDaa"
   },
   "outputs": [],
   "source": [
    "def convert(data):\n",
    "  new_data = []\n",
    "  for id_users in range(1, nb_users + 1):\n",
    "    id_movies = data[:, 1] [data[:, 0] == id_users]\n",
    "    id_ratings = data[:, 2] [data[:, 0] == id_users]\n",
    "    ratings = np.zeros(nb_movies)\n",
    "    ratings[id_movies - 1] = id_ratings\n",
    "    new_data.append(list(ratings))\n",
    "  return new_data"
   ]
  },
  {
   "cell_type": "code",
   "execution_count": 21,
   "metadata": {},
   "outputs": [],
   "source": [
    "training_set = convert(training_set)\n",
    "test_set = convert(test_set)"
   ]
  },
  {
   "cell_type": "markdown",
   "metadata": {
    "colab_type": "text",
    "id": "AMmhuUpldlHo"
   },
   "source": [
    "## Converting the data into Torch tensors\n"
   ]
  },
  {
   "cell_type": "code",
   "execution_count": 22,
   "metadata": {
    "colab": {},
    "colab_type": "code",
    "id": "TwD-KD8yiEEw"
   },
   "outputs": [],
   "source": [
    "training_set = torch.FloatTensor(training_set)\n",
    "test_set = torch.FloatTensor(test_set)"
   ]
  },
  {
   "cell_type": "code",
   "execution_count": 23,
   "metadata": {},
   "outputs": [
    {
     "data": {
      "text/plain": [
       "torch.Size([943, 1682])"
      ]
     },
     "execution_count": 23,
     "metadata": {},
     "output_type": "execute_result"
    }
   ],
   "source": [
    "training_set.shape"
   ]
  },
  {
   "cell_type": "code",
   "execution_count": 29,
   "metadata": {},
   "outputs": [
    {
     "data": {
      "text/plain": [
       "tensor([[0., 3., 4.,  ..., 0., 0., 0.],\n",
       "        [4., 0., 0.,  ..., 0., 0., 0.],\n",
       "        [0., 0., 0.,  ..., 0., 0., 0.],\n",
       "        ...,\n",
       "        [5., 0., 0.,  ..., 0., 0., 0.],\n",
       "        [0., 0., 0.,  ..., 0., 0., 0.],\n",
       "        [0., 5., 0.,  ..., 0., 0., 0.]])"
      ]
     },
     "execution_count": 29,
     "metadata": {},
     "output_type": "execute_result"
    }
   ],
   "source": [
    "training_set"
   ]
  },
  {
   "cell_type": "code",
   "execution_count": 46,
   "metadata": {},
   "outputs": [
    {
     "data": {
      "text/plain": [
       "torch.Size([943, 1682])"
      ]
     },
     "execution_count": 46,
     "metadata": {},
     "output_type": "execute_result"
    }
   ],
   "source": [
    "test_set.shape"
   ]
  },
  {
   "cell_type": "markdown",
   "metadata": {
    "colab_type": "text",
    "id": "6kkL8NkkdlZj"
   },
   "source": [
    "## Creating the architecture of the Neural Network\n"
   ]
  },
  {
   "cell_type": "code",
   "execution_count": 31,
   "metadata": {
    "colab": {},
    "colab_type": "code",
    "id": "oU2nyh76iE6M"
   },
   "outputs": [],
   "source": [
    "class SAE(nn.Module):\n",
    "    def __init__(self, ):\n",
    "        super(SAE, self).__init__()\n",
    "        self.fc1 = nn.Linear(nb_movies, 20)\n",
    "        self.fc2 = nn.Linear(20, 10)\n",
    "        self.fc3 = nn.Linear(10, 20)\n",
    "        self.fc4 = nn.Linear(20, nb_movies)\n",
    "        self.activation = nn.Sigmoid()\n",
    "    def forward(self, x):\n",
    "        x = self.activation(self.fc1(x))\n",
    "        x = self.activation(self.fc2(x))\n",
    "        x = self.activation(self.fc3(x))\n",
    "        x = self.fc4(x)\n",
    "        return x\n"
   ]
  },
  {
   "cell_type": "code",
   "execution_count": 32,
   "metadata": {},
   "outputs": [],
   "source": [
    "sae = SAE()\n",
    "criterion = nn.MSELoss()\n",
    "optimizer = optim.RMSprop(sae.parameters(), lr = 0.01, weight_decay = 0.5)"
   ]
  },
  {
   "cell_type": "markdown",
   "metadata": {
    "colab_type": "text",
    "id": "7gy59alAdloL"
   },
   "source": [
    "## Training the SAE\n"
   ]
  },
  {
   "cell_type": "code",
   "execution_count": 33,
   "metadata": {
    "colab": {
     "base_uri": "https://localhost:8080/",
     "height": 1000
    },
    "colab_type": "code",
    "id": "FEz9hRaciFTs",
    "outputId": "0f6ed0d0-09c4-46c0-bfe6-70031d76b491"
   },
   "outputs": [
    {
     "name": "stdout",
     "output_type": "stream",
     "text": [
      "epoch: 1loss: tensor(1.7710)\n",
      "epoch: 2loss: tensor(1.0968)\n",
      "epoch: 3loss: tensor(1.0536)\n",
      "epoch: 4loss: tensor(1.0384)\n",
      "epoch: 5loss: tensor(1.0308)\n",
      "epoch: 6loss: tensor(1.0268)\n",
      "epoch: 7loss: tensor(1.0241)\n",
      "epoch: 8loss: tensor(1.0219)\n",
      "epoch: 9loss: tensor(1.0208)\n",
      "epoch: 10loss: tensor(1.0198)\n",
      "epoch: 11loss: tensor(1.0188)\n",
      "epoch: 12loss: tensor(1.0186)\n",
      "epoch: 13loss: tensor(1.0178)\n",
      "epoch: 14loss: tensor(1.0176)\n",
      "epoch: 15loss: tensor(1.0174)\n",
      "epoch: 16loss: tensor(1.0168)\n",
      "epoch: 17loss: tensor(1.0167)\n",
      "epoch: 18loss: tensor(1.0165)\n",
      "epoch: 19loss: tensor(1.0164)\n",
      "epoch: 20loss: tensor(1.0163)\n",
      "epoch: 21loss: tensor(1.0159)\n",
      "epoch: 22loss: tensor(1.0161)\n",
      "epoch: 23loss: tensor(1.0159)\n",
      "epoch: 24loss: tensor(1.0158)\n",
      "epoch: 25loss: tensor(1.0159)\n",
      "epoch: 26loss: tensor(1.0157)\n",
      "epoch: 27loss: tensor(1.0153)\n",
      "epoch: 28loss: tensor(1.0150)\n",
      "epoch: 29loss: tensor(1.0128)\n",
      "epoch: 30loss: tensor(1.0120)\n",
      "epoch: 31loss: tensor(1.0100)\n",
      "epoch: 32loss: tensor(1.0100)\n",
      "epoch: 33loss: tensor(1.0055)\n",
      "epoch: 34loss: tensor(1.0051)\n",
      "epoch: 35loss: tensor(1.0013)\n",
      "epoch: 36loss: tensor(1.0006)\n",
      "epoch: 37loss: tensor(0.9965)\n",
      "epoch: 38loss: tensor(0.9952)\n",
      "epoch: 39loss: tensor(0.9939)\n",
      "epoch: 40loss: tensor(0.9930)\n",
      "epoch: 41loss: tensor(0.9917)\n",
      "epoch: 42loss: tensor(0.9895)\n",
      "epoch: 43loss: tensor(0.9863)\n",
      "epoch: 44loss: tensor(0.9840)\n",
      "epoch: 45loss: tensor(0.9791)\n",
      "epoch: 46loss: tensor(0.9791)\n",
      "epoch: 47loss: tensor(0.9744)\n",
      "epoch: 48loss: tensor(0.9770)\n",
      "epoch: 49loss: tensor(0.9729)\n",
      "epoch: 50loss: tensor(0.9784)\n"
     ]
    }
   ],
   "source": [
    "nb_epoch = 50\n",
    "for epoch in range(1, nb_epoch + 1):\n",
    "  train_loss = 0\n",
    "  s = 0.\n",
    "  for id_user in range(nb_users):\n",
    "    input = Variable(training_set[id_user]).unsqueeze(0)\n",
    "    target = input.clone()\n",
    "    if torch.sum(target.data > 0) > 0:\n",
    "      output = sae(input)\n",
    "      target.require_grad = False\n",
    "      output[target == 0] = 0\n",
    "      loss = criterion(output, target)\n",
    "      mean_corrector = nb_movies/float(torch.sum(target.data > 0) + 1e-10)\n",
    "      loss.backward()\n",
    "      train_loss += np.sqrt(loss.data*mean_corrector)\n",
    "      s += 1.\n",
    "      optimizer.step()\n",
    "  print('epoch: '+str(epoch)+'loss: '+ str(train_loss/s))"
   ]
  },
  {
   "cell_type": "markdown",
   "metadata": {
    "colab_type": "text",
    "id": "Bak5uc8gd-gX"
   },
   "source": [
    "## Testing the SAE\n"
   ]
  },
  {
   "cell_type": "code",
   "execution_count": 34,
   "metadata": {
    "colab": {
     "base_uri": "https://localhost:8080/",
     "height": 34
    },
    "colab_type": "code",
    "id": "5ztvzYRtiGCz",
    "outputId": "d0e8ea8b-9ac4-40e5-a19a-7fcfc6934d61"
   },
   "outputs": [
    {
     "name": "stdout",
     "output_type": "stream",
     "text": [
      "test loss: tensor(1.0053)\n"
     ]
    }
   ],
   "source": [
    "test_loss = 0\n",
    "s = 0.\n",
    "for id_user in range(nb_users):\n",
    "  input = Variable(training_set[id_user]).unsqueeze(0)\n",
    "  target = Variable(test_set[id_user]).unsqueeze(0)\n",
    "  if torch.sum(target.data > 0) > 0:\n",
    "    output = sae(input)\n",
    "    target.require_grad = False\n",
    "    output[target == 0] = 0\n",
    "    loss = criterion(output, target)\n",
    "    mean_corrector = nb_movies/float(torch.sum(target.data > 0) + 1e-10)\n",
    "    test_loss += np.sqrt(loss.data*mean_corrector)\n",
    "    s += 1.\n",
    "print('test loss: '+str(test_loss/s))"
   ]
  },
  {
   "cell_type": "code",
   "execution_count": 35,
   "metadata": {},
   "outputs": [],
   "source": [
    "user_id = 0\n",
    "movie_title = movies.iloc[:nb_movies, 1:2]\n",
    "user_rating = training_set.data.numpy()[user_id, :].reshape(-1,1)\n",
    "\n",
    "user_target = test_set.data.numpy()[user_id, :].reshape(-1,1)\n",
    "user_input = Variable(training_set[user_id]).unsqueeze(0)\n",
    "\n",
    "predicted = sae(user_input)\n",
    "predicted = predicted.data.numpy().reshape(-1,1)\n",
    "\n",
    "result_array = np.hstack([movie_title, user_target, predicted])\n",
    "\n",
    "result_array = result_array[result_array[:, 1] > 0]\n",
    "\n",
    "result_df = pd.DataFrame(data=result_array, columns=['Movie', 'Target Rating', 'Predicted'])"
   ]
  },
  {
   "cell_type": "code",
   "execution_count": 53,
   "metadata": {},
   "outputs": [
    {
     "data": {
      "text/html": [
       "<div>\n",
       "<style scoped>\n",
       "    .dataframe tbody tr th:only-of-type {\n",
       "        vertical-align: middle;\n",
       "    }\n",
       "\n",
       "    .dataframe tbody tr th {\n",
       "        vertical-align: top;\n",
       "    }\n",
       "\n",
       "    .dataframe thead th {\n",
       "        text-align: right;\n",
       "    }\n",
       "</style>\n",
       "<table border=\"1\" class=\"dataframe\">\n",
       "  <thead>\n",
       "    <tr style=\"text-align: right;\">\n",
       "      <th></th>\n",
       "      <th>Movie</th>\n",
       "      <th>Target Rating</th>\n",
       "      <th>Predicted</th>\n",
       "    </tr>\n",
       "  </thead>\n",
       "  <tbody>\n",
       "    <tr>\n",
       "      <th>0</th>\n",
       "      <td>GoldenEye (1995)</td>\n",
       "      <td>3</td>\n",
       "      <td>3.61411</td>\n",
       "    </tr>\n",
       "    <tr>\n",
       "      <th>1</th>\n",
       "      <td>Dracula: Dead and Loving It (1995)</td>\n",
       "      <td>5</td>\n",
       "      <td>4.06234</td>\n",
       "    </tr>\n",
       "    <tr>\n",
       "      <th>2</th>\n",
       "      <td>Nixon (1995)</td>\n",
       "      <td>5</td>\n",
       "      <td>3.48698</td>\n",
       "    </tr>\n",
       "    <tr>\n",
       "      <th>3</th>\n",
       "      <td>Sense and Sensibility (1995)</td>\n",
       "      <td>3</td>\n",
       "      <td>3.05664</td>\n",
       "    </tr>\n",
       "    <tr>\n",
       "      <th>4</th>\n",
       "      <td>Money Train (1995)</td>\n",
       "      <td>4</td>\n",
       "      <td>2.96668</td>\n",
       "    </tr>\n",
       "    <tr>\n",
       "      <th>5</th>\n",
       "      <td>Assassins (1995)</td>\n",
       "      <td>4</td>\n",
       "      <td>3.60112</td>\n",
       "    </tr>\n",
       "    <tr>\n",
       "      <th>6</th>\n",
       "      <td>Powder (1995)</td>\n",
       "      <td>3</td>\n",
       "      <td>3.29176</td>\n",
       "    </tr>\n",
       "    <tr>\n",
       "      <th>7</th>\n",
       "      <td>Now and Then (1995)</td>\n",
       "      <td>2</td>\n",
       "      <td>3.00231</td>\n",
       "    </tr>\n",
       "    <tr>\n",
       "      <th>8</th>\n",
       "      <td>Dangerous Minds (1995)</td>\n",
       "      <td>3</td>\n",
       "      <td>3.39532</td>\n",
       "    </tr>\n",
       "    <tr>\n",
       "      <th>9</th>\n",
       "      <td>Wings of Courage (1995)</td>\n",
       "      <td>4</td>\n",
       "      <td>3.23101</td>\n",
       "    </tr>\n",
       "    <tr>\n",
       "      <th>10</th>\n",
       "      <td>Dead Man Walking (1995)</td>\n",
       "      <td>2</td>\n",
       "      <td>2.09971</td>\n",
       "    </tr>\n",
       "    <tr>\n",
       "      <th>11</th>\n",
       "      <td>Clueless (1995)</td>\n",
       "      <td>4</td>\n",
       "      <td>2.99761</td>\n",
       "    </tr>\n",
       "    <tr>\n",
       "      <th>12</th>\n",
       "      <td>Mortal Kombat (1995)</td>\n",
       "      <td>5</td>\n",
       "      <td>2.92484</td>\n",
       "    </tr>\n",
       "    <tr>\n",
       "      <th>13</th>\n",
       "      <td>Seven (Se7en) (1995)</td>\n",
       "      <td>4</td>\n",
       "      <td>3.4243</td>\n",
       "    </tr>\n",
       "    <tr>\n",
       "      <th>14</th>\n",
       "      <td>When Night Is Falling (1995)</td>\n",
       "      <td>3</td>\n",
       "      <td>3.06282</td>\n",
       "    </tr>\n",
       "    <tr>\n",
       "      <th>15</th>\n",
       "      <td>Guardian Angel (1994)</td>\n",
       "      <td>4</td>\n",
       "      <td>2.93298</td>\n",
       "    </tr>\n",
       "    <tr>\n",
       "      <th>16</th>\n",
       "      <td>Lamerica (1994)</td>\n",
       "      <td>3</td>\n",
       "      <td>2.82326</td>\n",
       "    </tr>\n",
       "    <tr>\n",
       "      <th>17</th>\n",
       "      <td>Big Green, The (1995)</td>\n",
       "      <td>3</td>\n",
       "      <td>3.02669</td>\n",
       "    </tr>\n",
       "    <tr>\n",
       "      <th>18</th>\n",
       "      <td>Kids of the Round Table (1995)</td>\n",
       "      <td>4</td>\n",
       "      <td>3.72143</td>\n",
       "    </tr>\n",
       "    <tr>\n",
       "      <th>19</th>\n",
       "      <td>Indian in the Cupboard, The (1995)</td>\n",
       "      <td>5</td>\n",
       "      <td>3.72126</td>\n",
       "    </tr>\n",
       "    <tr>\n",
       "      <th>20</th>\n",
       "      <td>Eye for an Eye (1996)</td>\n",
       "      <td>4</td>\n",
       "      <td>3.78053</td>\n",
       "    </tr>\n",
       "    <tr>\n",
       "      <th>21</th>\n",
       "      <td>Mr. Holland's Opus (1995)</td>\n",
       "      <td>3</td>\n",
       "      <td>3.13402</td>\n",
       "    </tr>\n",
       "    <tr>\n",
       "      <th>22</th>\n",
       "      <td>Two if by Sea (1996)</td>\n",
       "      <td>5</td>\n",
       "      <td>4.23585</td>\n",
       "    </tr>\n",
       "    <tr>\n",
       "      <th>23</th>\n",
       "      <td>Bio-Dome (1996)</td>\n",
       "      <td>4</td>\n",
       "      <td>3.24282</td>\n",
       "    </tr>\n",
       "    <tr>\n",
       "      <th>24</th>\n",
       "      <td>Two Bits (1995)</td>\n",
       "      <td>3</td>\n",
       "      <td>2.90219</td>\n",
       "    </tr>\n",
       "    <tr>\n",
       "      <th>25</th>\n",
       "      <td>Friday (1995)</td>\n",
       "      <td>3</td>\n",
       "      <td>3.57157</td>\n",
       "    </tr>\n",
       "    <tr>\n",
       "      <th>26</th>\n",
       "      <td>From Dusk Till Dawn (1996)</td>\n",
       "      <td>3</td>\n",
       "      <td>3.38129</td>\n",
       "    </tr>\n",
       "    <tr>\n",
       "      <th>27</th>\n",
       "      <td>Kicking and Screaming (1995)</td>\n",
       "      <td>4</td>\n",
       "      <td>2.95175</td>\n",
       "    </tr>\n",
       "    <tr>\n",
       "      <th>28</th>\n",
       "      <td>Misérables, Les (1995)</td>\n",
       "      <td>3</td>\n",
       "      <td>3.12443</td>\n",
       "    </tr>\n",
       "    <tr>\n",
       "      <th>29</th>\n",
       "      <td>Bed of Roses (1996)</td>\n",
       "      <td>1</td>\n",
       "      <td>2.98901</td>\n",
       "    </tr>\n",
       "    <tr>\n",
       "      <th>...</th>\n",
       "      <td>...</td>\n",
       "      <td>...</td>\n",
       "      <td>...</td>\n",
       "    </tr>\n",
       "    <tr>\n",
       "      <th>106</th>\n",
       "      <td>Don Juan DeMarco (1995)</td>\n",
       "      <td>4</td>\n",
       "      <td>3.28117</td>\n",
       "    </tr>\n",
       "    <tr>\n",
       "      <th>107</th>\n",
       "      <td>Dream Man (1995)</td>\n",
       "      <td>5</td>\n",
       "      <td>3.44201</td>\n",
       "    </tr>\n",
       "    <tr>\n",
       "      <th>108</th>\n",
       "      <td>Drop Zone (1994)</td>\n",
       "      <td>2</td>\n",
       "      <td>2.63522</td>\n",
       "    </tr>\n",
       "    <tr>\n",
       "      <th>109</th>\n",
       "      <td>Destiny Turns on the Radio (1995)</td>\n",
       "      <td>3</td>\n",
       "      <td>2.92839</td>\n",
       "    </tr>\n",
       "    <tr>\n",
       "      <th>110</th>\n",
       "      <td>Death and the Maiden (1994)</td>\n",
       "      <td>4</td>\n",
       "      <td>2.71406</td>\n",
       "    </tr>\n",
       "    <tr>\n",
       "      <th>111</th>\n",
       "      <td>Dolores Claiborne (1994)</td>\n",
       "      <td>5</td>\n",
       "      <td>3.70985</td>\n",
       "    </tr>\n",
       "    <tr>\n",
       "      <th>112</th>\n",
       "      <td>Dumb &amp; Dumber (1994)</td>\n",
       "      <td>4</td>\n",
       "      <td>2.80553</td>\n",
       "    </tr>\n",
       "    <tr>\n",
       "      <th>113</th>\n",
       "      <td>Eat Drink Man Woman (1994)</td>\n",
       "      <td>4</td>\n",
       "      <td>3.19955</td>\n",
       "    </tr>\n",
       "    <tr>\n",
       "      <th>114</th>\n",
       "      <td>Exit to Eden (1994)</td>\n",
       "      <td>3</td>\n",
       "      <td>3.02431</td>\n",
       "    </tr>\n",
       "    <tr>\n",
       "      <th>115</th>\n",
       "      <td>Ed Wood (1994)</td>\n",
       "      <td>2</td>\n",
       "      <td>2.9598</td>\n",
       "    </tr>\n",
       "    <tr>\n",
       "      <th>116</th>\n",
       "      <td>Forget Paris (1995)</td>\n",
       "      <td>5</td>\n",
       "      <td>2.6725</td>\n",
       "    </tr>\n",
       "    <tr>\n",
       "      <th>117</th>\n",
       "      <td>Far From Home: The Adventures of Yellow Dog (1...</td>\n",
       "      <td>4</td>\n",
       "      <td>3.37079</td>\n",
       "    </tr>\n",
       "    <tr>\n",
       "      <th>118</th>\n",
       "      <td>Gordy (1995)</td>\n",
       "      <td>4</td>\n",
       "      <td>3.33405</td>\n",
       "    </tr>\n",
       "    <tr>\n",
       "      <th>119</th>\n",
       "      <td>Gumby: The Movie (1995)</td>\n",
       "      <td>5</td>\n",
       "      <td>3.54087</td>\n",
       "    </tr>\n",
       "    <tr>\n",
       "      <th>120</th>\n",
       "      <td>Glass Shield, The (1994)</td>\n",
       "      <td>1</td>\n",
       "      <td>2.27007</td>\n",
       "    </tr>\n",
       "    <tr>\n",
       "      <th>121</th>\n",
       "      <td>Heavyweights (1994)</td>\n",
       "      <td>4</td>\n",
       "      <td>3.44194</td>\n",
       "    </tr>\n",
       "    <tr>\n",
       "      <th>122</th>\n",
       "      <td>I.Q. (1994)</td>\n",
       "      <td>4</td>\n",
       "      <td>3.07497</td>\n",
       "    </tr>\n",
       "    <tr>\n",
       "      <th>123</th>\n",
       "      <td>Jefferson in Paris (1995)</td>\n",
       "      <td>2</td>\n",
       "      <td>2.66654</td>\n",
       "    </tr>\n",
       "    <tr>\n",
       "      <th>124</th>\n",
       "      <td>Jerky Boys, The (1994)</td>\n",
       "      <td>5</td>\n",
       "      <td>3.32412</td>\n",
       "    </tr>\n",
       "    <tr>\n",
       "      <th>125</th>\n",
       "      <td>Junior (1994)</td>\n",
       "      <td>1</td>\n",
       "      <td>2.22856</td>\n",
       "    </tr>\n",
       "    <tr>\n",
       "      <th>126</th>\n",
       "      <td>Just Cause (1995)</td>\n",
       "      <td>2</td>\n",
       "      <td>3.00414</td>\n",
       "    </tr>\n",
       "    <tr>\n",
       "      <th>127</th>\n",
       "      <td>Star Wars: Episode IV - A New Hope (1977)</td>\n",
       "      <td>5</td>\n",
       "      <td>3.37833</td>\n",
       "    </tr>\n",
       "    <tr>\n",
       "      <th>128</th>\n",
       "      <td>Little Women (1994)</td>\n",
       "      <td>1</td>\n",
       "      <td>2.40021</td>\n",
       "    </tr>\n",
       "    <tr>\n",
       "      <th>129</th>\n",
       "      <td>Little Princess, A (1995)</td>\n",
       "      <td>1</td>\n",
       "      <td>2.3885</td>\n",
       "    </tr>\n",
       "    <tr>\n",
       "      <th>130</th>\n",
       "      <td>Enfer, L' (1994)</td>\n",
       "      <td>3</td>\n",
       "      <td>3.44704</td>\n",
       "    </tr>\n",
       "    <tr>\n",
       "      <th>131</th>\n",
       "      <td>Legends of the Fall (1994)</td>\n",
       "      <td>2</td>\n",
       "      <td>2.47303</td>\n",
       "    </tr>\n",
       "    <tr>\n",
       "      <th>132</th>\n",
       "      <td>Major Payne (1994)</td>\n",
       "      <td>4</td>\n",
       "      <td>3.68233</td>\n",
       "    </tr>\n",
       "    <tr>\n",
       "      <th>133</th>\n",
       "      <td>Little Odessa (1994)</td>\n",
       "      <td>1</td>\n",
       "      <td>2.35314</td>\n",
       "    </tr>\n",
       "    <tr>\n",
       "      <th>134</th>\n",
       "      <td>My Crazy Life (Mi vida loca) (1993)</td>\n",
       "      <td>4</td>\n",
       "      <td>2.33765</td>\n",
       "    </tr>\n",
       "    <tr>\n",
       "      <th>135</th>\n",
       "      <td>Man of the House (1995)</td>\n",
       "      <td>3</td>\n",
       "      <td>3.96202</td>\n",
       "    </tr>\n",
       "  </tbody>\n",
       "</table>\n",
       "<p>136 rows × 3 columns</p>\n",
       "</div>"
      ],
      "text/plain": [
       "                                                 Movie Target Rating Predicted\n",
       "0                                     GoldenEye (1995)             3   3.61411\n",
       "1                   Dracula: Dead and Loving It (1995)             5   4.06234\n",
       "2                                         Nixon (1995)             5   3.48698\n",
       "3                         Sense and Sensibility (1995)             3   3.05664\n",
       "4                                   Money Train (1995)             4   2.96668\n",
       "5                                     Assassins (1995)             4   3.60112\n",
       "6                                        Powder (1995)             3   3.29176\n",
       "7                                  Now and Then (1995)             2   3.00231\n",
       "8                               Dangerous Minds (1995)             3   3.39532\n",
       "9                              Wings of Courage (1995)             4   3.23101\n",
       "10                             Dead Man Walking (1995)             2   2.09971\n",
       "11                                     Clueless (1995)             4   2.99761\n",
       "12                                Mortal Kombat (1995)             5   2.92484\n",
       "13                                Seven (Se7en) (1995)             4    3.4243\n",
       "14                        When Night Is Falling (1995)             3   3.06282\n",
       "15                               Guardian Angel (1994)             4   2.93298\n",
       "16                                     Lamerica (1994)             3   2.82326\n",
       "17                               Big Green, The (1995)             3   3.02669\n",
       "18                      Kids of the Round Table (1995)             4   3.72143\n",
       "19                  Indian in the Cupboard, The (1995)             5   3.72126\n",
       "20                               Eye for an Eye (1996)             4   3.78053\n",
       "21                           Mr. Holland's Opus (1995)             3   3.13402\n",
       "22                                Two if by Sea (1996)             5   4.23585\n",
       "23                                     Bio-Dome (1996)             4   3.24282\n",
       "24                                     Two Bits (1995)             3   2.90219\n",
       "25                                       Friday (1995)             3   3.57157\n",
       "26                          From Dusk Till Dawn (1996)             3   3.38129\n",
       "27                        Kicking and Screaming (1995)             4   2.95175\n",
       "28                              Misérables, Les (1995)             3   3.12443\n",
       "29                                 Bed of Roses (1996)             1   2.98901\n",
       "..                                                 ...           ...       ...\n",
       "106                            Don Juan DeMarco (1995)             4   3.28117\n",
       "107                                   Dream Man (1995)             5   3.44201\n",
       "108                                   Drop Zone (1994)             2   2.63522\n",
       "109                  Destiny Turns on the Radio (1995)             3   2.92839\n",
       "110                        Death and the Maiden (1994)             4   2.71406\n",
       "111                           Dolores Claiborne (1994)             5   3.70985\n",
       "112                               Dumb & Dumber (1994)             4   2.80553\n",
       "113                         Eat Drink Man Woman (1994)             4   3.19955\n",
       "114                                Exit to Eden (1994)             3   3.02431\n",
       "115                                     Ed Wood (1994)             2    2.9598\n",
       "116                                Forget Paris (1995)             5    2.6725\n",
       "117  Far From Home: The Adventures of Yellow Dog (1...             4   3.37079\n",
       "118                                       Gordy (1995)             4   3.33405\n",
       "119                            Gumby: The Movie (1995)             5   3.54087\n",
       "120                           Glass Shield, The (1994)             1   2.27007\n",
       "121                                Heavyweights (1994)             4   3.44194\n",
       "122                                        I.Q. (1994)             4   3.07497\n",
       "123                          Jefferson in Paris (1995)             2   2.66654\n",
       "124                             Jerky Boys, The (1994)             5   3.32412\n",
       "125                                      Junior (1994)             1   2.22856\n",
       "126                                  Just Cause (1995)             2   3.00414\n",
       "127          Star Wars: Episode IV - A New Hope (1977)             5   3.37833\n",
       "128                                Little Women (1994)             1   2.40021\n",
       "129                          Little Princess, A (1995)             1    2.3885\n",
       "130                                   Enfer, L' (1994)             3   3.44704\n",
       "131                         Legends of the Fall (1994)             2   2.47303\n",
       "132                                 Major Payne (1994)             4   3.68233\n",
       "133                               Little Odessa (1994)             1   2.35314\n",
       "134                My Crazy Life (Mi vida loca) (1993)             4   2.33765\n",
       "135                            Man of the House (1995)             3   3.96202\n",
       "\n",
       "[136 rows x 3 columns]"
      ]
     },
     "execution_count": 53,
     "metadata": {},
     "output_type": "execute_result"
    }
   ],
   "source": [
    "result_df"
   ]
  },
  {
   "cell_type": "code",
   "execution_count": null,
   "metadata": {},
   "outputs": [],
   "source": []
  }
 ],
 "metadata": {
  "accelerator": "GPU",
  "colab": {
   "collapsed_sections": [],
   "name": "AutoEncoders.ipynb",
   "provenance": [],
   "toc_visible": true
  },
  "kernelspec": {
   "display_name": "Python 3 (ipykernel)",
   "language": "python",
   "name": "python3"
  },
  "language_info": {
   "codemirror_mode": {
    "name": "ipython",
    "version": 3
   },
   "file_extension": ".py",
   "mimetype": "text/x-python",
   "name": "python",
   "nbconvert_exporter": "python",
   "pygments_lexer": "ipython3",
   "version": "3.7.3"
  }
 },
 "nbformat": 4,
 "nbformat_minor": 1
}
