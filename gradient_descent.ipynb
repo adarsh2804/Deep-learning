{
 "cells": [
  {
   "cell_type": "code",
   "execution_count": 1,
   "metadata": {},
   "outputs": [
    {
     "data": {
      "text/html": [
       "<div>\n",
       "<style scoped>\n",
       "    .dataframe tbody tr th:only-of-type {\n",
       "        vertical-align: middle;\n",
       "    }\n",
       "\n",
       "    .dataframe tbody tr th {\n",
       "        vertical-align: top;\n",
       "    }\n",
       "\n",
       "    .dataframe thead th {\n",
       "        text-align: right;\n",
       "    }\n",
       "</style>\n",
       "<table border=\"1\" class=\"dataframe\">\n",
       "  <thead>\n",
       "    <tr style=\"text-align: right;\">\n",
       "      <th></th>\n",
       "      <th>Unnamed: 0</th>\n",
       "      <th>TV</th>\n",
       "      <th>Radio</th>\n",
       "      <th>Newspaper</th>\n",
       "      <th>Sales</th>\n",
       "    </tr>\n",
       "  </thead>\n",
       "  <tbody>\n",
       "    <tr>\n",
       "      <th>0</th>\n",
       "      <td>1</td>\n",
       "      <td>230.1</td>\n",
       "      <td>37.8</td>\n",
       "      <td>69.2</td>\n",
       "      <td>22.1</td>\n",
       "    </tr>\n",
       "    <tr>\n",
       "      <th>1</th>\n",
       "      <td>2</td>\n",
       "      <td>44.5</td>\n",
       "      <td>39.3</td>\n",
       "      <td>45.1</td>\n",
       "      <td>10.4</td>\n",
       "    </tr>\n",
       "    <tr>\n",
       "      <th>2</th>\n",
       "      <td>3</td>\n",
       "      <td>17.2</td>\n",
       "      <td>45.9</td>\n",
       "      <td>69.3</td>\n",
       "      <td>9.3</td>\n",
       "    </tr>\n",
       "    <tr>\n",
       "      <th>3</th>\n",
       "      <td>4</td>\n",
       "      <td>151.5</td>\n",
       "      <td>41.3</td>\n",
       "      <td>58.5</td>\n",
       "      <td>18.5</td>\n",
       "    </tr>\n",
       "    <tr>\n",
       "      <th>4</th>\n",
       "      <td>5</td>\n",
       "      <td>180.8</td>\n",
       "      <td>10.8</td>\n",
       "      <td>58.4</td>\n",
       "      <td>12.9</td>\n",
       "    </tr>\n",
       "  </tbody>\n",
       "</table>\n",
       "</div>"
      ],
      "text/plain": [
       "   Unnamed: 0     TV  Radio  Newspaper  Sales\n",
       "0           1  230.1   37.8       69.2   22.1\n",
       "1           2   44.5   39.3       45.1   10.4\n",
       "2           3   17.2   45.9       69.3    9.3\n",
       "3           4  151.5   41.3       58.5   18.5\n",
       "4           5  180.8   10.8       58.4   12.9"
      ]
     },
     "execution_count": 1,
     "metadata": {},
     "output_type": "execute_result"
    }
   ],
   "source": [
    "import pandas as pd\n",
    "import numpy as np\n",
    "\n",
    "import warnings\n",
    "warnings.filterwarnings('ignore') \n",
    "\n",
    "sales_df = pd.read_csv( 'datasets/Advertising.csv' ) \n",
    "\n",
    "# first few records\n",
    "sales_df.head()"
   ]
  },
  {
   "cell_type": "code",
   "execution_count": 3,
   "metadata": {},
   "outputs": [],
   "source": [
    "X = sales_df[['TV', 'Radio', 'Newspaper']] \n",
    "Y = sales_df['Sales'] "
   ]
  },
  {
   "cell_type": "code",
   "execution_count": 4,
   "metadata": {},
   "outputs": [],
   "source": [
    "# Standardize X & Y\n",
    "\n",
    "Y = np.array( (Y - Y.mean() ) / Y.std() ) \n",
    "\n",
    "X = X.apply( lambda rec: ( rec - rec.mean() ) / rec.std(), axis = 0 ) "
   ]
  },
  {
   "cell_type": "code",
   "execution_count": 5,
   "metadata": {},
   "outputs": [
    {
     "data": {
      "text/html": [
       "<div>\n",
       "<style scoped>\n",
       "    .dataframe tbody tr th:only-of-type {\n",
       "        vertical-align: middle;\n",
       "    }\n",
       "\n",
       "    .dataframe tbody tr th {\n",
       "        vertical-align: top;\n",
       "    }\n",
       "\n",
       "    .dataframe thead th {\n",
       "        text-align: right;\n",
       "    }\n",
       "</style>\n",
       "<table border=\"1\" class=\"dataframe\">\n",
       "  <thead>\n",
       "    <tr style=\"text-align: right;\">\n",
       "      <th></th>\n",
       "      <th>TV</th>\n",
       "      <th>Radio</th>\n",
       "      <th>Newspaper</th>\n",
       "    </tr>\n",
       "  </thead>\n",
       "  <tbody>\n",
       "    <tr>\n",
       "      <th>0</th>\n",
       "      <td>0.967425</td>\n",
       "      <td>0.979066</td>\n",
       "      <td>1.774493</td>\n",
       "    </tr>\n",
       "    <tr>\n",
       "      <th>1</th>\n",
       "      <td>-1.194379</td>\n",
       "      <td>1.080097</td>\n",
       "      <td>0.667903</td>\n",
       "    </tr>\n",
       "    <tr>\n",
       "      <th>2</th>\n",
       "      <td>-1.512360</td>\n",
       "      <td>1.524637</td>\n",
       "      <td>1.779084</td>\n",
       "    </tr>\n",
       "    <tr>\n",
       "      <th>3</th>\n",
       "      <td>0.051919</td>\n",
       "      <td>1.214806</td>\n",
       "      <td>1.283185</td>\n",
       "    </tr>\n",
       "    <tr>\n",
       "      <th>4</th>\n",
       "      <td>0.393196</td>\n",
       "      <td>-0.839507</td>\n",
       "      <td>1.278593</td>\n",
       "    </tr>\n",
       "  </tbody>\n",
       "</table>\n",
       "</div>"
      ],
      "text/plain": [
       "         TV     Radio  Newspaper\n",
       "0  0.967425  0.979066   1.774493\n",
       "1 -1.194379  1.080097   0.667903\n",
       "2 -1.512360  1.524637   1.779084\n",
       "3  0.051919  1.214806   1.283185\n",
       "4  0.393196 -0.839507   1.278593"
      ]
     },
     "execution_count": 5,
     "metadata": {},
     "output_type": "execute_result"
    }
   ],
   "source": [
    "X.head()"
   ]
  },
  {
   "cell_type": "markdown",
   "metadata": {},
   "source": [
    "## Implementing the Gradient Descent Algorithm"
   ]
  },
  {
   "cell_type": "markdown",
   "metadata": {},
   "source": [
    "#### Step 1: Random Initialization of the bias and weights"
   ]
  },
  {
   "cell_type": "code",
   "execution_count": 10,
   "metadata": {},
   "outputs": [],
   "source": [
    "import random\n",
    "\n",
    "#dim - is the number of weights to be initialized besides the bias\n",
    "def initialize( dim ): \n",
    " # For reproducible results, the seed it set to 42.\n",
    " # Reader can comment the following two lines\n",
    " # and try other initialiazation values.\n",
    " np.random.seed(seed=42) \n",
    " random.seed(42) \n",
    " #Initialize the bias\n",
    " b = random.random() \n",
    " #Initialize the weights.\n",
    " w = np.random.rand( dim ) \n",
    " return b, w "
   ]
  },
  {
   "cell_type": "code",
   "execution_count": 11,
   "metadata": {},
   "outputs": [
    {
     "name": "stdout",
     "output_type": "stream",
     "text": [
      "Bias:  0.6394267984578837  Weights:  [0.37454012 0.95071431 0.73199394]\n"
     ]
    }
   ],
   "source": [
    "b, w = initialize( 3 ) \n",
    "print( \"Bias: \", b, \" Weights: \", w ) "
   ]
  },
  {
   "cell_type": "markdown",
   "metadata": {},
   "source": [
    "##Step 2: Predict Y values from the bias and weights"
   ]
  },
  {
   "cell_type": "code",
   "execution_count": 12,
   "metadata": {},
   "outputs": [],
   "source": [
    "# Inputs:\n",
    "# b - bias\n",
    "# w - weights\n",
    "# X - the input matrix\n",
    "def predict_Y( b, w, X ): \n",
    "    return b + np.dot( X, w ) "
   ]
  },
  {
   "cell_type": "code",
   "execution_count": 13,
   "metadata": {},
   "outputs": [
    {
     "data": {
      "text/plain": [
       "array([ 3.23149557,  1.70784873,  2.82476076,  2.75309026,  0.92448558,\n",
       "        3.17136498,  0.62234399, -0.34935444, -2.313095  , -0.76802983])"
      ]
     },
     "execution_count": 13,
     "metadata": {},
     "output_type": "execute_result"
    }
   ],
   "source": [
    "b, w = initialize( 3 ) \n",
    "Y_hat = predict_Y( b, w, X) \n",
    "Y_hat[0:10] "
   ]
  },
  {
   "cell_type": "markdown",
   "metadata": {},
   "source": [
    "##Step 3: Calculate the cost function: MSE"
   ]
  },
  {
   "cell_type": "code",
   "execution_count": 14,
   "metadata": {},
   "outputs": [],
   "source": [
    "# import math\n",
    "# Inputs\n",
    "# Y - Actual values of y\n",
    "# Y_hat - predicted value of y\n",
    "def get_cost( Y, Y_hat ): \n",
    "     # Calculating the residuals from taking difference between actual and predicted values\n",
    "    Y_resid = Y - Y_hat \n",
    "     # Matrix multiplication with self will give the square values\n",
    "     #Then takin the sum and dividing by number of examples to calculate mean\n",
    "    return np.sum( np.dot( Y_resid.T, Y_resid ) ) / len( Y_resid ) "
   ]
  },
  {
   "cell_type": "code",
   "execution_count": 15,
   "metadata": {},
   "outputs": [
    {
     "data": {
      "text/plain": [
       "1.5303100198505895"
      ]
     },
     "execution_count": 15,
     "metadata": {},
     "output_type": "execute_result"
    }
   ],
   "source": [
    "b, w = initialize( 3 ) \n",
    "Y_hat = predict_Y( b, w, X) \n",
    "get_cost( Y, Y_hat )"
   ]
  },
  {
   "cell_type": "markdown",
   "metadata": {},
   "source": [
    "##Step4: Update the bias and weights"
   ]
  },
  {
   "cell_type": "code",
   "execution_count": 16,
   "metadata": {},
   "outputs": [],
   "source": [
    "def update_beta( x, y, y_hat, b_0, w_0, learning_rate ): \n",
    " #gradient of bias\n",
    " db = (np.sum( y_hat - y ) * 2) / len(y) \n",
    " #gradient of weights\n",
    " dw = (np.dot( ( y_hat - y ), x ) * 2 ) / len(y) \n",
    " #update bias\n",
    " b_1 = b_0 - learning_rate * db \n",
    " #update beta\n",
    " w_1 = w_0 - learning_rate * dw \n",
    " #return the new bias and beta values\n",
    " return b_1, w_1 "
   ]
  },
  {
   "cell_type": "code",
   "execution_count": 17,
   "metadata": {},
   "outputs": [
    {
     "name": "stdout",
     "output_type": "stream",
     "text": [
      "After Initialization - Bias:  0.6394267984578837  Weights:  [0.37454012 0.95071431 0.73199394]\n",
      "After first update - Bias:  0.6266382624887261  Weights:  [0.38079093 0.9376953  0.71484883]\n"
     ]
    }
   ],
   "source": [
    "b, w = initialize( 3 ) \n",
    "print( \"After Initialization - Bias: \", b, \" Weights: \", w ) \n",
    "Y_hat = predict_Y( b, w, X) \n",
    "b, w = update_beta( X, Y, Y_hat, b, w, 0.01 ) \n",
    "print( \"After first update - Bias: \", b, \" Weights: \", w ) "
   ]
  },
  {
   "cell_type": "markdown",
   "metadata": {},
   "source": [
    "##Step5 Finding the optimal bias and weights"
   ]
  },
  {
   "cell_type": "code",
   "execution_count": 18,
   "metadata": {},
   "outputs": [],
   "source": [
    "def run_gradient_descent( X, Y, alpha = 0.01, num_iterations = 100): \n",
    "    # Intialize the bias and weights\n",
    "    b, w = initialize( X.shape[1] ) \n",
    "    iter_num = 0 \n",
    "    # gd_iterations_df keeps track of the cost every 10 iterations\n",
    "    gd_iterations_df = pd.DataFrame(columns = ['iteration', 'cost']) \n",
    "    result_idx = 0 \n",
    "    # Run the iterations in loop\n",
    "    for each_iter in range(num_iterations): \n",
    "        # Calcuated predicted value of y\n",
    "        Y_hat = predict_Y( b, w, X ) \n",
    "        \n",
    "        # Calculate the cost\n",
    "        this_cost = get_cost( Y, Y_hat ) \n",
    "        \n",
    "        # Save the previous bias and weights\n",
    "        prev_b = b \n",
    "        prev_w = w \n",
    "        \n",
    "        # Update and calculate the new values of bias and weights\n",
    "        b, w = update_beta( X, Y, Y_hat, prev_b, prev_w, alpha)\n",
    "        \n",
    "        # For every 10 iterations, store the cost i.e. MSE\n",
    "        if( iter_num % 10 == 0 ): \n",
    "            gd_iterations_df.loc[result_idx] = [iter_num, this_cost]\n",
    "            result_idx = result_idx + 1 \n",
    "            \n",
    "        iter_num += 1 \n",
    "        \n",
    "    print( \"Final estimate of b and w: \", b, w ) \n",
    "    \n",
    "    #return the final bias, weights and the cost at the end\n",
    "    return gd_iterations_df, b, w "
   ]
  },
  {
   "cell_type": "code",
   "execution_count": 19,
   "metadata": {},
   "outputs": [
    {
     "name": "stdout",
     "output_type": "stream",
     "text": [
      "Final estimate of b and w:  0.42844895817391493 [0.48270238 0.75265969 0.46109174]\n"
     ]
    }
   ],
   "source": [
    "gd_iterations_df, b, w = run_gradient_descent( X, Y, alpha = 0.001, num_iterations = 200 ) "
   ]
  },
  {
   "cell_type": "code",
   "execution_count": 20,
   "metadata": {},
   "outputs": [
    {
     "data": {
      "text/html": [
       "<div>\n",
       "<style scoped>\n",
       "    .dataframe tbody tr th:only-of-type {\n",
       "        vertical-align: middle;\n",
       "    }\n",
       "\n",
       "    .dataframe tbody tr th {\n",
       "        vertical-align: top;\n",
       "    }\n",
       "\n",
       "    .dataframe thead th {\n",
       "        text-align: right;\n",
       "    }\n",
       "</style>\n",
       "<table border=\"1\" class=\"dataframe\">\n",
       "  <thead>\n",
       "    <tr style=\"text-align: right;\">\n",
       "      <th></th>\n",
       "      <th>iteration</th>\n",
       "      <th>cost</th>\n",
       "    </tr>\n",
       "  </thead>\n",
       "  <tbody>\n",
       "    <tr>\n",
       "      <th>0</th>\n",
       "      <td>0.0</td>\n",
       "      <td>1.530310</td>\n",
       "    </tr>\n",
       "    <tr>\n",
       "      <th>1</th>\n",
       "      <td>10.0</td>\n",
       "      <td>1.465201</td>\n",
       "    </tr>\n",
       "    <tr>\n",
       "      <th>2</th>\n",
       "      <td>20.0</td>\n",
       "      <td>1.403145</td>\n",
       "    </tr>\n",
       "    <tr>\n",
       "      <th>3</th>\n",
       "      <td>30.0</td>\n",
       "      <td>1.343996</td>\n",
       "    </tr>\n",
       "    <tr>\n",
       "      <th>4</th>\n",
       "      <td>40.0</td>\n",
       "      <td>1.287615</td>\n",
       "    </tr>\n",
       "    <tr>\n",
       "      <th>5</th>\n",
       "      <td>50.0</td>\n",
       "      <td>1.233868</td>\n",
       "    </tr>\n",
       "    <tr>\n",
       "      <th>6</th>\n",
       "      <td>60.0</td>\n",
       "      <td>1.182630</td>\n",
       "    </tr>\n",
       "    <tr>\n",
       "      <th>7</th>\n",
       "      <td>70.0</td>\n",
       "      <td>1.133780</td>\n",
       "    </tr>\n",
       "    <tr>\n",
       "      <th>8</th>\n",
       "      <td>80.0</td>\n",
       "      <td>1.087203</td>\n",
       "    </tr>\n",
       "    <tr>\n",
       "      <th>9</th>\n",
       "      <td>90.0</td>\n",
       "      <td>1.042793</td>\n",
       "    </tr>\n",
       "  </tbody>\n",
       "</table>\n",
       "</div>"
      ],
      "text/plain": [
       "   iteration      cost\n",
       "0        0.0  1.530310\n",
       "1       10.0  1.465201\n",
       "2       20.0  1.403145\n",
       "3       30.0  1.343996\n",
       "4       40.0  1.287615\n",
       "5       50.0  1.233868\n",
       "6       60.0  1.182630\n",
       "7       70.0  1.133780\n",
       "8       80.0  1.087203\n",
       "9       90.0  1.042793"
      ]
     },
     "execution_count": 20,
     "metadata": {},
     "output_type": "execute_result"
    }
   ],
   "source": [
    "gd_iterations_df[0:10]"
   ]
  },
  {
   "cell_type": "markdown",
   "metadata": {},
   "source": [
    "### Plotting the cost function against the iterations"
   ]
  },
  {
   "cell_type": "code",
   "execution_count": 21,
   "metadata": {},
   "outputs": [],
   "source": [
    "import matplotlib.pyplot as plt\n",
    "import seaborn as sn\n",
    "%matplotlib inline"
   ]
  },
  {
   "cell_type": "code",
   "execution_count": 23,
   "metadata": {},
   "outputs": [
    {
     "data": {
      "text/plain": [
       "Text(0, 0.5, 'Cost or MSE')"
      ]
     },
     "execution_count": 23,
     "metadata": {},
     "output_type": "execute_result"
    },
    {
     "data": {
      "image/png": "[encoded data removed]",
      "text/plain": [
       "<Figure size 432x288 with 1 Axes>"
      ]
     },
     "metadata": {
      "needs_background": "light"
     },
     "output_type": "display_data"
    }
   ],
   "source": [
    "plt.plot( gd_iterations_df['iteration'], gd_iterations_df['cost'] ); \n",
    "plt.xlabel(\"Number of iterations\") \n",
    "plt.ylabel(\"Cost or MSE\")"
   ]
  },
  {
   "cell_type": "code",
   "execution_count": 24,
   "metadata": {},
   "outputs": [
    {
     "name": "stdout",
     "output_type": "stream",
     "text": [
      "Final estimates of b and w:  0.42844895817391493 [0.48270238 0.75265969 0.46109174]\n"
     ]
    }
   ],
   "source": [
    "print( \"Final estimates of b and w: \", b, w )"
   ]
  },
  {
   "cell_type": "code",
   "execution_count": 25,
   "metadata": {},
   "outputs": [
    {
     "name": "stdout",
     "output_type": "stream",
     "text": [
      "Final estimate of b and w:  2.7998165435548547e-16 [ 0.75306591  0.53648155 -0.00433069]\n"
     ]
    }
   ],
   "source": [
    "alpha_df_1, b, w = run_gradient_descent( X, Y, alpha = 0.1, num_iterations = 2000 )"
   ]
  },
  {
   "cell_type": "code",
   "execution_count": 26,
   "metadata": {},
   "outputs": [
    {
     "name": "stdout",
     "output_type": "stream",
     "text": [
      "Final estimate of b and w:  2.7728016698178713e-16 [ 0.75306591  0.53648155 -0.00433069]\n"
     ]
    }
   ],
   "source": [
    "alpha_df_2, b, w = run_gradient_descent( X, Y, alpha = 0.01, num_iterations = 2000 )"
   ]
  },
  {
   "cell_type": "code",
   "execution_count": 27,
   "metadata": {},
   "outputs": [
    {
     "name": "stdout",
     "output_type": "stream",
     "text": [
      "Final estimate of b and w:  0.011664695556930518 [0.74315125 0.52779959 0.01171703]\n"
     ]
    }
   ],
   "source": [
    "#change the learning parameter and use smaller value e.g. 0.001.\n",
    "alpha_df_3, b, w = run_gradient_descent( X, Y, alpha = 0.001, num_iterations = 2000 ) "
   ]
  },
  {
   "cell_type": "code",
   "execution_count": 28,
   "metadata": {},
   "outputs": [
    {
     "name": "stdout",
     "output_type": "stream",
     "text": [
      "Final estimate of b and w:  2.7761821701419657e-16 [ 0.75306591  0.53648155 -0.00433069]\n"
     ]
    }
   ],
   "source": [
    "alpha_df_4, b, w = run_gradient_descent( X, Y, alpha = 0.001, num_iterations = 20000 ) "
   ]
  },
  {
   "cell_type": "code",
   "execution_count": 30,
   "metadata": {},
   "outputs": [
    {
     "data": {
      "image/png": "[encoded data removed]",
      "text/plain": [
       "<Figure size 432x288 with 1 Axes>"
      ]
     },
     "metadata": {
      "needs_background": "light"
     },
     "output_type": "display_data"
    }
   ],
   "source": [
    "plt.plot( alpha_df_1['iteration'], alpha_df_1['cost'], label = \"alpha = 0.1\" );\n",
    "plt.plot( alpha_df_2['iteration'], alpha_df_2['cost'], label = \"alpha = 0.01\" ); \n",
    "plt.plot( alpha_df_3['iteration'], alpha_df_3['cost'], label = \"alpha = 0.001\" ); \n",
    "# plt.plot( alpha_df_4['iteration'], alpha_df_4['cost'], label = \"alpha = 0.001 and iter=20000\" ); \n",
    "plt.legend() \n",
    "plt.ylabel('Cost'); \n",
    "plt.xlabel('Number of Iterations'); \n",
    "plt.title('Cost Vs. Iterations for different alpha values'); "
   ]
  },
  {
   "cell_type": "code",
   "execution_count": 31,
   "metadata": {},
   "outputs": [],
   "source": [
    "from sklearn.model_selection import train_test_split \n",
    "X_train, X_test, y_train, y_test = train_test_split( sales_df[[\"TV\", \"Radio\", \"Newspaper\"]], sales_df.Sales, test_size=0.3, \n",
    "random_state = 42 ) # Seed value of 42 for reproducibility"
   ]
  },
  {
   "cell_type": "code",
   "execution_count": 32,
   "metadata": {},
   "outputs": [
    {
     "data": {
      "text/plain": [
       "140"
      ]
     },
     "execution_count": 32,
     "metadata": {},
     "output_type": "execute_result"
    }
   ],
   "source": [
    "#Building Linear Regression model with train dataset\n",
    "len( X_train ) "
   ]
  },
  {
   "cell_type": "code",
   "execution_count": 33,
   "metadata": {},
   "outputs": [
    {
     "data": {
      "text/plain": [
       "60"
      ]
     },
     "execution_count": 33,
     "metadata": {},
     "output_type": "execute_result"
    }
   ],
   "source": [
    "len( X_test) "
   ]
  },
  {
   "cell_type": "code",
   "execution_count": 34,
   "metadata": {},
   "outputs": [
    {
     "data": {
      "text/plain": [
       "LinearRegression()"
      ]
     },
     "execution_count": 34,
     "metadata": {},
     "output_type": "execute_result"
    }
   ],
   "source": [
    "from sklearn.linear_model import LinearRegression\n",
    "## Initiliazing the model\n",
    "linreg = LinearRegression() \n",
    "# Fitting training data to the model\n",
    "linreg.fit( X_train, y_train ) "
   ]
  },
  {
   "cell_type": "code",
   "execution_count": 35,
   "metadata": {},
   "outputs": [
    {
     "data": {
      "text/plain": [
       "2.708949092515912"
      ]
     },
     "execution_count": 35,
     "metadata": {},
     "output_type": "execute_result"
    }
   ],
   "source": [
    "linreg.intercept_ "
   ]
  },
  {
   "cell_type": "code",
   "execution_count": 36,
   "metadata": {},
   "outputs": [
    {
     "data": {
      "text/plain": [
       "array([0.04405928, 0.1992875 , 0.00688245])"
      ]
     },
     "execution_count": 36,
     "metadata": {},
     "output_type": "execute_result"
    }
   ],
   "source": [
    "linreg.coef_ "
   ]
  },
  {
   "cell_type": "code",
   "execution_count": 50,
   "metadata": {},
   "outputs": [
    {
     "data": {
      "text/plain": [
       "[('TV', 0.0440592809574652),\n",
       " ('Radio', 0.1992874968989395),\n",
       " ('Newspaper', 0.0068824522222754)]"
      ]
     },
     "execution_count": 50,
     "metadata": {},
     "output_type": "execute_result"
    }
   ],
   "source": [
    "list( zip( [\"TV\", \"Radio\", \"Newspaper\"], list( linreg.coef_ ) ) )"
   ]
  },
  {
   "cell_type": "code",
   "execution_count": 51,
   "metadata": {},
   "outputs": [],
   "source": [
    "# Predicting the y value from the test set\n",
    "y_pred = linreg.predict( X_test )"
   ]
  },
  {
   "cell_type": "code",
   "execution_count": 52,
   "metadata": {},
   "outputs": [
    {
     "data": {
      "text/html": [
       "<div>\n",
       "<style scoped>\n",
       "    .dataframe tbody tr th:only-of-type {\n",
       "        vertical-align: middle;\n",
       "    }\n",
       "\n",
       "    .dataframe tbody tr th {\n",
       "        vertical-align: top;\n",
       "    }\n",
       "\n",
       "    .dataframe thead th {\n",
       "        text-align: right;\n",
       "    }\n",
       "</style>\n",
       "<table border=\"1\" class=\"dataframe\">\n",
       "  <thead>\n",
       "    <tr style=\"text-align: right;\">\n",
       "      <th></th>\n",
       "      <th>actual</th>\n",
       "      <th>predicted</th>\n",
       "      <th>residuals</th>\n",
       "    </tr>\n",
       "  </thead>\n",
       "  <tbody>\n",
       "    <tr>\n",
       "      <th>126</th>\n",
       "      <td>6.6</td>\n",
       "      <td>11.15</td>\n",
       "      <td>-4.553147</td>\n",
       "    </tr>\n",
       "    <tr>\n",
       "      <th>170</th>\n",
       "      <td>8.4</td>\n",
       "      <td>7.35</td>\n",
       "      <td>1.049715</td>\n",
       "    </tr>\n",
       "    <tr>\n",
       "      <th>95</th>\n",
       "      <td>16.9</td>\n",
       "      <td>16.57</td>\n",
       "      <td>0.334604</td>\n",
       "    </tr>\n",
       "    <tr>\n",
       "      <th>195</th>\n",
       "      <td>7.6</td>\n",
       "      <td>5.22</td>\n",
       "      <td>2.375645</td>\n",
       "    </tr>\n",
       "    <tr>\n",
       "      <th>115</th>\n",
       "      <td>12.6</td>\n",
       "      <td>13.36</td>\n",
       "      <td>-0.755569</td>\n",
       "    </tr>\n",
       "    <tr>\n",
       "      <th>38</th>\n",
       "      <td>10.1</td>\n",
       "      <td>10.17</td>\n",
       "      <td>-0.070454</td>\n",
       "    </tr>\n",
       "    <tr>\n",
       "      <th>56</th>\n",
       "      <td>5.5</td>\n",
       "      <td>8.92</td>\n",
       "      <td>-3.415494</td>\n",
       "    </tr>\n",
       "    <tr>\n",
       "      <th>165</th>\n",
       "      <td>11.9</td>\n",
       "      <td>14.30</td>\n",
       "      <td>-2.402060</td>\n",
       "    </tr>\n",
       "    <tr>\n",
       "      <th>173</th>\n",
       "      <td>11.7</td>\n",
       "      <td>11.63</td>\n",
       "      <td>0.068431</td>\n",
       "    </tr>\n",
       "    <tr>\n",
       "      <th>9</th>\n",
       "      <td>10.6</td>\n",
       "      <td>12.18</td>\n",
       "      <td>-1.576049</td>\n",
       "    </tr>\n",
       "  </tbody>\n",
       "</table>\n",
       "</div>"
      ],
      "text/plain": [
       "     actual  predicted  residuals\n",
       "126     6.6      11.15  -4.553147\n",
       "170     8.4       7.35   1.049715\n",
       "95     16.9      16.57   0.334604\n",
       "195     7.6       5.22   2.375645\n",
       "115    12.6      13.36  -0.755569\n",
       "38     10.1      10.17  -0.070454\n",
       "56      5.5       8.92  -3.415494\n",
       "165    11.9      14.30  -2.402060\n",
       "173    11.7      11.63   0.068431\n",
       "9      10.6      12.18  -1.576049"
      ]
     },
     "execution_count": 52,
     "metadata": {},
     "output_type": "execute_result"
    }
   ],
   "source": [
    "# Creating a DataFrame with three columns named actual, predicted and residuals to store\n",
    "# the respective values\n",
    "test_pred_df = pd.DataFrame( { 'actual': y_test, 'predicted': np.round( y_pred, 2), 'residuals': y_test - y_pred } ) \n",
    "# Randomly showing the 10 observations from the DataFrame\n",
    "test_pred_df.sample(10)"
   ]
  },
  {
   "cell_type": "code",
   "execution_count": 53,
   "metadata": {},
   "outputs": [],
   "source": [
    "## Importing metrics from sklearn\n",
    "from sklearn import metrics"
   ]
  },
  {
   "cell_type": "code",
   "execution_count": 54,
   "metadata": {},
   "outputs": [
    {
     "name": "stdout",
     "output_type": "stream",
     "text": [
      "R Sqaured:  0.9055159502227753\n"
     ]
    }
   ],
   "source": [
    "## y_train contain the actual value and the predicted value is returned from\n",
    "# predict() method after passing the X values of the training data.\n",
    "r2 = metrics.r2_score( y_train, linreg.predict(X_train) ) \n",
    "print(\"R Sqaured: \", r2) "
   ]
  },
  {
   "cell_type": "code",
   "execution_count": 55,
   "metadata": {},
   "outputs": [],
   "source": [
    "# y_pred contains predicted value of test data\n",
    "mse = metrics.mean_squared_error( y_test, y_pred ) "
   ]
  },
  {
   "cell_type": "code",
   "execution_count": 56,
   "metadata": {},
   "outputs": [
    {
     "name": "stdout",
     "output_type": "stream",
     "text": [
      "RMSE:  1.95\n"
     ]
    }
   ],
   "source": [
    "# Taking square root of MSE and then round off to two decimal values\n",
    "rmse = round( np.sqrt(mse), 2 ) \n",
    "print(\"RMSE Test: \", rmse) "
   ]
  },
  {
   "cell_type": "code",
   "execution_count": 58,
   "metadata": {},
   "outputs": [],
   "source": [
    "# y_pred contains predicted value of train data\n",
    "mse = metrics.mean_squared_error( y_train, linreg.predict(X_train) ) "
   ]
  },
  {
   "cell_type": "code",
   "execution_count": 59,
   "metadata": {},
   "outputs": [
    {
     "name": "stdout",
     "output_type": "stream",
     "text": [
      "RMSE:  1.57\n"
     ]
    }
   ],
   "source": [
    "# Taking square root of MSE and then round off to two decimal values\n",
    "rmse = round( np.sqrt(mse), 2 ) \n",
    "print(\"RMSE Train: \", rmse) "
   ]
  },
  {
   "cell_type": "code",
   "execution_count": null,
   "metadata": {},
   "outputs": [],
   "source": []
  }
 ],
 "metadata": {
  "kernelspec": {
   "display_name": "Python 3",
   "language": "python",
   "name": "python3"
  },
  "language_info": {
   "codemirror_mode": {
    "name": "ipython",
    "version": 3
   },
   "file_extension": ".py",
   "mimetype": "text/x-python",
   "name": "python",
   "nbconvert_exporter": "python",
   "pygments_lexer": "ipython3",
   "version": "3.8.5"
  }
 },
 "nbformat": 4,
 "nbformat_minor": 4
}
